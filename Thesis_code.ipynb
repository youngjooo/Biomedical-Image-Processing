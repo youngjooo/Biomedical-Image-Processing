{
  "nbformat": 4,
  "nbformat_minor": 0,
  "metadata": {
    "colab": {
      "name": "박영주 논문 코드",
      "provenance": [],
      "collapsed_sections": [],
      "include_colab_link": true
    },
    "kernelspec": {
      "display_name": "Python 3",
      "language": "python",
      "name": "python3"
    },
    "language_info": {
      "codemirror_mode": {
        "name": "ipython",
        "version": 3
      },
      "file_extension": ".py",
      "mimetype": "text/x-python",
      "name": "python",
      "nbconvert_exporter": "python",
      "pygments_lexer": "ipython3",
      "version": "3.6.4"
    }
  },
  "cells": [
    {
      "cell_type": "markdown",
      "metadata": {
        "id": "view-in-github",
        "colab_type": "text"
      },
      "source": [
        "<a href=\"https://colab.research.google.com/github/youngjooo/Biomedical-Image-Processing/blob/main/Thesis_code.ipynb\" target=\"_parent\"><img src=\"https://colab.research.google.com/assets/colab-badge.svg\" alt=\"Open In Colab\"/></a>"
      ]
    },
    {
      "cell_type": "markdown",
      "metadata": {
        "id": "W6fJ3b9QD_9a"
      },
      "source": [
        "---\n",
        "# **[Python code]**\n",
        "\n",
        "* 논문 주제 : 다중 출력 회귀 및 분류를 이용한 알츠하이머병 종적 진화 예측\n",
        "* 작성자 : 박영주\n",
        "\n",
        "---"
      ]
    },
    {
      "cell_type": "code",
      "metadata": {
        "id": "wStZFhkP0oiW"
      },
      "source": [
        "import os\n",
        "import pandas as pd\n",
        "import numpy as np\n",
        "import matplotlib.pyplot as plt\n",
        "import csv\n",
        "from sklearn.model_selection import train_test_split"
      ],
      "execution_count": null,
      "outputs": []
    },
    {
      "cell_type": "code",
      "metadata": {
        "id": "hP3FbAmjZJWF"
      },
      "source": [
        "np.random.seed(0)"
      ],
      "execution_count": null,
      "outputs": []
    },
    {
      "cell_type": "markdown",
      "metadata": {
        "id": "sL-WIKzpphlK"
      },
      "source": [
        "**Load TADPOLE* dataset (csv file) from Google Drive**\n",
        "-------------------------------------------------------\n",
        "*The Alzheimer's Disease Prediction Of Longitudinal Evolution\n",
        "(https://tadpole.grand-challenge.org/)\n",
        "\n",
        "### -Subjects: 1363 (1090 Train (80%) + 273 Test (20%))\n",
        "\n",
        "\n",
        "### -Features: 75\n",
        "*   2 demographic feature: MMSE, ADAS13\n",
        "*   70 mean values of cortical thickness\n",
        "*   3 etc: RID, DXCHANGE, AGE"
      ]
    },
    {
      "cell_type": "code",
      "metadata": {
        "colab": {
          "base_uri": "https://localhost:8080/",
          "height": 445
        },
        "id": "iS_uk0HaweJH",
        "outputId": "a090cd39-d41f-46d1-b2b1-d0c5ca40ea10"
      },
      "source": [
        "from google.colab import drive\n",
        "drive.mount('/content/gdrive')\n",
        "\n",
        "csv_file_train = '/content/gdrive/MyDrive/Colab Notebooks/ad_data.csv'  # Set file path\n",
        "original_data = pd.read_csv(csv_file_train)\n",
        "original_data\n",
        "\n",
        "# DXCHANGE: clinical label (1-CN, 2-MCI, 3-AD)"
      ],
      "execution_count": null,
      "outputs": [
        {
          "output_type": "stream",
          "name": "stdout",
          "text": [
            "Drive already mounted at /content/gdrive; to attempt to forcibly remount, call drive.mount(\"/content/gdrive\", force_remount=True).\n"
          ]
        },
        {
          "output_type": "execute_result",
          "data": {
            "text/html": [
              "<div>\n",
              "<style scoped>\n",
              "    .dataframe tbody tr th:only-of-type {\n",
              "        vertical-align: middle;\n",
              "    }\n",
              "\n",
              "    .dataframe tbody tr th {\n",
              "        vertical-align: top;\n",
              "    }\n",
              "\n",
              "    .dataframe thead th {\n",
              "        text-align: right;\n",
              "    }\n",
              "</style>\n",
              "<table border=\"1\" class=\"dataframe\">\n",
              "  <thead>\n",
              "    <tr style=\"text-align: right;\">\n",
              "      <th></th>\n",
              "      <th>RID</th>\n",
              "      <th>DXCHANGE</th>\n",
              "      <th>AGE</th>\n",
              "      <th>MMSE</th>\n",
              "      <th>ADAS13</th>\n",
              "      <th>ST102TA_UCSFFSX_11_02_15_UCSFFSX51_08_01_16</th>\n",
              "      <th>ST103TA_UCSFFSX_11_02_15_UCSFFSX51_08_01_16</th>\n",
              "      <th>ST104TA_UCSFFSX_11_02_15_UCSFFSX51_08_01_16</th>\n",
              "      <th>ST105TA_UCSFFSX_11_02_15_UCSFFSX51_08_01_16</th>\n",
              "      <th>ST106TA_UCSFFSX_11_02_15_UCSFFSX51_08_01_16</th>\n",
              "      <th>ST107TA_UCSFFSX_11_02_15_UCSFFSX51_08_01_16</th>\n",
              "      <th>ST108TA_UCSFFSX_11_02_15_UCSFFSX51_08_01_16</th>\n",
              "      <th>ST109TA_UCSFFSX_11_02_15_UCSFFSX51_08_01_16</th>\n",
              "      <th>ST110TA_UCSFFSX_11_02_15_UCSFFSX51_08_01_16</th>\n",
              "      <th>ST111TA_UCSFFSX_11_02_15_UCSFFSX51_08_01_16</th>\n",
              "      <th>ST113TA_UCSFFSX_11_02_15_UCSFFSX51_08_01_16</th>\n",
              "      <th>ST114TA_UCSFFSX_11_02_15_UCSFFSX51_08_01_16</th>\n",
              "      <th>ST115TA_UCSFFSX_11_02_15_UCSFFSX51_08_01_16</th>\n",
              "      <th>ST116TA_UCSFFSX_11_02_15_UCSFFSX51_08_01_16</th>\n",
              "      <th>ST117TA_UCSFFSX_11_02_15_UCSFFSX51_08_01_16</th>\n",
              "      <th>ST118TA_UCSFFSX_11_02_15_UCSFFSX51_08_01_16</th>\n",
              "      <th>ST119TA_UCSFFSX_11_02_15_UCSFFSX51_08_01_16</th>\n",
              "      <th>ST121TA_UCSFFSX_11_02_15_UCSFFSX51_08_01_16</th>\n",
              "      <th>ST123TA_UCSFFSX_11_02_15_UCSFFSX51_08_01_16</th>\n",
              "      <th>ST129TA_UCSFFSX_11_02_15_UCSFFSX51_08_01_16</th>\n",
              "      <th>ST130TA_UCSFFSX_11_02_15_UCSFFSX51_08_01_16</th>\n",
              "      <th>ST13TA_UCSFFSX_11_02_15_UCSFFSX51_08_01_16</th>\n",
              "      <th>ST14TA_UCSFFSX_11_02_15_UCSFFSX51_08_01_16</th>\n",
              "      <th>ST15TA_UCSFFSX_11_02_15_UCSFFSX51_08_01_16</th>\n",
              "      <th>ST23TA_UCSFFSX_11_02_15_UCSFFSX51_08_01_16</th>\n",
              "      <th>ST24TA_UCSFFSX_11_02_15_UCSFFSX51_08_01_16</th>\n",
              "      <th>ST25TA_UCSFFSX_11_02_15_UCSFFSX51_08_01_16</th>\n",
              "      <th>ST26TA_UCSFFSX_11_02_15_UCSFFSX51_08_01_16</th>\n",
              "      <th>ST31TA_UCSFFSX_11_02_15_UCSFFSX51_08_01_16</th>\n",
              "      <th>ST32TA_UCSFFSX_11_02_15_UCSFFSX51_08_01_16</th>\n",
              "      <th>ST34TA_UCSFFSX_11_02_15_UCSFFSX51_08_01_16</th>\n",
              "      <th>ST35TA_UCSFFSX_11_02_15_UCSFFSX51_08_01_16</th>\n",
              "      <th>ST36TA_UCSFFSX_11_02_15_UCSFFSX51_08_01_16</th>\n",
              "      <th>ST38TA_UCSFFSX_11_02_15_UCSFFSX51_08_01_16</th>\n",
              "      <th>ST39TA_UCSFFSX_11_02_15_UCSFFSX51_08_01_16</th>\n",
              "      <th>ST40TA_UCSFFSX_11_02_15_UCSFFSX51_08_01_16</th>\n",
              "      <th>ST43TA_UCSFFSX_11_02_15_UCSFFSX51_08_01_16</th>\n",
              "      <th>ST44TA_UCSFFSX_11_02_15_UCSFFSX51_08_01_16</th>\n",
              "      <th>ST45TA_UCSFFSX_11_02_15_UCSFFSX51_08_01_16</th>\n",
              "      <th>ST46TA_UCSFFSX_11_02_15_UCSFFSX51_08_01_16</th>\n",
              "      <th>ST47TA_UCSFFSX_11_02_15_UCSFFSX51_08_01_16</th>\n",
              "      <th>ST48TA_UCSFFSX_11_02_15_UCSFFSX51_08_01_16</th>\n",
              "      <th>ST49TA_UCSFFSX_11_02_15_UCSFFSX51_08_01_16</th>\n",
              "      <th>ST50TA_UCSFFSX_11_02_15_UCSFFSX51_08_01_16</th>\n",
              "      <th>ST51TA_UCSFFSX_11_02_15_UCSFFSX51_08_01_16</th>\n",
              "      <th>ST52TA_UCSFFSX_11_02_15_UCSFFSX51_08_01_16</th>\n",
              "      <th>ST54TA_UCSFFSX_11_02_15_UCSFFSX51_08_01_16</th>\n",
              "      <th>ST55TA_UCSFFSX_11_02_15_UCSFFSX51_08_01_16</th>\n",
              "      <th>ST56TA_UCSFFSX_11_02_15_UCSFFSX51_08_01_16</th>\n",
              "      <th>ST57TA_UCSFFSX_11_02_15_UCSFFSX51_08_01_16</th>\n",
              "      <th>ST58TA_UCSFFSX_11_02_15_UCSFFSX51_08_01_16</th>\n",
              "      <th>ST59TA_UCSFFSX_11_02_15_UCSFFSX51_08_01_16</th>\n",
              "      <th>ST60TA_UCSFFSX_11_02_15_UCSFFSX51_08_01_16</th>\n",
              "      <th>ST62TA_UCSFFSX_11_02_15_UCSFFSX51_08_01_16</th>\n",
              "      <th>ST64TA_UCSFFSX_11_02_15_UCSFFSX51_08_01_16</th>\n",
              "      <th>ST72TA_UCSFFSX_11_02_15_UCSFFSX51_08_01_16</th>\n",
              "      <th>ST73TA_UCSFFSX_11_02_15_UCSFFSX51_08_01_16</th>\n",
              "      <th>ST74TA_UCSFFSX_11_02_15_UCSFFSX51_08_01_16</th>\n",
              "      <th>ST82TA_UCSFFSX_11_02_15_UCSFFSX51_08_01_16</th>\n",
              "      <th>ST83TA_UCSFFSX_11_02_15_UCSFFSX51_08_01_16</th>\n",
              "      <th>ST84TA_UCSFFSX_11_02_15_UCSFFSX51_08_01_16</th>\n",
              "      <th>ST85TA_UCSFFSX_11_02_15_UCSFFSX51_08_01_16</th>\n",
              "      <th>ST90TA_UCSFFSX_11_02_15_UCSFFSX51_08_01_16</th>\n",
              "      <th>ST91TA_UCSFFSX_11_02_15_UCSFFSX51_08_01_16</th>\n",
              "      <th>ST93TA_UCSFFSX_11_02_15_UCSFFSX51_08_01_16</th>\n",
              "      <th>ST94TA_UCSFFSX_11_02_15_UCSFFSX51_08_01_16</th>\n",
              "      <th>ST95TA_UCSFFSX_11_02_15_UCSFFSX51_08_01_16</th>\n",
              "      <th>ST97TA_UCSFFSX_11_02_15_UCSFFSX51_08_01_16</th>\n",
              "      <th>ST98TA_UCSFFSX_11_02_15_UCSFFSX51_08_01_16</th>\n",
              "      <th>ST99TA_UCSFFSX_11_02_15_UCSFFSX51_08_01_16</th>\n",
              "    </tr>\n",
              "  </thead>\n",
              "  <tbody>\n",
              "    <tr>\n",
              "      <th>0</th>\n",
              "      <td>4084</td>\n",
              "      <td>1</td>\n",
              "      <td>68.4</td>\n",
              "      <td>30</td>\n",
              "      <td>10.00</td>\n",
              "      <td>2.700</td>\n",
              "      <td>2.635</td>\n",
              "      <td>2.613</td>\n",
              "      <td>2.904</td>\n",
              "      <td>2.311</td>\n",
              "      <td>1.647</td>\n",
              "      <td>2.139</td>\n",
              "      <td>2.652</td>\n",
              "      <td>2.604</td>\n",
              "      <td>2.480</td>\n",
              "      <td>3.095</td>\n",
              "      <td>2.144</td>\n",
              "      <td>2.792</td>\n",
              "      <td>2.207</td>\n",
              "      <td>2.903</td>\n",
              "      <td>2.617</td>\n",
              "      <td>4.117</td>\n",
              "      <td>2.701</td>\n",
              "      <td></td>\n",
              "      <td>3.127</td>\n",
              "      <td>3.051</td>\n",
              "      <td>2.305</td>\n",
              "      <td>2.872</td>\n",
              "      <td>2.732</td>\n",
              "      <td>2.026</td>\n",
              "      <td>3.756</td>\n",
              "      <td>2.813</td>\n",
              "      <td>2.762</td>\n",
              "      <td>2.556</td>\n",
              "      <td>2.916</td>\n",
              "      <td>2.695</td>\n",
              "      <td>2.259</td>\n",
              "      <td>2.690</td>\n",
              "      <td>2.017</td>\n",
              "      <td>2.421</td>\n",
              "      <td>2.949</td>\n",
              "      <td>2.570</td>\n",
              "      <td>2.370</td>\n",
              "      <td>2.674</td>\n",
              "      <td>3.004</td>\n",
              "      <td>2.369</td>\n",
              "      <td>1.599</td>\n",
              "      <td>2.208</td>\n",
              "      <td>2.650</td>\n",
              "      <td>2.739</td>\n",
              "      <td>2.544</td>\n",
              "      <td>3.018</td>\n",
              "      <td>2.377</td>\n",
              "      <td>2.880</td>\n",
              "      <td>2.322</td>\n",
              "      <td>2.657</td>\n",
              "      <td>2.489</td>\n",
              "      <td>3.620</td>\n",
              "      <td>2.711</td>\n",
              "      <td></td>\n",
              "      <td>2.593</td>\n",
              "      <td>2.792</td>\n",
              "      <td>2.660</td>\n",
              "      <td>1.993</td>\n",
              "      <td>3.734</td>\n",
              "      <td>2.390</td>\n",
              "      <td>2.817</td>\n",
              "      <td>2.471</td>\n",
              "      <td>2.990</td>\n",
              "      <td>2.667</td>\n",
              "      <td>2.490</td>\n",
              "      <td>2.523</td>\n",
              "      <td>2.254</td>\n",
              "      <td>2.171</td>\n",
              "      <td>2.862</td>\n",
              "    </tr>\n",
              "    <tr>\n",
              "      <th>1</th>\n",
              "      <td>2196</td>\n",
              "      <td>2</td>\n",
              "      <td>68.2</td>\n",
              "      <td>30</td>\n",
              "      <td>13.00</td>\n",
              "      <td>2.453</td>\n",
              "      <td>2.992</td>\n",
              "      <td>2.470</td>\n",
              "      <td>2.965</td>\n",
              "      <td>2.438</td>\n",
              "      <td>1.584</td>\n",
              "      <td>1.910</td>\n",
              "      <td>2.900</td>\n",
              "      <td>2.451</td>\n",
              "      <td>2.335</td>\n",
              "      <td>2.771</td>\n",
              "      <td>2.354</td>\n",
              "      <td>2.712</td>\n",
              "      <td>2.001</td>\n",
              "      <td>2.729</td>\n",
              "      <td>2.363</td>\n",
              "      <td>3.613</td>\n",
              "      <td>2.475</td>\n",
              "      <td></td>\n",
              "      <td>3.196</td>\n",
              "      <td>3.334</td>\n",
              "      <td>2.343</td>\n",
              "      <td>2.729</td>\n",
              "      <td>2.627</td>\n",
              "      <td>1.742</td>\n",
              "      <td>3.383</td>\n",
              "      <td>2.647</td>\n",
              "      <td>2.758</td>\n",
              "      <td>2.394</td>\n",
              "      <td>2.634</td>\n",
              "      <td>2.334</td>\n",
              "      <td>2.241</td>\n",
              "      <td>2.824</td>\n",
              "      <td>1.865</td>\n",
              "      <td>2.383</td>\n",
              "      <td>2.866</td>\n",
              "      <td>2.334</td>\n",
              "      <td>2.793</td>\n",
              "      <td>2.413</td>\n",
              "      <td>2.874</td>\n",
              "      <td>2.316</td>\n",
              "      <td>1.478</td>\n",
              "      <td>1.909</td>\n",
              "      <td>2.780</td>\n",
              "      <td>2.589</td>\n",
              "      <td>2.133</td>\n",
              "      <td>3.036</td>\n",
              "      <td>2.329</td>\n",
              "      <td>2.687</td>\n",
              "      <td>2.070</td>\n",
              "      <td>2.783</td>\n",
              "      <td>2.594</td>\n",
              "      <td>3.405</td>\n",
              "      <td>2.367</td>\n",
              "      <td></td>\n",
              "      <td>2.582</td>\n",
              "      <td>2.977</td>\n",
              "      <td>2.489</td>\n",
              "      <td>1.868</td>\n",
              "      <td>3.220</td>\n",
              "      <td>2.683</td>\n",
              "      <td>2.569</td>\n",
              "      <td>2.372</td>\n",
              "      <td>2.854</td>\n",
              "      <td>2.867</td>\n",
              "      <td>2.233</td>\n",
              "      <td>2.793</td>\n",
              "      <td>1.987</td>\n",
              "      <td>2.428</td>\n",
              "      <td>2.943</td>\n",
              "    </tr>\n",
              "    <tr>\n",
              "      <th>2</th>\n",
              "      <td>657</td>\n",
              "      <td>1</td>\n",
              "      <td>77.7</td>\n",
              "      <td>29</td>\n",
              "      <td>15.33</td>\n",
              "      <td>2.249</td>\n",
              "      <td>2.296</td>\n",
              "      <td>2.315</td>\n",
              "      <td>2.681</td>\n",
              "      <td>2.420</td>\n",
              "      <td>1.386</td>\n",
              "      <td>1.830</td>\n",
              "      <td>2.466</td>\n",
              "      <td>2.327</td>\n",
              "      <td>2.193</td>\n",
              "      <td>2.415</td>\n",
              "      <td>2.270</td>\n",
              "      <td>2.559</td>\n",
              "      <td>2.008</td>\n",
              "      <td>2.495</td>\n",
              "      <td>2.418</td>\n",
              "      <td>4.210</td>\n",
              "      <td>2.167</td>\n",
              "      <td>1.08</td>\n",
              "      <td>3.362</td>\n",
              "      <td>3.077</td>\n",
              "      <td>2.648</td>\n",
              "      <td>2.759</td>\n",
              "      <td>2.442</td>\n",
              "      <td>1.717</td>\n",
              "      <td>2.886</td>\n",
              "      <td>2.380</td>\n",
              "      <td>2.737</td>\n",
              "      <td>2.402</td>\n",
              "      <td>3.012</td>\n",
              "      <td>2.418</td>\n",
              "      <td>2.056</td>\n",
              "      <td>2.805</td>\n",
              "      <td>1.950</td>\n",
              "      <td>2.318</td>\n",
              "      <td>3.025</td>\n",
              "      <td>2.270</td>\n",
              "      <td>1.831</td>\n",
              "      <td>2.507</td>\n",
              "      <td>2.908</td>\n",
              "      <td>2.335</td>\n",
              "      <td>1.389</td>\n",
              "      <td>1.765</td>\n",
              "      <td>2.397</td>\n",
              "      <td>2.187</td>\n",
              "      <td>2.188</td>\n",
              "      <td>2.889</td>\n",
              "      <td>2.318</td>\n",
              "      <td>2.504</td>\n",
              "      <td>2.028</td>\n",
              "      <td>2.657</td>\n",
              "      <td>2.309</td>\n",
              "      <td>3.880</td>\n",
              "      <td>1.832</td>\n",
              "      <td>1.1</td>\n",
              "      <td>2.338</td>\n",
              "      <td>2.343</td>\n",
              "      <td>2.363</td>\n",
              "      <td>1.601</td>\n",
              "      <td>3.683</td>\n",
              "      <td>2.786</td>\n",
              "      <td>2.385</td>\n",
              "      <td>2.365</td>\n",
              "      <td>2.784</td>\n",
              "      <td>2.415</td>\n",
              "      <td>2.252</td>\n",
              "      <td>2.583</td>\n",
              "      <td>1.850</td>\n",
              "      <td>2.488</td>\n",
              "      <td>2.828</td>\n",
              "    </tr>\n",
              "    <tr>\n",
              "      <th>3</th>\n",
              "      <td>4526</td>\n",
              "      <td>3</td>\n",
              "      <td>79.4</td>\n",
              "      <td>22</td>\n",
              "      <td>24.00</td>\n",
              "      <td>2.197</td>\n",
              "      <td>2.289</td>\n",
              "      <td>2.258</td>\n",
              "      <td>2.413</td>\n",
              "      <td>2.124</td>\n",
              "      <td>1.473</td>\n",
              "      <td>1.729</td>\n",
              "      <td>2.680</td>\n",
              "      <td>2.184</td>\n",
              "      <td>2.144</td>\n",
              "      <td>2.680</td>\n",
              "      <td>2.218</td>\n",
              "      <td>2.407</td>\n",
              "      <td>1.923</td>\n",
              "      <td>2.542</td>\n",
              "      <td>2.296</td>\n",
              "      <td>3.135</td>\n",
              "      <td>2.157</td>\n",
              "      <td></td>\n",
              "      <td>2.671</td>\n",
              "      <td>2.925</td>\n",
              "      <td>2.288</td>\n",
              "      <td>3.322</td>\n",
              "      <td>2.336</td>\n",
              "      <td>1.691</td>\n",
              "      <td>2.399</td>\n",
              "      <td>2.940</td>\n",
              "      <td>2.178</td>\n",
              "      <td>2.079</td>\n",
              "      <td>2.411</td>\n",
              "      <td>2.083</td>\n",
              "      <td>1.904</td>\n",
              "      <td>2.400</td>\n",
              "      <td>1.750</td>\n",
              "      <td>2.122</td>\n",
              "      <td>2.493</td>\n",
              "      <td>2.122</td>\n",
              "      <td>2.244</td>\n",
              "      <td>2.399</td>\n",
              "      <td>2.308</td>\n",
              "      <td>2.073</td>\n",
              "      <td>1.506</td>\n",
              "      <td>1.777</td>\n",
              "      <td>2.334</td>\n",
              "      <td>2.319</td>\n",
              "      <td>2.087</td>\n",
              "      <td>2.560</td>\n",
              "      <td>2.056</td>\n",
              "      <td>2.410</td>\n",
              "      <td>2.058</td>\n",
              "      <td>2.403</td>\n",
              "      <td>2.269</td>\n",
              "      <td>3.085</td>\n",
              "      <td>2.080</td>\n",
              "      <td></td>\n",
              "      <td>2.503</td>\n",
              "      <td>2.784</td>\n",
              "      <td>2.372</td>\n",
              "      <td>1.757</td>\n",
              "      <td>2.651</td>\n",
              "      <td>2.665</td>\n",
              "      <td>2.578</td>\n",
              "      <td>2.305</td>\n",
              "      <td>2.514</td>\n",
              "      <td>2.515</td>\n",
              "      <td>2.050</td>\n",
              "      <td>2.537</td>\n",
              "      <td>1.958</td>\n",
              "      <td>2.455</td>\n",
              "      <td>2.591</td>\n",
              "    </tr>\n",
              "    <tr>\n",
              "      <th>4</th>\n",
              "      <td>362</td>\n",
              "      <td>2</td>\n",
              "      <td>70.5</td>\n",
              "      <td>24</td>\n",
              "      <td>20.33</td>\n",
              "      <td>1.765</td>\n",
              "      <td>2.081</td>\n",
              "      <td>2.406</td>\n",
              "      <td>2.461</td>\n",
              "      <td>2.140</td>\n",
              "      <td>1.466</td>\n",
              "      <td>1.749</td>\n",
              "      <td>2.025</td>\n",
              "      <td>2.021</td>\n",
              "      <td>1.938</td>\n",
              "      <td>2.266</td>\n",
              "      <td>2.114</td>\n",
              "      <td>2.368</td>\n",
              "      <td>1.811</td>\n",
              "      <td>2.227</td>\n",
              "      <td>2.191</td>\n",
              "      <td>3.188</td>\n",
              "      <td>1.708</td>\n",
              "      <td>1.013</td>\n",
              "      <td>2.548</td>\n",
              "      <td>2.569</td>\n",
              "      <td>2.280</td>\n",
              "      <td>2.313</td>\n",
              "      <td>2.291</td>\n",
              "      <td>1.821</td>\n",
              "      <td>2.293</td>\n",
              "      <td>2.248</td>\n",
              "      <td>2.414</td>\n",
              "      <td>2.164</td>\n",
              "      <td>2.619</td>\n",
              "      <td>2.012</td>\n",
              "      <td>1.916</td>\n",
              "      <td>2.451</td>\n",
              "      <td>1.959</td>\n",
              "      <td>2.519</td>\n",
              "      <td>2.405</td>\n",
              "      <td>1.968</td>\n",
              "      <td>2.466</td>\n",
              "      <td>2.201</td>\n",
              "      <td>2.711</td>\n",
              "      <td>2.287</td>\n",
              "      <td>1.753</td>\n",
              "      <td>1.644</td>\n",
              "      <td>2.209</td>\n",
              "      <td>1.941</td>\n",
              "      <td>2.050</td>\n",
              "      <td>2.745</td>\n",
              "      <td>2.102</td>\n",
              "      <td>2.519</td>\n",
              "      <td>1.919</td>\n",
              "      <td>2.272</td>\n",
              "      <td>2.099</td>\n",
              "      <td>2.864</td>\n",
              "      <td>2.191</td>\n",
              "      <td>0.922</td>\n",
              "      <td>2.317</td>\n",
              "      <td>2.139</td>\n",
              "      <td>2.273</td>\n",
              "      <td>1.662</td>\n",
              "      <td>2.790</td>\n",
              "      <td>2.504</td>\n",
              "      <td>2.348</td>\n",
              "      <td>2.197</td>\n",
              "      <td>2.596</td>\n",
              "      <td>1.844</td>\n",
              "      <td>2.057</td>\n",
              "      <td>2.121</td>\n",
              "      <td>1.951</td>\n",
              "      <td>2.262</td>\n",
              "      <td>2.245</td>\n",
              "    </tr>\n",
              "    <tr>\n",
              "      <th>...</th>\n",
              "      <td>...</td>\n",
              "      <td>...</td>\n",
              "      <td>...</td>\n",
              "      <td>...</td>\n",
              "      <td>...</td>\n",
              "      <td>...</td>\n",
              "      <td>...</td>\n",
              "      <td>...</td>\n",
              "      <td>...</td>\n",
              "      <td>...</td>\n",
              "      <td>...</td>\n",
              "      <td>...</td>\n",
              "      <td>...</td>\n",
              "      <td>...</td>\n",
              "      <td>...</td>\n",
              "      <td>...</td>\n",
              "      <td>...</td>\n",
              "      <td>...</td>\n",
              "      <td>...</td>\n",
              "      <td>...</td>\n",
              "      <td>...</td>\n",
              "      <td>...</td>\n",
              "      <td>...</td>\n",
              "      <td>...</td>\n",
              "      <td>...</td>\n",
              "      <td>...</td>\n",
              "      <td>...</td>\n",
              "      <td>...</td>\n",
              "      <td>...</td>\n",
              "      <td>...</td>\n",
              "      <td>...</td>\n",
              "      <td>...</td>\n",
              "      <td>...</td>\n",
              "      <td>...</td>\n",
              "      <td>...</td>\n",
              "      <td>...</td>\n",
              "      <td>...</td>\n",
              "      <td>...</td>\n",
              "      <td>...</td>\n",
              "      <td>...</td>\n",
              "      <td>...</td>\n",
              "      <td>...</td>\n",
              "      <td>...</td>\n",
              "      <td>...</td>\n",
              "      <td>...</td>\n",
              "      <td>...</td>\n",
              "      <td>...</td>\n",
              "      <td>...</td>\n",
              "      <td>...</td>\n",
              "      <td>...</td>\n",
              "      <td>...</td>\n",
              "      <td>...</td>\n",
              "      <td>...</td>\n",
              "      <td>...</td>\n",
              "      <td>...</td>\n",
              "      <td>...</td>\n",
              "      <td>...</td>\n",
              "      <td>...</td>\n",
              "      <td>...</td>\n",
              "      <td>...</td>\n",
              "      <td>...</td>\n",
              "      <td>...</td>\n",
              "      <td>...</td>\n",
              "      <td>...</td>\n",
              "      <td>...</td>\n",
              "      <td>...</td>\n",
              "      <td>...</td>\n",
              "      <td>...</td>\n",
              "      <td>...</td>\n",
              "      <td>...</td>\n",
              "      <td>...</td>\n",
              "      <td>...</td>\n",
              "      <td>...</td>\n",
              "      <td>...</td>\n",
              "      <td>...</td>\n",
              "    </tr>\n",
              "    <tr>\n",
              "      <th>1358</th>\n",
              "      <td>4187</td>\n",
              "      <td>2</td>\n",
              "      <td>62.0</td>\n",
              "      <td>29</td>\n",
              "      <td>17.00</td>\n",
              "      <td>2.441</td>\n",
              "      <td>2.813</td>\n",
              "      <td>2.614</td>\n",
              "      <td>2.523</td>\n",
              "      <td>2.354</td>\n",
              "      <td>1.830</td>\n",
              "      <td>2.056</td>\n",
              "      <td>2.479</td>\n",
              "      <td>2.555</td>\n",
              "      <td>2.395</td>\n",
              "      <td>2.923</td>\n",
              "      <td>2.005</td>\n",
              "      <td>2.571</td>\n",
              "      <td>2.312</td>\n",
              "      <td>2.923</td>\n",
              "      <td>2.596</td>\n",
              "      <td>3.972</td>\n",
              "      <td>2.793</td>\n",
              "      <td></td>\n",
              "      <td>3.396</td>\n",
              "      <td>3.230</td>\n",
              "      <td>2.417</td>\n",
              "      <td>2.855</td>\n",
              "      <td>2.544</td>\n",
              "      <td>1.938</td>\n",
              "      <td>3.513</td>\n",
              "      <td>2.713</td>\n",
              "      <td>2.846</td>\n",
              "      <td>2.371</td>\n",
              "      <td>2.907</td>\n",
              "      <td>2.434</td>\n",
              "      <td>2.259</td>\n",
              "      <td>2.717</td>\n",
              "      <td>2.096</td>\n",
              "      <td>2.335</td>\n",
              "      <td>2.996</td>\n",
              "      <td>2.317</td>\n",
              "      <td>2.851</td>\n",
              "      <td>2.610</td>\n",
              "      <td>2.411</td>\n",
              "      <td>2.426</td>\n",
              "      <td>1.769</td>\n",
              "      <td>2.097</td>\n",
              "      <td>2.476</td>\n",
              "      <td>2.625</td>\n",
              "      <td>2.357</td>\n",
              "      <td>3.116</td>\n",
              "      <td>2.263</td>\n",
              "      <td>2.681</td>\n",
              "      <td>2.270</td>\n",
              "      <td>2.702</td>\n",
              "      <td>2.533</td>\n",
              "      <td>3.715</td>\n",
              "      <td>2.815</td>\n",
              "      <td></td>\n",
              "      <td>2.464</td>\n",
              "      <td>2.634</td>\n",
              "      <td>2.531</td>\n",
              "      <td>2.035</td>\n",
              "      <td>3.865</td>\n",
              "      <td>2.568</td>\n",
              "      <td>2.850</td>\n",
              "      <td>2.524</td>\n",
              "      <td>3.213</td>\n",
              "      <td>2.489</td>\n",
              "      <td>2.455</td>\n",
              "      <td>2.634</td>\n",
              "      <td>2.209</td>\n",
              "      <td>2.310</td>\n",
              "      <td>2.935</td>\n",
              "    </tr>\n",
              "    <tr>\n",
              "      <th>1359</th>\n",
              "      <td>4928</td>\n",
              "      <td>2</td>\n",
              "      <td>77.8</td>\n",
              "      <td>27</td>\n",
              "      <td>17.00</td>\n",
              "      <td>2.301</td>\n",
              "      <td>2.246</td>\n",
              "      <td>2.556</td>\n",
              "      <td>2.392</td>\n",
              "      <td>2.158</td>\n",
              "      <td>1.686</td>\n",
              "      <td>1.914</td>\n",
              "      <td>2.318</td>\n",
              "      <td>2.297</td>\n",
              "      <td>2.268</td>\n",
              "      <td>2.908</td>\n",
              "      <td>2.136</td>\n",
              "      <td>2.445</td>\n",
              "      <td>2.067</td>\n",
              "      <td>2.385</td>\n",
              "      <td>2.458</td>\n",
              "      <td>2.749</td>\n",
              "      <td>2.360</td>\n",
              "      <td></td>\n",
              "      <td>2.855</td>\n",
              "      <td>2.919</td>\n",
              "      <td>2.063</td>\n",
              "      <td>2.426</td>\n",
              "      <td>2.284</td>\n",
              "      <td>1.906</td>\n",
              "      <td>3.070</td>\n",
              "      <td>2.408</td>\n",
              "      <td>2.386</td>\n",
              "      <td>2.235</td>\n",
              "      <td>2.685</td>\n",
              "      <td>2.419</td>\n",
              "      <td>1.953</td>\n",
              "      <td>2.660</td>\n",
              "      <td>1.815</td>\n",
              "      <td>2.303</td>\n",
              "      <td>2.681</td>\n",
              "      <td>2.349</td>\n",
              "      <td>2.211</td>\n",
              "      <td>2.330</td>\n",
              "      <td>2.018</td>\n",
              "      <td>2.196</td>\n",
              "      <td>1.565</td>\n",
              "      <td>1.845</td>\n",
              "      <td>2.281</td>\n",
              "      <td>2.255</td>\n",
              "      <td>2.266</td>\n",
              "      <td>2.893</td>\n",
              "      <td>2.167</td>\n",
              "      <td>2.420</td>\n",
              "      <td>1.934</td>\n",
              "      <td>2.468</td>\n",
              "      <td>2.420</td>\n",
              "      <td>3.288</td>\n",
              "      <td>2.411</td>\n",
              "      <td></td>\n",
              "      <td>2.147</td>\n",
              "      <td>2.478</td>\n",
              "      <td>2.319</td>\n",
              "      <td>2.057</td>\n",
              "      <td>2.106</td>\n",
              "      <td>2.742</td>\n",
              "      <td>2.369</td>\n",
              "      <td>2.221</td>\n",
              "      <td>2.485</td>\n",
              "      <td>2.162</td>\n",
              "      <td>2.152</td>\n",
              "      <td>2.375</td>\n",
              "      <td>1.917</td>\n",
              "      <td>2.199</td>\n",
              "      <td>2.709</td>\n",
              "    </tr>\n",
              "    <tr>\n",
              "      <th>1360</th>\n",
              "      <td>4887</td>\n",
              "      <td>3</td>\n",
              "      <td>73.8</td>\n",
              "      <td>26</td>\n",
              "      <td>27.00</td>\n",
              "      <td>1.996</td>\n",
              "      <td>2.545</td>\n",
              "      <td>2.196</td>\n",
              "      <td>2.263</td>\n",
              "      <td>2.099</td>\n",
              "      <td>1.343</td>\n",
              "      <td>1.858</td>\n",
              "      <td>2.676</td>\n",
              "      <td>2.135</td>\n",
              "      <td>1.955</td>\n",
              "      <td>2.882</td>\n",
              "      <td>2.042</td>\n",
              "      <td>2.448</td>\n",
              "      <td>1.874</td>\n",
              "      <td>2.486</td>\n",
              "      <td>2.061</td>\n",
              "      <td>3.193</td>\n",
              "      <td>1.800</td>\n",
              "      <td></td>\n",
              "      <td>3.054</td>\n",
              "      <td>2.921</td>\n",
              "      <td>2.170</td>\n",
              "      <td>2.629</td>\n",
              "      <td>2.119</td>\n",
              "      <td>1.730</td>\n",
              "      <td>3.190</td>\n",
              "      <td>2.839</td>\n",
              "      <td>2.443</td>\n",
              "      <td>1.948</td>\n",
              "      <td>2.381</td>\n",
              "      <td>2.567</td>\n",
              "      <td>1.854</td>\n",
              "      <td>2.713</td>\n",
              "      <td>1.646</td>\n",
              "      <td>2.698</td>\n",
              "      <td>2.424</td>\n",
              "      <td>1.969</td>\n",
              "      <td>2.428</td>\n",
              "      <td>2.231</td>\n",
              "      <td>2.447</td>\n",
              "      <td>2.340</td>\n",
              "      <td>1.472</td>\n",
              "      <td>1.775</td>\n",
              "      <td>2.832</td>\n",
              "      <td>2.014</td>\n",
              "      <td>2.200</td>\n",
              "      <td>2.720</td>\n",
              "      <td>2.320</td>\n",
              "      <td>2.427</td>\n",
              "      <td>1.849</td>\n",
              "      <td>2.362</td>\n",
              "      <td>2.122</td>\n",
              "      <td>3.244</td>\n",
              "      <td>2.270</td>\n",
              "      <td></td>\n",
              "      <td>2.577</td>\n",
              "      <td>2.239</td>\n",
              "      <td>2.084</td>\n",
              "      <td>1.682</td>\n",
              "      <td>2.797</td>\n",
              "      <td>3.351</td>\n",
              "      <td>2.529</td>\n",
              "      <td>2.057</td>\n",
              "      <td>2.585</td>\n",
              "      <td>2.596</td>\n",
              "      <td>1.919</td>\n",
              "      <td>2.683</td>\n",
              "      <td>1.701</td>\n",
              "      <td>2.749</td>\n",
              "      <td>2.777</td>\n",
              "    </tr>\n",
              "    <tr>\n",
              "      <th>1361</th>\n",
              "      <td>1205</td>\n",
              "      <td>3</td>\n",
              "      <td>83.0</td>\n",
              "      <td>23</td>\n",
              "      <td>29.33</td>\n",
              "      <td>1.822</td>\n",
              "      <td>2.508</td>\n",
              "      <td>2.174</td>\n",
              "      <td>2.406</td>\n",
              "      <td>2.000</td>\n",
              "      <td>1.374</td>\n",
              "      <td>1.465</td>\n",
              "      <td>2.589</td>\n",
              "      <td>1.677</td>\n",
              "      <td>1.932</td>\n",
              "      <td>2.710</td>\n",
              "      <td>2.018</td>\n",
              "      <td>2.215</td>\n",
              "      <td>1.617</td>\n",
              "      <td>2.066</td>\n",
              "      <td>1.910</td>\n",
              "      <td>3.069</td>\n",
              "      <td>1.536</td>\n",
              "      <td>1.043</td>\n",
              "      <td>2.902</td>\n",
              "      <td>2.809</td>\n",
              "      <td>1.875</td>\n",
              "      <td>2.716</td>\n",
              "      <td>2.001</td>\n",
              "      <td>1.396</td>\n",
              "      <td>2.681</td>\n",
              "      <td>1.613</td>\n",
              "      <td>2.239</td>\n",
              "      <td>1.966</td>\n",
              "      <td>2.561</td>\n",
              "      <td>2.520</td>\n",
              "      <td>1.648</td>\n",
              "      <td>2.414</td>\n",
              "      <td>1.736</td>\n",
              "      <td>1.962</td>\n",
              "      <td>2.296</td>\n",
              "      <td>1.784</td>\n",
              "      <td>2.468</td>\n",
              "      <td>1.769</td>\n",
              "      <td>2.079</td>\n",
              "      <td>1.926</td>\n",
              "      <td>1.232</td>\n",
              "      <td>1.501</td>\n",
              "      <td>2.476</td>\n",
              "      <td>1.831</td>\n",
              "      <td>1.939</td>\n",
              "      <td>3.250</td>\n",
              "      <td>1.900</td>\n",
              "      <td>2.403</td>\n",
              "      <td>1.680</td>\n",
              "      <td>2.193</td>\n",
              "      <td>1.968</td>\n",
              "      <td>3.351</td>\n",
              "      <td>1.494</td>\n",
              "      <td>0.997</td>\n",
              "      <td>1.828</td>\n",
              "      <td>3.025</td>\n",
              "      <td>1.852</td>\n",
              "      <td>1.463</td>\n",
              "      <td>2.982</td>\n",
              "      <td>2.109</td>\n",
              "      <td>2.408</td>\n",
              "      <td>1.849</td>\n",
              "      <td>2.449</td>\n",
              "      <td>2.574</td>\n",
              "      <td>1.784</td>\n",
              "      <td>2.515</td>\n",
              "      <td>1.806</td>\n",
              "      <td>2.071</td>\n",
              "      <td>2.248</td>\n",
              "    </tr>\n",
              "    <tr>\n",
              "      <th>1362</th>\n",
              "      <td>2099</td>\n",
              "      <td>2</td>\n",
              "      <td>83.7</td>\n",
              "      <td>30</td>\n",
              "      <td>12.00</td>\n",
              "      <td>2.245</td>\n",
              "      <td>2.351</td>\n",
              "      <td>2.305</td>\n",
              "      <td>2.475</td>\n",
              "      <td>2.155</td>\n",
              "      <td>1.676</td>\n",
              "      <td>1.857</td>\n",
              "      <td>2.525</td>\n",
              "      <td>2.085</td>\n",
              "      <td>2.136</td>\n",
              "      <td>2.712</td>\n",
              "      <td>2.161</td>\n",
              "      <td>2.295</td>\n",
              "      <td>1.948</td>\n",
              "      <td>2.424</td>\n",
              "      <td>2.267</td>\n",
              "      <td>2.958</td>\n",
              "      <td>1.778</td>\n",
              "      <td></td>\n",
              "      <td>2.672</td>\n",
              "      <td>2.507</td>\n",
              "      <td>2.109</td>\n",
              "      <td>2.693</td>\n",
              "      <td>2.315</td>\n",
              "      <td>1.637</td>\n",
              "      <td>3.445</td>\n",
              "      <td>2.396</td>\n",
              "      <td>2.432</td>\n",
              "      <td>2.265</td>\n",
              "      <td>2.568</td>\n",
              "      <td>2.378</td>\n",
              "      <td>2.021</td>\n",
              "      <td>2.350</td>\n",
              "      <td>1.699</td>\n",
              "      <td>2.257</td>\n",
              "      <td>2.625</td>\n",
              "      <td>2.034</td>\n",
              "      <td>2.488</td>\n",
              "      <td>2.237</td>\n",
              "      <td>2.236</td>\n",
              "      <td>2.314</td>\n",
              "      <td>1.386</td>\n",
              "      <td>1.868</td>\n",
              "      <td>2.380</td>\n",
              "      <td>2.072</td>\n",
              "      <td>2.060</td>\n",
              "      <td>2.581</td>\n",
              "      <td>2.155</td>\n",
              "      <td>2.376</td>\n",
              "      <td>1.894</td>\n",
              "      <td>2.400</td>\n",
              "      <td>2.330</td>\n",
              "      <td>3.177</td>\n",
              "      <td>2.054</td>\n",
              "      <td></td>\n",
              "      <td>2.403</td>\n",
              "      <td>2.433</td>\n",
              "      <td>2.206</td>\n",
              "      <td>1.785</td>\n",
              "      <td>3.093</td>\n",
              "      <td>2.310</td>\n",
              "      <td>2.408</td>\n",
              "      <td>2.229</td>\n",
              "      <td>2.428</td>\n",
              "      <td>2.460</td>\n",
              "      <td>2.097</td>\n",
              "      <td>2.381</td>\n",
              "      <td>1.817</td>\n",
              "      <td>2.121</td>\n",
              "      <td>2.586</td>\n",
              "    </tr>\n",
              "  </tbody>\n",
              "</table>\n",
              "<p>1363 rows × 75 columns</p>\n",
              "</div>"
            ],
            "text/plain": [
              "       RID  ...  ST99TA_UCSFFSX_11_02_15_UCSFFSX51_08_01_16\n",
              "0     4084  ...                                       2.862\n",
              "1     2196  ...                                       2.943\n",
              "2      657  ...                                       2.828\n",
              "3     4526  ...                                       2.591\n",
              "4      362  ...                                       2.245\n",
              "...    ...  ...                                         ...\n",
              "1358  4187  ...                                       2.935\n",
              "1359  4928  ...                                       2.709\n",
              "1360  4887  ...                                       2.777\n",
              "1361  1205  ...                                       2.248\n",
              "1362  2099  ...                                       2.586\n",
              "\n",
              "[1363 rows x 75 columns]"
            ]
          },
          "metadata": {},
          "execution_count": 11
        }
      ]
    },
    {
      "cell_type": "code",
      "metadata": {
        "colab": {
          "base_uri": "https://localhost:8080/"
        },
        "id": "5tgiT2aO8NWE",
        "outputId": "e2a659c6-d795-44e3-f306-30fd742f9518"
      },
      "source": [
        "# original_data.info()"
      ],
      "execution_count": null,
      "outputs": [
        {
          "output_type": "stream",
          "name": "stdout",
          "text": [
            "<class 'pandas.core.frame.DataFrame'>\n",
            "RangeIndex: 1363 entries, 0 to 1362\n",
            "Data columns (total 75 columns):\n",
            " #   Column                                       Non-Null Count  Dtype  \n",
            "---  ------                                       --------------  -----  \n",
            " 0   RID                                          1363 non-null   int64  \n",
            " 1   DXCHANGE                                     1363 non-null   int64  \n",
            " 2   AGE                                          1363 non-null   float64\n",
            " 3   MMSE                                         1363 non-null   int64  \n",
            " 4   ADAS13                                       1353 non-null   float64\n",
            " 5   ST102TA_UCSFFSX_11_02_15_UCSFFSX51_08_01_16  1363 non-null   float64\n",
            " 6   ST103TA_UCSFFSX_11_02_15_UCSFFSX51_08_01_16  1363 non-null   float64\n",
            " 7   ST104TA_UCSFFSX_11_02_15_UCSFFSX51_08_01_16  1363 non-null   float64\n",
            " 8   ST105TA_UCSFFSX_11_02_15_UCSFFSX51_08_01_16  1363 non-null   float64\n",
            " 9   ST106TA_UCSFFSX_11_02_15_UCSFFSX51_08_01_16  1363 non-null   float64\n",
            " 10  ST107TA_UCSFFSX_11_02_15_UCSFFSX51_08_01_16  1363 non-null   float64\n",
            " 11  ST108TA_UCSFFSX_11_02_15_UCSFFSX51_08_01_16  1363 non-null   float64\n",
            " 12  ST109TA_UCSFFSX_11_02_15_UCSFFSX51_08_01_16  1363 non-null   float64\n",
            " 13  ST110TA_UCSFFSX_11_02_15_UCSFFSX51_08_01_16  1363 non-null   float64\n",
            " 14  ST111TA_UCSFFSX_11_02_15_UCSFFSX51_08_01_16  1363 non-null   float64\n",
            " 15  ST113TA_UCSFFSX_11_02_15_UCSFFSX51_08_01_16  1363 non-null   float64\n",
            " 16  ST114TA_UCSFFSX_11_02_15_UCSFFSX51_08_01_16  1363 non-null   float64\n",
            " 17  ST115TA_UCSFFSX_11_02_15_UCSFFSX51_08_01_16  1363 non-null   float64\n",
            " 18  ST116TA_UCSFFSX_11_02_15_UCSFFSX51_08_01_16  1363 non-null   float64\n",
            " 19  ST117TA_UCSFFSX_11_02_15_UCSFFSX51_08_01_16  1363 non-null   float64\n",
            " 20  ST118TA_UCSFFSX_11_02_15_UCSFFSX51_08_01_16  1363 non-null   float64\n",
            " 21  ST119TA_UCSFFSX_11_02_15_UCSFFSX51_08_01_16  1363 non-null   float64\n",
            " 22  ST121TA_UCSFFSX_11_02_15_UCSFFSX51_08_01_16  1363 non-null   float64\n",
            " 23  ST123TA_UCSFFSX_11_02_15_UCSFFSX51_08_01_16  1363 non-null   object \n",
            " 24  ST129TA_UCSFFSX_11_02_15_UCSFFSX51_08_01_16  1363 non-null   float64\n",
            " 25  ST130TA_UCSFFSX_11_02_15_UCSFFSX51_08_01_16  1363 non-null   float64\n",
            " 26  ST13TA_UCSFFSX_11_02_15_UCSFFSX51_08_01_16   1363 non-null   float64\n",
            " 27  ST14TA_UCSFFSX_11_02_15_UCSFFSX51_08_01_16   1363 non-null   float64\n",
            " 28  ST15TA_UCSFFSX_11_02_15_UCSFFSX51_08_01_16   1363 non-null   float64\n",
            " 29  ST23TA_UCSFFSX_11_02_15_UCSFFSX51_08_01_16   1363 non-null   float64\n",
            " 30  ST24TA_UCSFFSX_11_02_15_UCSFFSX51_08_01_16   1362 non-null   float64\n",
            " 31  ST25TA_UCSFFSX_11_02_15_UCSFFSX51_08_01_16   1363 non-null   float64\n",
            " 32  ST26TA_UCSFFSX_11_02_15_UCSFFSX51_08_01_16   1363 non-null   float64\n",
            " 33  ST31TA_UCSFFSX_11_02_15_UCSFFSX51_08_01_16   1363 non-null   float64\n",
            " 34  ST32TA_UCSFFSX_11_02_15_UCSFFSX51_08_01_16   1363 non-null   float64\n",
            " 35  ST34TA_UCSFFSX_11_02_15_UCSFFSX51_08_01_16   1363 non-null   float64\n",
            " 36  ST35TA_UCSFFSX_11_02_15_UCSFFSX51_08_01_16   1363 non-null   float64\n",
            " 37  ST36TA_UCSFFSX_11_02_15_UCSFFSX51_08_01_16   1363 non-null   float64\n",
            " 38  ST38TA_UCSFFSX_11_02_15_UCSFFSX51_08_01_16   1363 non-null   float64\n",
            " 39  ST39TA_UCSFFSX_11_02_15_UCSFFSX51_08_01_16   1363 non-null   float64\n",
            " 40  ST40TA_UCSFFSX_11_02_15_UCSFFSX51_08_01_16   1363 non-null   float64\n",
            " 41  ST43TA_UCSFFSX_11_02_15_UCSFFSX51_08_01_16   1363 non-null   float64\n",
            " 42  ST44TA_UCSFFSX_11_02_15_UCSFFSX51_08_01_16   1362 non-null   float64\n",
            " 43  ST45TA_UCSFFSX_11_02_15_UCSFFSX51_08_01_16   1363 non-null   float64\n",
            " 44  ST46TA_UCSFFSX_11_02_15_UCSFFSX51_08_01_16   1363 non-null   float64\n",
            " 45  ST47TA_UCSFFSX_11_02_15_UCSFFSX51_08_01_16   1363 non-null   float64\n",
            " 46  ST48TA_UCSFFSX_11_02_15_UCSFFSX51_08_01_16   1363 non-null   float64\n",
            " 47  ST49TA_UCSFFSX_11_02_15_UCSFFSX51_08_01_16   1363 non-null   float64\n",
            " 48  ST50TA_UCSFFSX_11_02_15_UCSFFSX51_08_01_16   1363 non-null   float64\n",
            " 49  ST51TA_UCSFFSX_11_02_15_UCSFFSX51_08_01_16   1363 non-null   float64\n",
            " 50  ST52TA_UCSFFSX_11_02_15_UCSFFSX51_08_01_16   1363 non-null   float64\n",
            " 51  ST54TA_UCSFFSX_11_02_15_UCSFFSX51_08_01_16   1363 non-null   float64\n",
            " 52  ST55TA_UCSFFSX_11_02_15_UCSFFSX51_08_01_16   1363 non-null   float64\n",
            " 53  ST56TA_UCSFFSX_11_02_15_UCSFFSX51_08_01_16   1363 non-null   float64\n",
            " 54  ST57TA_UCSFFSX_11_02_15_UCSFFSX51_08_01_16   1363 non-null   float64\n",
            " 55  ST58TA_UCSFFSX_11_02_15_UCSFFSX51_08_01_16   1363 non-null   float64\n",
            " 56  ST59TA_UCSFFSX_11_02_15_UCSFFSX51_08_01_16   1363 non-null   float64\n",
            " 57  ST60TA_UCSFFSX_11_02_15_UCSFFSX51_08_01_16   1363 non-null   float64\n",
            " 58  ST62TA_UCSFFSX_11_02_15_UCSFFSX51_08_01_16   1363 non-null   float64\n",
            " 59  ST64TA_UCSFFSX_11_02_15_UCSFFSX51_08_01_16   1363 non-null   object \n",
            " 60  ST72TA_UCSFFSX_11_02_15_UCSFFSX51_08_01_16   1363 non-null   float64\n",
            " 61  ST73TA_UCSFFSX_11_02_15_UCSFFSX51_08_01_16   1363 non-null   float64\n",
            " 62  ST74TA_UCSFFSX_11_02_15_UCSFFSX51_08_01_16   1363 non-null   float64\n",
            " 63  ST82TA_UCSFFSX_11_02_15_UCSFFSX51_08_01_16   1363 non-null   float64\n",
            " 64  ST83TA_UCSFFSX_11_02_15_UCSFFSX51_08_01_16   1363 non-null   float64\n",
            " 65  ST84TA_UCSFFSX_11_02_15_UCSFFSX51_08_01_16   1363 non-null   float64\n",
            " 66  ST85TA_UCSFFSX_11_02_15_UCSFFSX51_08_01_16   1363 non-null   float64\n",
            " 67  ST90TA_UCSFFSX_11_02_15_UCSFFSX51_08_01_16   1363 non-null   float64\n",
            " 68  ST91TA_UCSFFSX_11_02_15_UCSFFSX51_08_01_16   1363 non-null   float64\n",
            " 69  ST93TA_UCSFFSX_11_02_15_UCSFFSX51_08_01_16   1363 non-null   float64\n",
            " 70  ST94TA_UCSFFSX_11_02_15_UCSFFSX51_08_01_16   1363 non-null   float64\n",
            " 71  ST95TA_UCSFFSX_11_02_15_UCSFFSX51_08_01_16   1363 non-null   float64\n",
            " 72  ST97TA_UCSFFSX_11_02_15_UCSFFSX51_08_01_16   1363 non-null   float64\n",
            " 73  ST98TA_UCSFFSX_11_02_15_UCSFFSX51_08_01_16   1363 non-null   float64\n",
            " 74  ST99TA_UCSFFSX_11_02_15_UCSFFSX51_08_01_16   1363 non-null   float64\n",
            "dtypes: float64(70), int64(3), object(2)\n",
            "memory usage: 798.8+ KB\n"
          ]
        }
      ]
    },
    {
      "cell_type": "code",
      "metadata": {
        "id": "qjVxMZni8a3s"
      },
      "source": [
        "train_data, test_data = train_test_split(original_data, test_size=0.2)\n",
        "\n",
        "# 1090 train / 273 test"
      ],
      "execution_count": null,
      "outputs": []
    },
    {
      "cell_type": "markdown",
      "metadata": {
        "id": "dW0uJY5pQXD7"
      },
      "source": [
        "---\n",
        "# **Refine data & EDA**\n",
        "\n",
        "\n",
        "\n",
        "\n",
        "1.   변수 제거 : RID \n",
        "2.   데이터 시각화 \n",
        "3.   결측치 처리 : 행/열 제거\n",
        "4. 레이블 분리 : X / y_reg / y_cls\n",
        "5. 정규화\n",
        "---\n",
        "\n",
        "\n",
        "\n",
        "\n",
        "\n"
      ]
    },
    {
      "cell_type": "code",
      "metadata": {
        "id": "7ZbYEa4LJdh-"
      },
      "source": [
        "# 데이터 COPY 해놓기\n",
        "## 원본 데이터에 손상이 가지않도록 COPY한 후 분류하는 것이 더 좋다.\n",
        "\n",
        "\n",
        "train = train_data.copy()"
      ],
      "execution_count": null,
      "outputs": []
    },
    {
      "cell_type": "code",
      "metadata": {
        "id": "76jdLLfBESYF"
      },
      "source": [
        "# train_data info\n",
        "# dtypes: float64(70), int64(3), object(2)\n",
        "\n",
        "# print(train.info())"
      ],
      "execution_count": null,
      "outputs": []
    },
    {
      "cell_type": "code",
      "metadata": {
        "id": "waoEhDhnV67X"
      },
      "source": [
        "# object -> float\n",
        "\n",
        "\n",
        "train.replace(' ', np.nan, inplace = True)\n",
        "train['ST123TA_UCSFFSX_11_02_15_UCSFFSX51_08_01_16'] = train['ST123TA_UCSFFSX_11_02_15_UCSFFSX51_08_01_16'].astype('float')\n",
        "train['ST64TA_UCSFFSX_11_02_15_UCSFFSX51_08_01_16'] = train['ST64TA_UCSFFSX_11_02_15_UCSFFSX51_08_01_16'].astype('float')"
      ],
      "execution_count": null,
      "outputs": []
    },
    {
      "cell_type": "code",
      "metadata": {
        "colab": {
          "base_uri": "https://localhost:8080/"
        },
        "id": "7R6Iz0Y-QMrY",
        "outputId": "a11ec8a4-de09-4b3c-9ab1-847397b2ca61"
      },
      "source": [
        "train.info()"
      ],
      "execution_count": null,
      "outputs": [
        {
          "output_type": "stream",
          "name": "stdout",
          "text": [
            "<class 'pandas.core.frame.DataFrame'>\n",
            "Int64Index: 1090 entries, 1088 to 684\n",
            "Data columns (total 75 columns):\n",
            " #   Column                                       Non-Null Count  Dtype  \n",
            "---  ------                                       --------------  -----  \n",
            " 0   RID                                          1090 non-null   int64  \n",
            " 1   DXCHANGE                                     1090 non-null   int64  \n",
            " 2   AGE                                          1090 non-null   float64\n",
            " 3   MMSE                                         1090 non-null   int64  \n",
            " 4   ADAS13                                       1085 non-null   float64\n",
            " 5   ST102TA_UCSFFSX_11_02_15_UCSFFSX51_08_01_16  1090 non-null   float64\n",
            " 6   ST103TA_UCSFFSX_11_02_15_UCSFFSX51_08_01_16  1090 non-null   float64\n",
            " 7   ST104TA_UCSFFSX_11_02_15_UCSFFSX51_08_01_16  1090 non-null   float64\n",
            " 8   ST105TA_UCSFFSX_11_02_15_UCSFFSX51_08_01_16  1090 non-null   float64\n",
            " 9   ST106TA_UCSFFSX_11_02_15_UCSFFSX51_08_01_16  1090 non-null   float64\n",
            " 10  ST107TA_UCSFFSX_11_02_15_UCSFFSX51_08_01_16  1090 non-null   float64\n",
            " 11  ST108TA_UCSFFSX_11_02_15_UCSFFSX51_08_01_16  1090 non-null   float64\n",
            " 12  ST109TA_UCSFFSX_11_02_15_UCSFFSX51_08_01_16  1090 non-null   float64\n",
            " 13  ST110TA_UCSFFSX_11_02_15_UCSFFSX51_08_01_16  1090 non-null   float64\n",
            " 14  ST111TA_UCSFFSX_11_02_15_UCSFFSX51_08_01_16  1090 non-null   float64\n",
            " 15  ST113TA_UCSFFSX_11_02_15_UCSFFSX51_08_01_16  1090 non-null   float64\n",
            " 16  ST114TA_UCSFFSX_11_02_15_UCSFFSX51_08_01_16  1090 non-null   float64\n",
            " 17  ST115TA_UCSFFSX_11_02_15_UCSFFSX51_08_01_16  1090 non-null   float64\n",
            " 18  ST116TA_UCSFFSX_11_02_15_UCSFFSX51_08_01_16  1090 non-null   float64\n",
            " 19  ST117TA_UCSFFSX_11_02_15_UCSFFSX51_08_01_16  1090 non-null   float64\n",
            " 20  ST118TA_UCSFFSX_11_02_15_UCSFFSX51_08_01_16  1090 non-null   float64\n",
            " 21  ST119TA_UCSFFSX_11_02_15_UCSFFSX51_08_01_16  1090 non-null   float64\n",
            " 22  ST121TA_UCSFFSX_11_02_15_UCSFFSX51_08_01_16  1090 non-null   float64\n",
            " 23  ST123TA_UCSFFSX_11_02_15_UCSFFSX51_08_01_16  516 non-null    float64\n",
            " 24  ST129TA_UCSFFSX_11_02_15_UCSFFSX51_08_01_16  1090 non-null   float64\n",
            " 25  ST130TA_UCSFFSX_11_02_15_UCSFFSX51_08_01_16  1090 non-null   float64\n",
            " 26  ST13TA_UCSFFSX_11_02_15_UCSFFSX51_08_01_16   1090 non-null   float64\n",
            " 27  ST14TA_UCSFFSX_11_02_15_UCSFFSX51_08_01_16   1090 non-null   float64\n",
            " 28  ST15TA_UCSFFSX_11_02_15_UCSFFSX51_08_01_16   1090 non-null   float64\n",
            " 29  ST23TA_UCSFFSX_11_02_15_UCSFFSX51_08_01_16   1090 non-null   float64\n",
            " 30  ST24TA_UCSFFSX_11_02_15_UCSFFSX51_08_01_16   1089 non-null   float64\n",
            " 31  ST25TA_UCSFFSX_11_02_15_UCSFFSX51_08_01_16   1090 non-null   float64\n",
            " 32  ST26TA_UCSFFSX_11_02_15_UCSFFSX51_08_01_16   1090 non-null   float64\n",
            " 33  ST31TA_UCSFFSX_11_02_15_UCSFFSX51_08_01_16   1090 non-null   float64\n",
            " 34  ST32TA_UCSFFSX_11_02_15_UCSFFSX51_08_01_16   1090 non-null   float64\n",
            " 35  ST34TA_UCSFFSX_11_02_15_UCSFFSX51_08_01_16   1090 non-null   float64\n",
            " 36  ST35TA_UCSFFSX_11_02_15_UCSFFSX51_08_01_16   1090 non-null   float64\n",
            " 37  ST36TA_UCSFFSX_11_02_15_UCSFFSX51_08_01_16   1090 non-null   float64\n",
            " 38  ST38TA_UCSFFSX_11_02_15_UCSFFSX51_08_01_16   1090 non-null   float64\n",
            " 39  ST39TA_UCSFFSX_11_02_15_UCSFFSX51_08_01_16   1090 non-null   float64\n",
            " 40  ST40TA_UCSFFSX_11_02_15_UCSFFSX51_08_01_16   1090 non-null   float64\n",
            " 41  ST43TA_UCSFFSX_11_02_15_UCSFFSX51_08_01_16   1090 non-null   float64\n",
            " 42  ST44TA_UCSFFSX_11_02_15_UCSFFSX51_08_01_16   1089 non-null   float64\n",
            " 43  ST45TA_UCSFFSX_11_02_15_UCSFFSX51_08_01_16   1090 non-null   float64\n",
            " 44  ST46TA_UCSFFSX_11_02_15_UCSFFSX51_08_01_16   1090 non-null   float64\n",
            " 45  ST47TA_UCSFFSX_11_02_15_UCSFFSX51_08_01_16   1090 non-null   float64\n",
            " 46  ST48TA_UCSFFSX_11_02_15_UCSFFSX51_08_01_16   1090 non-null   float64\n",
            " 47  ST49TA_UCSFFSX_11_02_15_UCSFFSX51_08_01_16   1090 non-null   float64\n",
            " 48  ST50TA_UCSFFSX_11_02_15_UCSFFSX51_08_01_16   1090 non-null   float64\n",
            " 49  ST51TA_UCSFFSX_11_02_15_UCSFFSX51_08_01_16   1090 non-null   float64\n",
            " 50  ST52TA_UCSFFSX_11_02_15_UCSFFSX51_08_01_16   1090 non-null   float64\n",
            " 51  ST54TA_UCSFFSX_11_02_15_UCSFFSX51_08_01_16   1090 non-null   float64\n",
            " 52  ST55TA_UCSFFSX_11_02_15_UCSFFSX51_08_01_16   1090 non-null   float64\n",
            " 53  ST56TA_UCSFFSX_11_02_15_UCSFFSX51_08_01_16   1090 non-null   float64\n",
            " 54  ST57TA_UCSFFSX_11_02_15_UCSFFSX51_08_01_16   1090 non-null   float64\n",
            " 55  ST58TA_UCSFFSX_11_02_15_UCSFFSX51_08_01_16   1090 non-null   float64\n",
            " 56  ST59TA_UCSFFSX_11_02_15_UCSFFSX51_08_01_16   1090 non-null   float64\n",
            " 57  ST60TA_UCSFFSX_11_02_15_UCSFFSX51_08_01_16   1090 non-null   float64\n",
            " 58  ST62TA_UCSFFSX_11_02_15_UCSFFSX51_08_01_16   1090 non-null   float64\n",
            " 59  ST64TA_UCSFFSX_11_02_15_UCSFFSX51_08_01_16   516 non-null    float64\n",
            " 60  ST72TA_UCSFFSX_11_02_15_UCSFFSX51_08_01_16   1090 non-null   float64\n",
            " 61  ST73TA_UCSFFSX_11_02_15_UCSFFSX51_08_01_16   1090 non-null   float64\n",
            " 62  ST74TA_UCSFFSX_11_02_15_UCSFFSX51_08_01_16   1090 non-null   float64\n",
            " 63  ST82TA_UCSFFSX_11_02_15_UCSFFSX51_08_01_16   1090 non-null   float64\n",
            " 64  ST83TA_UCSFFSX_11_02_15_UCSFFSX51_08_01_16   1090 non-null   float64\n",
            " 65  ST84TA_UCSFFSX_11_02_15_UCSFFSX51_08_01_16   1090 non-null   float64\n",
            " 66  ST85TA_UCSFFSX_11_02_15_UCSFFSX51_08_01_16   1090 non-null   float64\n",
            " 67  ST90TA_UCSFFSX_11_02_15_UCSFFSX51_08_01_16   1090 non-null   float64\n",
            " 68  ST91TA_UCSFFSX_11_02_15_UCSFFSX51_08_01_16   1090 non-null   float64\n",
            " 69  ST93TA_UCSFFSX_11_02_15_UCSFFSX51_08_01_16   1090 non-null   float64\n",
            " 70  ST94TA_UCSFFSX_11_02_15_UCSFFSX51_08_01_16   1090 non-null   float64\n",
            " 71  ST95TA_UCSFFSX_11_02_15_UCSFFSX51_08_01_16   1090 non-null   float64\n",
            " 72  ST97TA_UCSFFSX_11_02_15_UCSFFSX51_08_01_16   1090 non-null   float64\n",
            " 73  ST98TA_UCSFFSX_11_02_15_UCSFFSX51_08_01_16   1090 non-null   float64\n",
            " 74  ST99TA_UCSFFSX_11_02_15_UCSFFSX51_08_01_16   1090 non-null   float64\n",
            "dtypes: float64(72), int64(3)\n",
            "memory usage: 647.2 KB\n"
          ]
        }
      ]
    },
    {
      "cell_type": "code",
      "metadata": {
        "colab": {
          "base_uri": "https://localhost:8080/",
          "height": 538
        },
        "id": "kuRJCBUXLvrg",
        "outputId": "91b17bd6-e8f0-4da3-dd36-935331f0803b"
      },
      "source": [
        "import seaborn as sns\n",
        "%matplotlib inline\n",
        "\n",
        "sns.heatmap(train.isnull(), cbar = True)"
      ],
      "execution_count": null,
      "outputs": [
        {
          "output_type": "execute_result",
          "data": {
            "text/plain": [
              "<matplotlib.axes._subplots.AxesSubplot at 0x7fe23af3ff50>"
            ]
          },
          "metadata": {},
          "execution_count": 20
        },
        {
          "output_type": "display_data",
          "data": {
            "image/png": "[encoded data removed]",
            "text/plain": [
              "<Figure size 432x288 with 2 Axes>"
            ]
          },
          "metadata": {
            "needs_background": "light"
          }
        }
      ]
    },
    {
      "cell_type": "markdown",
      "metadata": {
        "id": "MK6o8zNfbZ9A"
      },
      "source": [
        "## Check-point : 01\n",
        "> info()를 사용하여 주어진 데이터가 어떤 데이터인지 알아보았다.\n",
        "첫째로 결측치를 확인하였고, 둘째로 데이터 형을 알아보았다.\n",
        "\n",
        "> 결측치가 있는 변수는 총 5개였으며, 각각의 결측치는 1개에서 많게는 700개 이상의 결측치를 가지고 있었다. 이 중 결측치가 유독 많은 변수(724개의 결측치)는 object형을 자료형을 가지고 있는 것을 확인했다.\n",
        "\n",
        "> 이 결과를 보고 결측치가 많은 변수(2개의 변수)는 결측치의 수가 반 이상이므로 열을 삭제하는 1순위로 생각했다. \n",
        "\n",
        "> 그래서 변수를 삭제하기 이전 해당 열은 예측하고자 하는 값들(regression & class label)과 얼마나 상관관계가 있는지 시각적으로 확인하고자 object -> float로 형 변환을 하였다. "
      ]
    },
    {
      "cell_type": "markdown",
      "metadata": {
        "id": "lbmc2s7aSuzc"
      },
      "source": [
        "## **01 : 불필요한 변수 제거**\n",
        "\n",
        "* RID 변수 제거"
      ]
    },
    {
      "cell_type": "code",
      "metadata": {
        "id": "k_MDPEwvFo6j"
      },
      "source": [
        "## train_data 의 RID 변수(열 전체)를 지운다. \n",
        "\n",
        "train.drop(\"RID\", axis = 1, inplace = True)"
      ],
      "execution_count": null,
      "outputs": []
    },
    {
      "cell_type": "markdown",
      "metadata": {
        "id": "JVZmoqrjHygC"
      },
      "source": [
        "> RID 변수는 알츠하이머 데이터의 각 환자별 id값이라는 판단을 하였습니다. 또한 해당 변수는 예측 및 분류에 쓰이지 않기 때문에 삭제하였습니다."
      ]
    },
    {
      "cell_type": "markdown",
      "metadata": {
        "id": "VJqrE4SlrFm_"
      },
      "source": [
        "##**02 : 데이터 시각화**\n",
        "\n",
        "\n",
        "* 산점도 행렬 : 특성 간의 상관관계\n",
        "* 상관관계 행렬 : 변수 간의 선형관계"
      ]
    },
    {
      "cell_type": "markdown",
      "metadata": {
        "id": "GDEz_U51rFnD"
      },
      "source": [
        "산점도 행렬"
      ]
    },
    {
      "cell_type": "code",
      "metadata": {
        "colab": {
          "base_uri": "https://localhost:8080/",
          "height": 1000
        },
        "id": "D4c8P7ccrFnD",
        "outputId": "f137094b-3ee6-4995-e3e9-04452368a9f9"
      },
      "source": [
        "import seaborn as sns\n",
        "\n",
        "cols = [\"MMSE\", \"ADAS13\", \"DXCHANGE\", \"AGE\",'ST123TA_UCSFFSX_11_02_15_UCSFFSX51_08_01_16',\n",
        "                    'ST64TA_UCSFFSX_11_02_15_UCSFFSX51_08_01_16']\n",
        "sns.pairplot(train[cols], height = 2.5)\n",
        "plt.tight_layout()\n",
        "plt.show()"
      ],
      "execution_count": null,
      "outputs": [
        {
          "output_type": "stream",
          "name": "stderr",
          "text": [
            "/usr/local/lib/python3.7/dist-packages/seaborn/axisgrid.py:88: UserWarning: Tight layout not applied. tight_layout cannot make axes width small enough to accommodate all axes decorations\n",
            "  self._figure.tight_layout(*args, **kwargs)\n",
            "/usr/local/lib/python3.7/dist-packages/ipykernel_launcher.py:6: UserWarning: Tight layout not applied. tight_layout cannot make axes width small enough to accommodate all axes decorations\n",
            "  \n"
          ]
        },
        {
          "output_type": "display_data",
          "data": {
            "image/png": "[encoded data removed]",
            "text/plain": [
              "<Figure size 1080x1080 with 42 Axes>"
            ]
          },
          "metadata": {
            "needs_background": "light"
          }
        }
      ]
    },
    {
      "cell_type": "markdown",
      "metadata": {
        "id": "ir6v_x3BrFnF"
      },
      "source": [
        "상관관계 행렬"
      ]
    },
    {
      "cell_type": "code",
      "metadata": {
        "colab": {
          "base_uri": "https://localhost:8080/",
          "height": 272
        },
        "id": "zEr4uyWxrFnG",
        "outputId": "6553c35a-3686-48cd-ce3c-23cdf30eeb91"
      },
      "source": [
        "cm = np.corrcoef(train[cols].values.T)\n",
        "sns.set(font_scale = 1)\n",
        "hm = sns.heatmap(cm,\n",
        "                 cbar = True,\n",
        "                 annot = True,\n",
        "                 square = True,\n",
        "                 fmt = '.2f',\n",
        "                 annot_kws = {'size': 15})\n",
        "#plt.tight_layout()\n",
        "plt.show()"
      ],
      "execution_count": null,
      "outputs": [
        {
          "output_type": "display_data",
          "data": {
            "image/png": "[encoded data removed]",
            "text/plain": [
              "<Figure size 432x288 with 2 Axes>"
            ]
          },
          "metadata": {}
        }
      ]
    },
    {
      "cell_type": "markdown",
      "metadata": {
        "id": "C_Ax9bXDSD2L"
      },
      "source": [
        "### Check-point : 02\n",
        "\n",
        "* 산점도 행렬\n",
        "> 결측치가 많은 변수들을 삭제하기 이전에 해당 변수가 레이블과 어떤 관계가 있나를 먼저 살펴보았다.\n",
        "\n",
        " > 그 결과, 결측치를 많이 가진 두 변수 사이에는 높은 상관관계를 가지고 있었다. 반면에, 회귀 레이블과 클래스 레이블은 다소 높지 않은 상관관계를 가지고 있기 때문에 삭제해도 괜찮겠다는 판단을 하였다.\n",
        "\n",
        " > 하지만 회귀 레이블 중 ADAS13과 회귀 레이블 DXCHANGE 간의 상관관계가 존재하기 때문에 클래스 레이블을 제외한 X train data를 사용하여 계산하였을 시 정확도가 높지 않을 것으로 예상이 된다.\n",
        "\n",
        "\n",
        "* 상관관계 행렬 \n",
        "> 위 표에서 1, 4, 5 는 결측치를 가지고 있는 변수이기 때문에 corr가 계산되지 않았다. 하지만 나머지들을 살펴보았을 때 0과 2 사이에 -0.73으로 높은 음의 선형관계를 가지고 있다고 할 수 있다.\n",
        "  \n",
        "  > 따라서 위 그래프와 마찬가지로 클래스 레이블을 제외한 X trian data로 회귀를 계산하였을 시 정확도가 높지 않을 것이라 예상된다."
      ]
    },
    {
      "cell_type": "markdown",
      "metadata": {
        "id": "CAL5J44HLcIx"
      },
      "source": [
        "##**03 : 결측치 처리**\n",
        "1. object type을 flaot type으로 형 변환\n",
        "2. 결측치를 가지고 있는 행/열 지우기\n",
        "\n",
        "\n",
        "--\n",
        "\n",
        "\n",
        "\n",
        "**check missing values**\n",
        "* ADAS13 (10)\n",
        "* ST123TA_UCSFFSX_11_02_15_UCSFFSX51_08_01_16 (724)\n",
        "* ST64TA_UCSFFSX_11_02_15_UCSFFSX51_08_01_16 (724)\n",
        "* ST24TA_UCSFFSX_11_02_15_UCSFFSX51_08_01_16 (1)\n",
        "* ST44TA_UCSFFSX_11_02_15_UCSFFSX51_08_01_16 (1)"
      ]
    },
    {
      "cell_type": "code",
      "metadata": {
        "id": "ngxn_bWxwlXi"
      },
      "source": [
        "train.dropna(axis = 0, inplace = True, subset = ['ST24TA_UCSFFSX_11_02_15_UCSFFSX51_08_01_16', \n",
        "                                                 'ST44TA_UCSFFSX_11_02_15_UCSFFSX51_08_01_16', \n",
        "                                                 'ADAS13'])"
      ],
      "execution_count": null,
      "outputs": []
    },
    {
      "cell_type": "code",
      "metadata": {
        "id": "OCklo0CmxXUG"
      },
      "source": [
        "train = train.drop(['ST123TA_UCSFFSX_11_02_15_UCSFFSX51_08_01_16',\n",
        "                    'ST64TA_UCSFFSX_11_02_15_UCSFFSX51_08_01_16'], axis = 1)"
      ],
      "execution_count": null,
      "outputs": []
    },
    {
      "cell_type": "code",
      "metadata": {
        "id": "EhOCQxobrI__"
      },
      "source": [
        "# train.info()"
      ],
      "execution_count": null,
      "outputs": []
    },
    {
      "cell_type": "markdown",
      "metadata": {
        "id": "F9Obc1Ty_6TR"
      },
      "source": [
        "### Check-point : 03\n",
        "\n",
        "> 위의 시각화 자료를 통해 변수를 삭제해도 괜찮겠다는 판단을 하였다. \n",
        " \n",
        " > 먼저 하나의 결측치를 가진 변수는 동일한 행에서 결측치를 가지고 있기 때문에 행을 삭제하였다. 또한 ADAS13(회귀 예측 레이블)은 10개의 결측치를 가지고 있는데 총 1707개의 행 중 10개를 삭제해도 무방할거 같다는 생각으로 삭제하였다.\n",
        "\n",
        " > 변수의 반 이상이 결측치인 열은 채워넣으면 데이터의 본래 성질을 흐릴거 같다는 판단과 시각화 자료를 통해 두 변수끼리는 높은 상관관계를 갖지만 반응 변수와는 다소 높지 않은 상관관계를 가지고 있기에 열 전체를 삭제하였다. "
      ]
    },
    {
      "cell_type": "markdown",
      "metadata": {
        "id": "j9CfNwpjn8Dn"
      },
      "source": [
        "##**04 : 레이블 분리**\n",
        "* 회귀용 : MMSE, ADAS13\n",
        "* 분류용 : DXCAHNGE"
      ]
    },
    {
      "cell_type": "code",
      "metadata": {
        "id": "l12vRB9xr0yl"
      },
      "source": [
        "data = train.copy()"
      ],
      "execution_count": null,
      "outputs": []
    },
    {
      "cell_type": "markdown",
      "metadata": {
        "id": "ZAiFOfwnsqZv"
      },
      "source": [
        "*회귀 레이블 분리*\n",
        "\n",
        "\n"
      ]
    },
    {
      "cell_type": "code",
      "metadata": {
        "id": "M4L7s63CskWj"
      },
      "source": [
        "X = data.drop([\"MMSE\", \"ADAS13\", \"DXCHANGE\"], axis = 1, inplace = False)\n",
        "y_reg = data[[\"MMSE\", \"ADAS13\"]].copy()"
      ],
      "execution_count": null,
      "outputs": []
    },
    {
      "cell_type": "markdown",
      "metadata": {
        "id": "KrVj4FcfoVTC"
      },
      "source": [
        "*분류 레이블 분리*"
      ]
    },
    {
      "cell_type": "code",
      "metadata": {
        "id": "j8eX525DsNTh"
      },
      "source": [
        "y_cls = data[[\"DXCHANGE\"]].copy()"
      ],
      "execution_count": null,
      "outputs": []
    },
    {
      "cell_type": "markdown",
      "metadata": {
        "id": "WVffUagsBF4z"
      },
      "source": [
        "### Check-point : 04\n",
        "\n",
        "* 회귀 레이블\n",
        "> 회귀를 통해 구해야 하는 값이 총 2개인데, 수행하고자 하는 연구가 'Multi-output regression'으로 다중 출력 회귀 분석이기 때문에 한번에 두 가지의 Y(종속 변수)를 구하고자 y_reg로 레이블을 분리하였다.\n",
        "\n",
        "\n",
        "* 분류 레이블\n",
        "> 분류를 통해 구해야 하는 값은 1개이다. 데이터의 구성이 정수(1,2,3)로 레이블이 설정되어 있다. \n",
        "\n",
        " > 하지만 이 레이블은 순서가 있는 것이 아니기 때문에 dummy 변수를 만들어 0과 1의 값으로 다시 표현해주었다. 이것은 아래 multi-out classification에서 표현해 줄 것이다. "
      ]
    },
    {
      "cell_type": "markdown",
      "metadata": {
        "id": "Keqv4WMMs_jj"
      },
      "source": [
        "##**05 : 정규화**"
      ]
    },
    {
      "cell_type": "code",
      "metadata": {
        "id": "t-gUfEh5s7Sp"
      },
      "source": [
        "from sklearn.preprocessing import StandardScaler\n",
        "\n",
        "stdsc = StandardScaler()\n",
        "X_std = stdsc.fit_transform(X)"
      ],
      "execution_count": null,
      "outputs": []
    },
    {
      "cell_type": "code",
      "metadata": {
        "colab": {
          "base_uri": "https://localhost:8080/",
          "height": 428
        },
        "id": "CSf6X0UjiX_a",
        "outputId": "3c01672a-eccd-43d9-870d-8bc6f65a2703"
      },
      "source": [
        "X"
      ],
      "execution_count": null,
      "outputs": [
        {
          "output_type": "execute_result",
          "data": {
            "text/html": [
              "<div>\n",
              "<style scoped>\n",
              "    .dataframe tbody tr th:only-of-type {\n",
              "        vertical-align: middle;\n",
              "    }\n",
              "\n",
              "    .dataframe tbody tr th {\n",
              "        vertical-align: top;\n",
              "    }\n",
              "\n",
              "    .dataframe thead th {\n",
              "        text-align: right;\n",
              "    }\n",
              "</style>\n",
              "<table border=\"1\" class=\"dataframe\">\n",
              "  <thead>\n",
              "    <tr style=\"text-align: right;\">\n",
              "      <th></th>\n",
              "      <th>AGE</th>\n",
              "      <th>ST102TA_UCSFFSX_11_02_15_UCSFFSX51_08_01_16</th>\n",
              "      <th>ST103TA_UCSFFSX_11_02_15_UCSFFSX51_08_01_16</th>\n",
              "      <th>ST104TA_UCSFFSX_11_02_15_UCSFFSX51_08_01_16</th>\n",
              "      <th>ST105TA_UCSFFSX_11_02_15_UCSFFSX51_08_01_16</th>\n",
              "      <th>ST106TA_UCSFFSX_11_02_15_UCSFFSX51_08_01_16</th>\n",
              "      <th>ST107TA_UCSFFSX_11_02_15_UCSFFSX51_08_01_16</th>\n",
              "      <th>ST108TA_UCSFFSX_11_02_15_UCSFFSX51_08_01_16</th>\n",
              "      <th>ST109TA_UCSFFSX_11_02_15_UCSFFSX51_08_01_16</th>\n",
              "      <th>ST110TA_UCSFFSX_11_02_15_UCSFFSX51_08_01_16</th>\n",
              "      <th>ST111TA_UCSFFSX_11_02_15_UCSFFSX51_08_01_16</th>\n",
              "      <th>ST113TA_UCSFFSX_11_02_15_UCSFFSX51_08_01_16</th>\n",
              "      <th>ST114TA_UCSFFSX_11_02_15_UCSFFSX51_08_01_16</th>\n",
              "      <th>ST115TA_UCSFFSX_11_02_15_UCSFFSX51_08_01_16</th>\n",
              "      <th>ST116TA_UCSFFSX_11_02_15_UCSFFSX51_08_01_16</th>\n",
              "      <th>ST117TA_UCSFFSX_11_02_15_UCSFFSX51_08_01_16</th>\n",
              "      <th>ST118TA_UCSFFSX_11_02_15_UCSFFSX51_08_01_16</th>\n",
              "      <th>ST119TA_UCSFFSX_11_02_15_UCSFFSX51_08_01_16</th>\n",
              "      <th>ST121TA_UCSFFSX_11_02_15_UCSFFSX51_08_01_16</th>\n",
              "      <th>ST129TA_UCSFFSX_11_02_15_UCSFFSX51_08_01_16</th>\n",
              "      <th>ST130TA_UCSFFSX_11_02_15_UCSFFSX51_08_01_16</th>\n",
              "      <th>ST13TA_UCSFFSX_11_02_15_UCSFFSX51_08_01_16</th>\n",
              "      <th>ST14TA_UCSFFSX_11_02_15_UCSFFSX51_08_01_16</th>\n",
              "      <th>ST15TA_UCSFFSX_11_02_15_UCSFFSX51_08_01_16</th>\n",
              "      <th>ST23TA_UCSFFSX_11_02_15_UCSFFSX51_08_01_16</th>\n",
              "      <th>ST24TA_UCSFFSX_11_02_15_UCSFFSX51_08_01_16</th>\n",
              "      <th>ST25TA_UCSFFSX_11_02_15_UCSFFSX51_08_01_16</th>\n",
              "      <th>ST26TA_UCSFFSX_11_02_15_UCSFFSX51_08_01_16</th>\n",
              "      <th>ST31TA_UCSFFSX_11_02_15_UCSFFSX51_08_01_16</th>\n",
              "      <th>ST32TA_UCSFFSX_11_02_15_UCSFFSX51_08_01_16</th>\n",
              "      <th>ST34TA_UCSFFSX_11_02_15_UCSFFSX51_08_01_16</th>\n",
              "      <th>ST35TA_UCSFFSX_11_02_15_UCSFFSX51_08_01_16</th>\n",
              "      <th>ST36TA_UCSFFSX_11_02_15_UCSFFSX51_08_01_16</th>\n",
              "      <th>ST38TA_UCSFFSX_11_02_15_UCSFFSX51_08_01_16</th>\n",
              "      <th>ST39TA_UCSFFSX_11_02_15_UCSFFSX51_08_01_16</th>\n",
              "      <th>ST40TA_UCSFFSX_11_02_15_UCSFFSX51_08_01_16</th>\n",
              "      <th>ST43TA_UCSFFSX_11_02_15_UCSFFSX51_08_01_16</th>\n",
              "      <th>ST44TA_UCSFFSX_11_02_15_UCSFFSX51_08_01_16</th>\n",
              "      <th>ST45TA_UCSFFSX_11_02_15_UCSFFSX51_08_01_16</th>\n",
              "      <th>ST46TA_UCSFFSX_11_02_15_UCSFFSX51_08_01_16</th>\n",
              "      <th>ST47TA_UCSFFSX_11_02_15_UCSFFSX51_08_01_16</th>\n",
              "      <th>ST48TA_UCSFFSX_11_02_15_UCSFFSX51_08_01_16</th>\n",
              "      <th>ST49TA_UCSFFSX_11_02_15_UCSFFSX51_08_01_16</th>\n",
              "      <th>ST50TA_UCSFFSX_11_02_15_UCSFFSX51_08_01_16</th>\n",
              "      <th>ST51TA_UCSFFSX_11_02_15_UCSFFSX51_08_01_16</th>\n",
              "      <th>ST52TA_UCSFFSX_11_02_15_UCSFFSX51_08_01_16</th>\n",
              "      <th>ST54TA_UCSFFSX_11_02_15_UCSFFSX51_08_01_16</th>\n",
              "      <th>ST55TA_UCSFFSX_11_02_15_UCSFFSX51_08_01_16</th>\n",
              "      <th>ST56TA_UCSFFSX_11_02_15_UCSFFSX51_08_01_16</th>\n",
              "      <th>ST57TA_UCSFFSX_11_02_15_UCSFFSX51_08_01_16</th>\n",
              "      <th>ST58TA_UCSFFSX_11_02_15_UCSFFSX51_08_01_16</th>\n",
              "      <th>ST59TA_UCSFFSX_11_02_15_UCSFFSX51_08_01_16</th>\n",
              "      <th>ST60TA_UCSFFSX_11_02_15_UCSFFSX51_08_01_16</th>\n",
              "      <th>ST62TA_UCSFFSX_11_02_15_UCSFFSX51_08_01_16</th>\n",
              "      <th>ST72TA_UCSFFSX_11_02_15_UCSFFSX51_08_01_16</th>\n",
              "      <th>ST73TA_UCSFFSX_11_02_15_UCSFFSX51_08_01_16</th>\n",
              "      <th>ST74TA_UCSFFSX_11_02_15_UCSFFSX51_08_01_16</th>\n",
              "      <th>ST82TA_UCSFFSX_11_02_15_UCSFFSX51_08_01_16</th>\n",
              "      <th>ST83TA_UCSFFSX_11_02_15_UCSFFSX51_08_01_16</th>\n",
              "      <th>ST84TA_UCSFFSX_11_02_15_UCSFFSX51_08_01_16</th>\n",
              "      <th>ST85TA_UCSFFSX_11_02_15_UCSFFSX51_08_01_16</th>\n",
              "      <th>ST90TA_UCSFFSX_11_02_15_UCSFFSX51_08_01_16</th>\n",
              "      <th>ST91TA_UCSFFSX_11_02_15_UCSFFSX51_08_01_16</th>\n",
              "      <th>ST93TA_UCSFFSX_11_02_15_UCSFFSX51_08_01_16</th>\n",
              "      <th>ST94TA_UCSFFSX_11_02_15_UCSFFSX51_08_01_16</th>\n",
              "      <th>ST95TA_UCSFFSX_11_02_15_UCSFFSX51_08_01_16</th>\n",
              "      <th>ST97TA_UCSFFSX_11_02_15_UCSFFSX51_08_01_16</th>\n",
              "      <th>ST98TA_UCSFFSX_11_02_15_UCSFFSX51_08_01_16</th>\n",
              "      <th>ST99TA_UCSFFSX_11_02_15_UCSFFSX51_08_01_16</th>\n",
              "    </tr>\n",
              "  </thead>\n",
              "  <tbody>\n",
              "    <tr>\n",
              "      <th>1088</th>\n",
              "      <td>62.8</td>\n",
              "      <td>2.157</td>\n",
              "      <td>2.518</td>\n",
              "      <td>2.309</td>\n",
              "      <td>2.731</td>\n",
              "      <td>2.189</td>\n",
              "      <td>1.429</td>\n",
              "      <td>1.674</td>\n",
              "      <td>2.429</td>\n",
              "      <td>2.046</td>\n",
              "      <td>2.100</td>\n",
              "      <td>3.138</td>\n",
              "      <td>2.106</td>\n",
              "      <td>2.455</td>\n",
              "      <td>1.766</td>\n",
              "      <td>2.591</td>\n",
              "      <td>2.316</td>\n",
              "      <td>3.297</td>\n",
              "      <td>2.054</td>\n",
              "      <td>3.049</td>\n",
              "      <td>2.981</td>\n",
              "      <td>2.438</td>\n",
              "      <td>2.929</td>\n",
              "      <td>2.271</td>\n",
              "      <td>1.687</td>\n",
              "      <td>3.675</td>\n",
              "      <td>2.739</td>\n",
              "      <td>2.651</td>\n",
              "      <td>2.207</td>\n",
              "      <td>2.749</td>\n",
              "      <td>2.532</td>\n",
              "      <td>1.852</td>\n",
              "      <td>2.649</td>\n",
              "      <td>1.769</td>\n",
              "      <td>2.385</td>\n",
              "      <td>2.770</td>\n",
              "      <td>2.183</td>\n",
              "      <td>2.829</td>\n",
              "      <td>2.397</td>\n",
              "      <td>2.746</td>\n",
              "      <td>2.226</td>\n",
              "      <td>1.523</td>\n",
              "      <td>1.753</td>\n",
              "      <td>2.634</td>\n",
              "      <td>1.970</td>\n",
              "      <td>2.052</td>\n",
              "      <td>2.936</td>\n",
              "      <td>2.311</td>\n",
              "      <td>2.487</td>\n",
              "      <td>1.848</td>\n",
              "      <td>2.604</td>\n",
              "      <td>2.231</td>\n",
              "      <td>3.346</td>\n",
              "      <td>1.930</td>\n",
              "      <td>2.367</td>\n",
              "      <td>2.747</td>\n",
              "      <td>2.247</td>\n",
              "      <td>1.623</td>\n",
              "      <td>3.561</td>\n",
              "      <td>2.516</td>\n",
              "      <td>2.615</td>\n",
              "      <td>2.124</td>\n",
              "      <td>2.620</td>\n",
              "      <td>2.627</td>\n",
              "      <td>1.950</td>\n",
              "      <td>2.640</td>\n",
              "      <td>1.904</td>\n",
              "      <td>2.436</td>\n",
              "      <td>2.725</td>\n",
              "    </tr>\n",
              "    <tr>\n",
              "      <th>921</th>\n",
              "      <td>76.8</td>\n",
              "      <td>1.844</td>\n",
              "      <td>2.856</td>\n",
              "      <td>2.040</td>\n",
              "      <td>2.591</td>\n",
              "      <td>2.160</td>\n",
              "      <td>1.582</td>\n",
              "      <td>1.659</td>\n",
              "      <td>2.318</td>\n",
              "      <td>1.917</td>\n",
              "      <td>2.059</td>\n",
              "      <td>2.565</td>\n",
              "      <td>1.940</td>\n",
              "      <td>2.219</td>\n",
              "      <td>1.809</td>\n",
              "      <td>2.523</td>\n",
              "      <td>2.182</td>\n",
              "      <td>4.031</td>\n",
              "      <td>2.230</td>\n",
              "      <td>2.708</td>\n",
              "      <td>2.760</td>\n",
              "      <td>2.312</td>\n",
              "      <td>2.733</td>\n",
              "      <td>2.165</td>\n",
              "      <td>1.539</td>\n",
              "      <td>3.542</td>\n",
              "      <td>2.107</td>\n",
              "      <td>2.527</td>\n",
              "      <td>1.899</td>\n",
              "      <td>2.705</td>\n",
              "      <td>2.595</td>\n",
              "      <td>2.021</td>\n",
              "      <td>2.229</td>\n",
              "      <td>1.863</td>\n",
              "      <td>2.031</td>\n",
              "      <td>2.595</td>\n",
              "      <td>1.913</td>\n",
              "      <td>2.947</td>\n",
              "      <td>2.121</td>\n",
              "      <td>2.234</td>\n",
              "      <td>2.189</td>\n",
              "      <td>1.541</td>\n",
              "      <td>1.730</td>\n",
              "      <td>2.303</td>\n",
              "      <td>1.888</td>\n",
              "      <td>1.982</td>\n",
              "      <td>2.910</td>\n",
              "      <td>2.173</td>\n",
              "      <td>2.284</td>\n",
              "      <td>1.707</td>\n",
              "      <td>2.299</td>\n",
              "      <td>2.163</td>\n",
              "      <td>2.893</td>\n",
              "      <td>1.928</td>\n",
              "      <td>2.132</td>\n",
              "      <td>2.364</td>\n",
              "      <td>1.971</td>\n",
              "      <td>1.693</td>\n",
              "      <td>3.214</td>\n",
              "      <td>2.402</td>\n",
              "      <td>2.536</td>\n",
              "      <td>2.109</td>\n",
              "      <td>2.564</td>\n",
              "      <td>2.195</td>\n",
              "      <td>2.170</td>\n",
              "      <td>2.363</td>\n",
              "      <td>2.015</td>\n",
              "      <td>2.224</td>\n",
              "      <td>2.560</td>\n",
              "    </tr>\n",
              "    <tr>\n",
              "      <th>1335</th>\n",
              "      <td>80.0</td>\n",
              "      <td>1.899</td>\n",
              "      <td>2.258</td>\n",
              "      <td>2.203</td>\n",
              "      <td>2.298</td>\n",
              "      <td>2.228</td>\n",
              "      <td>1.317</td>\n",
              "      <td>1.650</td>\n",
              "      <td>2.312</td>\n",
              "      <td>2.064</td>\n",
              "      <td>2.057</td>\n",
              "      <td>2.393</td>\n",
              "      <td>1.982</td>\n",
              "      <td>2.088</td>\n",
              "      <td>1.729</td>\n",
              "      <td>2.184</td>\n",
              "      <td>2.123</td>\n",
              "      <td>2.650</td>\n",
              "      <td>2.022</td>\n",
              "      <td>2.300</td>\n",
              "      <td>2.514</td>\n",
              "      <td>1.698</td>\n",
              "      <td>2.581</td>\n",
              "      <td>1.764</td>\n",
              "      <td>1.539</td>\n",
              "      <td>2.151</td>\n",
              "      <td>2.166</td>\n",
              "      <td>2.060</td>\n",
              "      <td>1.767</td>\n",
              "      <td>1.852</td>\n",
              "      <td>1.996</td>\n",
              "      <td>1.784</td>\n",
              "      <td>2.065</td>\n",
              "      <td>1.552</td>\n",
              "      <td>1.897</td>\n",
              "      <td>1.736</td>\n",
              "      <td>1.978</td>\n",
              "      <td>2.106</td>\n",
              "      <td>2.004</td>\n",
              "      <td>2.272</td>\n",
              "      <td>1.964</td>\n",
              "      <td>1.303</td>\n",
              "      <td>1.529</td>\n",
              "      <td>2.330</td>\n",
              "      <td>1.863</td>\n",
              "      <td>1.893</td>\n",
              "      <td>2.694</td>\n",
              "      <td>1.725</td>\n",
              "      <td>2.052</td>\n",
              "      <td>1.703</td>\n",
              "      <td>1.869</td>\n",
              "      <td>1.859</td>\n",
              "      <td>2.246</td>\n",
              "      <td>1.879</td>\n",
              "      <td>1.899</td>\n",
              "      <td>2.095</td>\n",
              "      <td>1.953</td>\n",
              "      <td>1.653</td>\n",
              "      <td>2.520</td>\n",
              "      <td>2.191</td>\n",
              "      <td>2.214</td>\n",
              "      <td>2.132</td>\n",
              "      <td>2.317</td>\n",
              "      <td>2.166</td>\n",
              "      <td>1.852</td>\n",
              "      <td>2.264</td>\n",
              "      <td>1.724</td>\n",
              "      <td>1.861</td>\n",
              "      <td>2.346</td>\n",
              "    </tr>\n",
              "    <tr>\n",
              "      <th>1130</th>\n",
              "      <td>71.1</td>\n",
              "      <td>2.314</td>\n",
              "      <td>2.771</td>\n",
              "      <td>2.364</td>\n",
              "      <td>2.670</td>\n",
              "      <td>2.285</td>\n",
              "      <td>1.500</td>\n",
              "      <td>1.977</td>\n",
              "      <td>2.711</td>\n",
              "      <td>2.332</td>\n",
              "      <td>2.226</td>\n",
              "      <td>2.926</td>\n",
              "      <td>2.293</td>\n",
              "      <td>2.515</td>\n",
              "      <td>2.106</td>\n",
              "      <td>2.747</td>\n",
              "      <td>2.565</td>\n",
              "      <td>3.599</td>\n",
              "      <td>2.341</td>\n",
              "      <td>3.032</td>\n",
              "      <td>3.275</td>\n",
              "      <td>2.311</td>\n",
              "      <td>3.172</td>\n",
              "      <td>2.573</td>\n",
              "      <td>1.877</td>\n",
              "      <td>3.875</td>\n",
              "      <td>2.723</td>\n",
              "      <td>2.837</td>\n",
              "      <td>2.364</td>\n",
              "      <td>2.900</td>\n",
              "      <td>2.885</td>\n",
              "      <td>2.139</td>\n",
              "      <td>2.410</td>\n",
              "      <td>1.833</td>\n",
              "      <td>2.441</td>\n",
              "      <td>2.815</td>\n",
              "      <td>2.242</td>\n",
              "      <td>3.160</td>\n",
              "      <td>2.449</td>\n",
              "      <td>2.454</td>\n",
              "      <td>2.238</td>\n",
              "      <td>1.398</td>\n",
              "      <td>2.018</td>\n",
              "      <td>2.624</td>\n",
              "      <td>2.384</td>\n",
              "      <td>2.311</td>\n",
              "      <td>3.087</td>\n",
              "      <td>2.355</td>\n",
              "      <td>2.550</td>\n",
              "      <td>2.077</td>\n",
              "      <td>2.849</td>\n",
              "      <td>2.407</td>\n",
              "      <td>3.561</td>\n",
              "      <td>2.377</td>\n",
              "      <td>2.411</td>\n",
              "      <td>2.788</td>\n",
              "      <td>2.498</td>\n",
              "      <td>1.745</td>\n",
              "      <td>3.931</td>\n",
              "      <td>2.417</td>\n",
              "      <td>2.850</td>\n",
              "      <td>2.467</td>\n",
              "      <td>2.933</td>\n",
              "      <td>3.027</td>\n",
              "      <td>2.194</td>\n",
              "      <td>2.492</td>\n",
              "      <td>1.921</td>\n",
              "      <td>2.293</td>\n",
              "      <td>2.832</td>\n",
              "    </tr>\n",
              "    <tr>\n",
              "      <th>652</th>\n",
              "      <td>71.7</td>\n",
              "      <td>1.946</td>\n",
              "      <td>2.344</td>\n",
              "      <td>2.341</td>\n",
              "      <td>2.402</td>\n",
              "      <td>2.091</td>\n",
              "      <td>1.289</td>\n",
              "      <td>1.827</td>\n",
              "      <td>2.387</td>\n",
              "      <td>2.299</td>\n",
              "      <td>1.970</td>\n",
              "      <td>2.600</td>\n",
              "      <td>2.169</td>\n",
              "      <td>2.517</td>\n",
              "      <td>1.966</td>\n",
              "      <td>2.474</td>\n",
              "      <td>2.363</td>\n",
              "      <td>3.665</td>\n",
              "      <td>2.348</td>\n",
              "      <td>2.886</td>\n",
              "      <td>2.817</td>\n",
              "      <td>1.998</td>\n",
              "      <td>2.966</td>\n",
              "      <td>2.188</td>\n",
              "      <td>1.687</td>\n",
              "      <td>3.306</td>\n",
              "      <td>2.633</td>\n",
              "      <td>2.483</td>\n",
              "      <td>1.975</td>\n",
              "      <td>2.340</td>\n",
              "      <td>2.623</td>\n",
              "      <td>1.904</td>\n",
              "      <td>2.493</td>\n",
              "      <td>1.914</td>\n",
              "      <td>2.426</td>\n",
              "      <td>2.136</td>\n",
              "      <td>2.060</td>\n",
              "      <td>2.521</td>\n",
              "      <td>2.385</td>\n",
              "      <td>2.209</td>\n",
              "      <td>2.006</td>\n",
              "      <td>1.363</td>\n",
              "      <td>1.699</td>\n",
              "      <td>2.467</td>\n",
              "      <td>2.377</td>\n",
              "      <td>2.115</td>\n",
              "      <td>2.975</td>\n",
              "      <td>2.059</td>\n",
              "      <td>2.530</td>\n",
              "      <td>1.892</td>\n",
              "      <td>2.259</td>\n",
              "      <td>2.190</td>\n",
              "      <td>3.607</td>\n",
              "      <td>2.021</td>\n",
              "      <td>2.035</td>\n",
              "      <td>2.128</td>\n",
              "      <td>2.188</td>\n",
              "      <td>1.718</td>\n",
              "      <td>2.920</td>\n",
              "      <td>2.350</td>\n",
              "      <td>2.804</td>\n",
              "      <td>2.165</td>\n",
              "      <td>2.641</td>\n",
              "      <td>2.357</td>\n",
              "      <td>2.010</td>\n",
              "      <td>2.578</td>\n",
              "      <td>1.834</td>\n",
              "      <td>2.387</td>\n",
              "      <td>2.475</td>\n",
              "    </tr>\n",
              "    <tr>\n",
              "      <th>...</th>\n",
              "      <td>...</td>\n",
              "      <td>...</td>\n",
              "      <td>...</td>\n",
              "      <td>...</td>\n",
              "      <td>...</td>\n",
              "      <td>...</td>\n",
              "      <td>...</td>\n",
              "      <td>...</td>\n",
              "      <td>...</td>\n",
              "      <td>...</td>\n",
              "      <td>...</td>\n",
              "      <td>...</td>\n",
              "      <td>...</td>\n",
              "      <td>...</td>\n",
              "      <td>...</td>\n",
              "      <td>...</td>\n",
              "      <td>...</td>\n",
              "      <td>...</td>\n",
              "      <td>...</td>\n",
              "      <td>...</td>\n",
              "      <td>...</td>\n",
              "      <td>...</td>\n",
              "      <td>...</td>\n",
              "      <td>...</td>\n",
              "      <td>...</td>\n",
              "      <td>...</td>\n",
              "      <td>...</td>\n",
              "      <td>...</td>\n",
              "      <td>...</td>\n",
              "      <td>...</td>\n",
              "      <td>...</td>\n",
              "      <td>...</td>\n",
              "      <td>...</td>\n",
              "      <td>...</td>\n",
              "      <td>...</td>\n",
              "      <td>...</td>\n",
              "      <td>...</td>\n",
              "      <td>...</td>\n",
              "      <td>...</td>\n",
              "      <td>...</td>\n",
              "      <td>...</td>\n",
              "      <td>...</td>\n",
              "      <td>...</td>\n",
              "      <td>...</td>\n",
              "      <td>...</td>\n",
              "      <td>...</td>\n",
              "      <td>...</td>\n",
              "      <td>...</td>\n",
              "      <td>...</td>\n",
              "      <td>...</td>\n",
              "      <td>...</td>\n",
              "      <td>...</td>\n",
              "      <td>...</td>\n",
              "      <td>...</td>\n",
              "      <td>...</td>\n",
              "      <td>...</td>\n",
              "      <td>...</td>\n",
              "      <td>...</td>\n",
              "      <td>...</td>\n",
              "      <td>...</td>\n",
              "      <td>...</td>\n",
              "      <td>...</td>\n",
              "      <td>...</td>\n",
              "      <td>...</td>\n",
              "      <td>...</td>\n",
              "      <td>...</td>\n",
              "      <td>...</td>\n",
              "      <td>...</td>\n",
              "      <td>...</td>\n",
              "    </tr>\n",
              "    <tr>\n",
              "      <th>763</th>\n",
              "      <td>55.1</td>\n",
              "      <td>2.300</td>\n",
              "      <td>1.934</td>\n",
              "      <td>2.226</td>\n",
              "      <td>2.920</td>\n",
              "      <td>2.350</td>\n",
              "      <td>1.382</td>\n",
              "      <td>1.815</td>\n",
              "      <td>2.218</td>\n",
              "      <td>2.501</td>\n",
              "      <td>2.049</td>\n",
              "      <td>3.196</td>\n",
              "      <td>2.168</td>\n",
              "      <td>2.616</td>\n",
              "      <td>1.967</td>\n",
              "      <td>2.350</td>\n",
              "      <td>2.489</td>\n",
              "      <td>3.337</td>\n",
              "      <td>2.553</td>\n",
              "      <td>2.724</td>\n",
              "      <td>2.668</td>\n",
              "      <td>2.263</td>\n",
              "      <td>2.426</td>\n",
              "      <td>2.539</td>\n",
              "      <td>1.720</td>\n",
              "      <td>3.625</td>\n",
              "      <td>2.768</td>\n",
              "      <td>2.444</td>\n",
              "      <td>2.395</td>\n",
              "      <td>2.710</td>\n",
              "      <td>2.198</td>\n",
              "      <td>2.001</td>\n",
              "      <td>2.387</td>\n",
              "      <td>1.804</td>\n",
              "      <td>2.277</td>\n",
              "      <td>2.783</td>\n",
              "      <td>2.204</td>\n",
              "      <td>2.055</td>\n",
              "      <td>2.274</td>\n",
              "      <td>2.607</td>\n",
              "      <td>2.256</td>\n",
              "      <td>1.469</td>\n",
              "      <td>1.816</td>\n",
              "      <td>2.209</td>\n",
              "      <td>2.353</td>\n",
              "      <td>2.193</td>\n",
              "      <td>2.672</td>\n",
              "      <td>2.200</td>\n",
              "      <td>2.651</td>\n",
              "      <td>2.086</td>\n",
              "      <td>2.428</td>\n",
              "      <td>2.306</td>\n",
              "      <td>3.366</td>\n",
              "      <td>2.322</td>\n",
              "      <td>2.379</td>\n",
              "      <td>2.588</td>\n",
              "      <td>2.474</td>\n",
              "      <td>1.654</td>\n",
              "      <td>3.688</td>\n",
              "      <td>2.271</td>\n",
              "      <td>2.294</td>\n",
              "      <td>2.213</td>\n",
              "      <td>2.739</td>\n",
              "      <td>2.209</td>\n",
              "      <td>2.013</td>\n",
              "      <td>2.388</td>\n",
              "      <td>1.636</td>\n",
              "      <td>2.289</td>\n",
              "      <td>2.714</td>\n",
              "    </tr>\n",
              "    <tr>\n",
              "      <th>835</th>\n",
              "      <td>74.4</td>\n",
              "      <td>2.351</td>\n",
              "      <td>2.146</td>\n",
              "      <td>2.658</td>\n",
              "      <td>2.801</td>\n",
              "      <td>2.498</td>\n",
              "      <td>1.420</td>\n",
              "      <td>1.715</td>\n",
              "      <td>2.593</td>\n",
              "      <td>2.293</td>\n",
              "      <td>2.114</td>\n",
              "      <td>2.723</td>\n",
              "      <td>2.291</td>\n",
              "      <td>2.550</td>\n",
              "      <td>2.096</td>\n",
              "      <td>2.510</td>\n",
              "      <td>2.379</td>\n",
              "      <td>2.926</td>\n",
              "      <td>2.049</td>\n",
              "      <td>2.876</td>\n",
              "      <td>2.759</td>\n",
              "      <td>2.679</td>\n",
              "      <td>2.948</td>\n",
              "      <td>2.466</td>\n",
              "      <td>1.791</td>\n",
              "      <td>3.031</td>\n",
              "      <td>2.891</td>\n",
              "      <td>2.740</td>\n",
              "      <td>2.580</td>\n",
              "      <td>3.067</td>\n",
              "      <td>2.587</td>\n",
              "      <td>2.279</td>\n",
              "      <td>2.670</td>\n",
              "      <td>1.742</td>\n",
              "      <td>2.341</td>\n",
              "      <td>2.874</td>\n",
              "      <td>2.404</td>\n",
              "      <td>2.429</td>\n",
              "      <td>2.475</td>\n",
              "      <td>2.547</td>\n",
              "      <td>2.403</td>\n",
              "      <td>1.441</td>\n",
              "      <td>1.943</td>\n",
              "      <td>2.551</td>\n",
              "      <td>2.225</td>\n",
              "      <td>2.386</td>\n",
              "      <td>3.012</td>\n",
              "      <td>2.371</td>\n",
              "      <td>2.615</td>\n",
              "      <td>2.153</td>\n",
              "      <td>2.585</td>\n",
              "      <td>2.539</td>\n",
              "      <td>3.493</td>\n",
              "      <td>1.879</td>\n",
              "      <td>2.139</td>\n",
              "      <td>2.575</td>\n",
              "      <td>2.334</td>\n",
              "      <td>1.810</td>\n",
              "      <td>2.798</td>\n",
              "      <td>2.733</td>\n",
              "      <td>2.551</td>\n",
              "      <td>2.260</td>\n",
              "      <td>2.765</td>\n",
              "      <td>2.452</td>\n",
              "      <td>2.323</td>\n",
              "      <td>2.545</td>\n",
              "      <td>1.900</td>\n",
              "      <td>2.350</td>\n",
              "      <td>2.659</td>\n",
              "    </tr>\n",
              "    <tr>\n",
              "      <th>1216</th>\n",
              "      <td>73.1</td>\n",
              "      <td>1.878</td>\n",
              "      <td>2.551</td>\n",
              "      <td>2.400</td>\n",
              "      <td>2.585</td>\n",
              "      <td>2.074</td>\n",
              "      <td>1.447</td>\n",
              "      <td>1.608</td>\n",
              "      <td>2.175</td>\n",
              "      <td>2.149</td>\n",
              "      <td>2.058</td>\n",
              "      <td>2.628</td>\n",
              "      <td>2.065</td>\n",
              "      <td>2.316</td>\n",
              "      <td>1.916</td>\n",
              "      <td>2.550</td>\n",
              "      <td>2.251</td>\n",
              "      <td>3.241</td>\n",
              "      <td>2.025</td>\n",
              "      <td>2.579</td>\n",
              "      <td>2.661</td>\n",
              "      <td>2.137</td>\n",
              "      <td>2.304</td>\n",
              "      <td>2.207</td>\n",
              "      <td>1.511</td>\n",
              "      <td>3.426</td>\n",
              "      <td>2.717</td>\n",
              "      <td>2.373</td>\n",
              "      <td>2.065</td>\n",
              "      <td>2.423</td>\n",
              "      <td>2.280</td>\n",
              "      <td>1.957</td>\n",
              "      <td>2.352</td>\n",
              "      <td>1.764</td>\n",
              "      <td>2.373</td>\n",
              "      <td>2.519</td>\n",
              "      <td>2.061</td>\n",
              "      <td>2.544</td>\n",
              "      <td>2.202</td>\n",
              "      <td>2.364</td>\n",
              "      <td>1.912</td>\n",
              "      <td>1.389</td>\n",
              "      <td>1.738</td>\n",
              "      <td>2.086</td>\n",
              "      <td>2.213</td>\n",
              "      <td>1.998</td>\n",
              "      <td>3.212</td>\n",
              "      <td>1.930</td>\n",
              "      <td>2.417</td>\n",
              "      <td>1.841</td>\n",
              "      <td>2.395</td>\n",
              "      <td>2.112</td>\n",
              "      <td>3.576</td>\n",
              "      <td>1.876</td>\n",
              "      <td>2.210</td>\n",
              "      <td>2.307</td>\n",
              "      <td>2.219</td>\n",
              "      <td>1.681</td>\n",
              "      <td>3.528</td>\n",
              "      <td>2.403</td>\n",
              "      <td>2.387</td>\n",
              "      <td>2.195</td>\n",
              "      <td>2.456</td>\n",
              "      <td>2.277</td>\n",
              "      <td>2.009</td>\n",
              "      <td>2.329</td>\n",
              "      <td>1.726</td>\n",
              "      <td>2.310</td>\n",
              "      <td>2.670</td>\n",
              "    </tr>\n",
              "    <tr>\n",
              "      <th>559</th>\n",
              "      <td>80.9</td>\n",
              "      <td>2.672</td>\n",
              "      <td>2.750</td>\n",
              "      <td>2.631</td>\n",
              "      <td>2.452</td>\n",
              "      <td>2.462</td>\n",
              "      <td>1.475</td>\n",
              "      <td>2.065</td>\n",
              "      <td>2.312</td>\n",
              "      <td>2.471</td>\n",
              "      <td>2.393</td>\n",
              "      <td>3.297</td>\n",
              "      <td>2.317</td>\n",
              "      <td>2.657</td>\n",
              "      <td>2.298</td>\n",
              "      <td>2.694</td>\n",
              "      <td>2.385</td>\n",
              "      <td>3.716</td>\n",
              "      <td>2.704</td>\n",
              "      <td>3.226</td>\n",
              "      <td>3.068</td>\n",
              "      <td>2.458</td>\n",
              "      <td>2.897</td>\n",
              "      <td>2.629</td>\n",
              "      <td>1.732</td>\n",
              "      <td>3.810</td>\n",
              "      <td>2.576</td>\n",
              "      <td>2.719</td>\n",
              "      <td>2.502</td>\n",
              "      <td>2.939</td>\n",
              "      <td>2.535</td>\n",
              "      <td>2.138</td>\n",
              "      <td>2.825</td>\n",
              "      <td>1.896</td>\n",
              "      <td>2.599</td>\n",
              "      <td>2.628</td>\n",
              "      <td>2.474</td>\n",
              "      <td>2.946</td>\n",
              "      <td>2.417</td>\n",
              "      <td>2.674</td>\n",
              "      <td>2.389</td>\n",
              "      <td>1.544</td>\n",
              "      <td>1.988</td>\n",
              "      <td>2.509</td>\n",
              "      <td>2.469</td>\n",
              "      <td>2.201</td>\n",
              "      <td>3.074</td>\n",
              "      <td>2.362</td>\n",
              "      <td>2.664</td>\n",
              "      <td>2.283</td>\n",
              "      <td>2.597</td>\n",
              "      <td>2.455</td>\n",
              "      <td>3.834</td>\n",
              "      <td>2.637</td>\n",
              "      <td>2.710</td>\n",
              "      <td>2.545</td>\n",
              "      <td>2.835</td>\n",
              "      <td>1.778</td>\n",
              "      <td>3.954</td>\n",
              "      <td>2.739</td>\n",
              "      <td>2.761</td>\n",
              "      <td>2.570</td>\n",
              "      <td>3.110</td>\n",
              "      <td>2.386</td>\n",
              "      <td>2.281</td>\n",
              "      <td>2.682</td>\n",
              "      <td>1.813</td>\n",
              "      <td>2.374</td>\n",
              "      <td>2.914</td>\n",
              "    </tr>\n",
              "    <tr>\n",
              "      <th>684</th>\n",
              "      <td>79.4</td>\n",
              "      <td>1.904</td>\n",
              "      <td>2.385</td>\n",
              "      <td>2.196</td>\n",
              "      <td>2.531</td>\n",
              "      <td>2.115</td>\n",
              "      <td>1.320</td>\n",
              "      <td>1.802</td>\n",
              "      <td>2.448</td>\n",
              "      <td>2.107</td>\n",
              "      <td>2.084</td>\n",
              "      <td>2.594</td>\n",
              "      <td>2.121</td>\n",
              "      <td>2.471</td>\n",
              "      <td>1.959</td>\n",
              "      <td>2.263</td>\n",
              "      <td>2.181</td>\n",
              "      <td>3.299</td>\n",
              "      <td>1.579</td>\n",
              "      <td>2.517</td>\n",
              "      <td>2.679</td>\n",
              "      <td>1.915</td>\n",
              "      <td>2.625</td>\n",
              "      <td>2.315</td>\n",
              "      <td>1.489</td>\n",
              "      <td>2.846</td>\n",
              "      <td>2.490</td>\n",
              "      <td>2.327</td>\n",
              "      <td>2.139</td>\n",
              "      <td>2.568</td>\n",
              "      <td>2.210</td>\n",
              "      <td>1.899</td>\n",
              "      <td>2.279</td>\n",
              "      <td>1.755</td>\n",
              "      <td>2.104</td>\n",
              "      <td>2.479</td>\n",
              "      <td>1.895</td>\n",
              "      <td>2.625</td>\n",
              "      <td>2.274</td>\n",
              "      <td>2.514</td>\n",
              "      <td>2.038</td>\n",
              "      <td>1.258</td>\n",
              "      <td>1.766</td>\n",
              "      <td>2.301</td>\n",
              "      <td>2.174</td>\n",
              "      <td>1.891</td>\n",
              "      <td>2.671</td>\n",
              "      <td>2.010</td>\n",
              "      <td>2.488</td>\n",
              "      <td>1.807</td>\n",
              "      <td>2.145</td>\n",
              "      <td>2.052</td>\n",
              "      <td>2.859</td>\n",
              "      <td>1.411</td>\n",
              "      <td>2.267</td>\n",
              "      <td>2.494</td>\n",
              "      <td>2.287</td>\n",
              "      <td>1.550</td>\n",
              "      <td>3.328</td>\n",
              "      <td>2.387</td>\n",
              "      <td>2.578</td>\n",
              "      <td>2.286</td>\n",
              "      <td>2.770</td>\n",
              "      <td>2.142</td>\n",
              "      <td>1.953</td>\n",
              "      <td>2.403</td>\n",
              "      <td>1.671</td>\n",
              "      <td>2.034</td>\n",
              "      <td>2.555</td>\n",
              "    </tr>\n",
              "  </tbody>\n",
              "</table>\n",
              "<p>1084 rows × 69 columns</p>\n",
              "</div>"
            ],
            "text/plain": [
              "       AGE  ...  ST99TA_UCSFFSX_11_02_15_UCSFFSX51_08_01_16\n",
              "1088  62.8  ...                                       2.725\n",
              "921   76.8  ...                                       2.560\n",
              "1335  80.0  ...                                       2.346\n",
              "1130  71.1  ...                                       2.832\n",
              "652   71.7  ...                                       2.475\n",
              "...    ...  ...                                         ...\n",
              "763   55.1  ...                                       2.714\n",
              "835   74.4  ...                                       2.659\n",
              "1216  73.1  ...                                       2.670\n",
              "559   80.9  ...                                       2.914\n",
              "684   79.4  ...                                       2.555\n",
              "\n",
              "[1084 rows x 69 columns]"
            ]
          },
          "metadata": {},
          "execution_count": 31
        }
      ]
    },
    {
      "cell_type": "markdown",
      "metadata": {
        "id": "zuRrZIzqCM6f"
      },
      "source": [
        "### Check-point : 05\n",
        "\n",
        "> 데이터의 각 변수별 단위가 동일하지 않을 수 있다 생각하여 특성 스케일을 맞춰주었다.\n",
        "\n",
        " > 랜덤 포레스트 등에서는 이렇게 해줄 필요가 없지만 선형 회귀 등에서는 더 높은 정확도를 위해 필요한 과정이기에 스케일을 맞춰주었다. "
      ]
    },
    {
      "cell_type": "markdown",
      "metadata": {
        "id": "utNF2M8kI6dh"
      },
      "source": [
        "---\n",
        "# **Task 1**\n",
        "* Multi-output Regression (다중 출력 회귀)\n",
        "---\n"
      ]
    },
    {
      "cell_type": "markdown",
      "metadata": {
        "id": "92iYUWte1RNa"
      },
      "source": [
        "##**모델 적용 - 선형**\n",
        "* LinearRegression\n",
        "* 규제 적용"
      ]
    },
    {
      "cell_type": "markdown",
      "metadata": {
        "id": "lPn6OLHTSSpT"
      },
      "source": [
        "Linear Regression"
      ]
    },
    {
      "cell_type": "code",
      "metadata": {
        "id": "D7FJiFFgs7pi"
      },
      "source": [
        "from sklearn.multioutput import MultiOutputRegressor\n",
        "from sklearn.linear_model import LinearRegression\n",
        "\n",
        "mlr = MultiOutputRegressor(LinearRegression())\n",
        "\n",
        "mlr.fit(X_std, y_reg)\n",
        "y_mlr_pred = mlr.predict(X_std)"
      ],
      "execution_count": null,
      "outputs": []
    },
    {
      "cell_type": "code",
      "metadata": {
        "colab": {
          "base_uri": "https://localhost:8080/"
        },
        "id": "_aPtmSBANv_D",
        "outputId": "792758a3-12ed-446a-c977-ed3765413dae"
      },
      "source": [
        "## 평균 오차 제곱\n",
        "\n",
        "from sklearn.metrics import mean_squared_error\n",
        "print('훈련 MSE : %.3f' %mean_squared_error(y_reg, y_mlr_pred))\n",
        "print('\\n')\n",
        "\n",
        "## 결정 계수\n",
        "\n",
        "from sklearn.metrics import r2_score\n",
        "print('훈련 R2 : %.3f' %r2_score(y_reg, y_mlr_pred))"
      ],
      "execution_count": null,
      "outputs": [
        {
          "output_type": "stream",
          "name": "stdout",
          "text": [
            "훈련 MSE : 23.917\n",
            "\n",
            "\n",
            "훈련 R2 : 0.443\n"
          ]
        }
      ]
    },
    {
      "cell_type": "markdown",
      "metadata": {
        "id": "UTapM0esCoTo"
      },
      "source": [
        "> 먼저 레이블을 두 개 나눴을 때 각 출력값들의 MSE와 R_2의 값은 위와 같이 나왔다. \n",
        "R^2를 성능 지표로 하였을 때 선형 회귀는 대하여 약 44%의 설명력을 가지고 있다고 할 수 있다. \n",
        "\n",
        " > 평균 오차 제곱(MSE) 값은 약 24가 나왔다.\n",
        "\n"
      ]
    },
    {
      "cell_type": "code",
      "metadata": {
        "id": "wss4CbqG8IUG"
      },
      "source": [
        "## reg pipeline\n",
        "\n",
        "from sklearn.model_selection import cross_val_score\n",
        "from sklearn.pipeline import make_pipeline\n",
        "\n",
        "pipe_lr = make_pipeline(StandardScaler(),\n",
        "                        MultiOutputRegressor(LinearRegression()))\n",
        "\n",
        "pipe_lr.fit(X_std, y_reg)\n",
        "lr_scores = cross_val_score(estimator = pipe_lr,\n",
        "                         X = X_std,\n",
        "                         y = y_reg,\n",
        "                         cv = 10,\n",
        "                         n_jobs = -1)"
      ],
      "execution_count": null,
      "outputs": []
    },
    {
      "cell_type": "code",
      "metadata": {
        "colab": {
          "base_uri": "https://localhost:8080/"
        },
        "id": "WE8ep_hPBVWv",
        "outputId": "c8fb3f09-1966-4025-ad23-f247a629c721"
      },
      "source": [
        "print('cv 정확도 점수 : %s' %lr_scores)\n",
        "print('cv 정확도 : %.3f +/- %.3f' %(np.mean(lr_scores), np.std(lr_scores)))"
      ],
      "execution_count": null,
      "outputs": [
        {
          "output_type": "stream",
          "name": "stdout",
          "text": [
            "cv 정확도 점수 : [0.40715374 0.24393163 0.36540489 0.45650136 0.33942275 0.37470954\n",
            " 0.39340582 0.24714779 0.18636285 0.29076872]\n",
            "cv 정확도 : 0.330 +/- 0.081\n"
          ]
        }
      ]
    },
    {
      "cell_type": "markdown",
      "metadata": {
        "id": "MXcO2q8MDPxl"
      },
      "source": [
        "### Check-point : 06\n",
        "\n",
        "> 좀 더 나은 편향과 분산 추정을 위해 K-fold 교차 검증을 하였다.. 이를 위해 표준화와 선형 회귀를 파이프 라인에 넣었다.\n",
        "\n",
        " > 경험적으로 보았을 때 k-겹 교차 검증에서 가장 좋은 기본값을 k = 10이었기에 cv = 10 이라 하였다.\n",
        "  \n",
        " >> n_jobs = -1로 설정하면 컴퓨터에 설치된 모든 CPU 코어를 사용하여 병렬처리 한다는 뜻이다.\n",
        "\n",
        " > cross_val_score 함수에서 검증에 사용되는 기본 측정 지표는 회귀에서 R^2이다.\n",
        "K-겹 교차 검증 결과, 약 33%의 설명력를 가지고 있다고 할 수 있다.\n",
        "선형 회귀는 따로 활성화 함수를 가지고 있지 않기 때문에 따로 튜닝을 하지 않았다.\n",
        " \n",
        " > 대신 규제를 적용하여 과대적합을 방지하고자 했다. \n"
      ]
    },
    {
      "cell_type": "markdown",
      "metadata": {
        "id": "E3xOtrYaQfgR"
      },
      "source": [
        "##**선형 회귀에 규제 적용**\n",
        "\n",
        "* Ridge\n",
        "* Lasso\n",
        "* Elastic Net"
      ]
    },
    {
      "cell_type": "markdown",
      "metadata": {
        "id": "YOMk917AL9DW"
      },
      "source": [
        "Ridge(릿지)"
      ]
    },
    {
      "cell_type": "code",
      "metadata": {
        "id": "EyKVFF48BVQJ"
      },
      "source": [
        "from sklearn.linear_model import Ridge\n",
        "ridge = MultiOutputRegressor(Ridge(alpha = 1.0))\n",
        "ridge.fit(X_std, y_reg)\n",
        "y_ridge = ridge.predict(X_std)"
      ],
      "execution_count": null,
      "outputs": []
    },
    {
      "cell_type": "code",
      "metadata": {
        "colab": {
          "base_uri": "https://localhost:8080/"
        },
        "id": "9jJGcoMRUWXy",
        "outputId": "31c090a4-8c69-4ff4-8382-7cedb8e087d7"
      },
      "source": [
        "## 평균 오차 제곱\n",
        "\n",
        "from sklearn.metrics import mean_squared_error\n",
        "print('훈련 MSE : %.3f' %mean_squared_error(y_reg, y_ridge))\n",
        "print('\\n')\n",
        "\n",
        "## 결정 계수\n",
        "\n",
        "from sklearn.metrics import r2_score\n",
        "print('훈련 R2 : %.3f' %r2_score(y_reg, y_ridge))"
      ],
      "execution_count": null,
      "outputs": [
        {
          "output_type": "stream",
          "name": "stdout",
          "text": [
            "훈련 MSE : 23.917\n",
            "\n",
            "\n",
            "훈련 R2 : 0.443\n"
          ]
        }
      ]
    },
    {
      "cell_type": "code",
      "metadata": {
        "id": "roVojKbpgYwO"
      },
      "source": [
        "pipe_ridge = make_pipeline(StandardScaler(),\n",
        "                        MultiOutputRegressor(Ridge(alpha = 0.5)))\n",
        "\n",
        "ridge_scores = cross_val_score(estimator = pipe_ridge,\n",
        "                         X = X_std,\n",
        "                         y = y_reg,\n",
        "                         cv = 5,\n",
        "                         n_jobs = -1,\n",
        "                         scoring = 'r2')"
      ],
      "execution_count": null,
      "outputs": []
    },
    {
      "cell_type": "code",
      "metadata": {
        "colab": {
          "base_uri": "https://localhost:8080/"
        },
        "id": "4uRtoEWOgeB_",
        "outputId": "1eb8de83-33b6-4577-f4ee-e19a63987ee3"
      },
      "source": [
        "print('cv 정확도 : %.3f +/- %.3f' %(np.mean(ridge_scores), np.std(ridge_scores)))"
      ],
      "execution_count": null,
      "outputs": [
        {
          "output_type": "stream",
          "name": "stdout",
          "text": [
            "cv 정확도 : 0.342 +/- 0.034\n"
          ]
        }
      ]
    },
    {
      "cell_type": "markdown",
      "metadata": {
        "id": "Fp_fUFl-MB5U"
      },
      "source": [
        "Lasso(라쏘)"
      ]
    },
    {
      "cell_type": "code",
      "metadata": {
        "id": "hJpaDaPZQ4fq"
      },
      "source": [
        "from sklearn.linear_model import Lasso\n",
        "lasso = MultiOutputRegressor(Lasso(alpha = 0.5))\n",
        "\n",
        "lasso.fit(X_std, y_reg)\n",
        "y_lasso = lasso.predict(X_std)"
      ],
      "execution_count": null,
      "outputs": []
    },
    {
      "cell_type": "code",
      "metadata": {
        "colab": {
          "base_uri": "https://localhost:8080/"
        },
        "id": "dv_1ztm4UrXn",
        "outputId": "bae58faf-2c13-4af3-b562-dd21b1207657"
      },
      "source": [
        "## 평균 오차 제곱\n",
        "\n",
        "print('훈련 MSE : %.3f' %mean_squared_error(y_reg, y_lasso))\n",
        "print(\"\\n\")\n",
        "\n",
        "## 결정 계수\n",
        "\n",
        "print('훈련 R2 : %.3f' %r2_score(y_reg, y_lasso))"
      ],
      "execution_count": null,
      "outputs": [
        {
          "output_type": "stream",
          "name": "stdout",
          "text": [
            "훈련 MSE : 27.615\n",
            "\n",
            "\n",
            "훈련 R2 : 0.342\n"
          ]
        }
      ]
    },
    {
      "cell_type": "code",
      "metadata": {
        "id": "HoNTcS2QgvIN"
      },
      "source": [
        "## pipeline\n",
        "\n",
        "pipe_lasso = make_pipeline(StandardScaler(),\n",
        "                           MultiOutputRegressor(Lasso(alpha = 0.5)))\n",
        "\n",
        "lasso_scores = cross_val_score(estimator = pipe_lasso,\n",
        "                         X = X_std,\n",
        "                         y = y_reg,\n",
        "                         cv = 5,\n",
        "                         n_jobs = -1,\n",
        "                         scoring = 'r2')"
      ],
      "execution_count": null,
      "outputs": []
    },
    {
      "cell_type": "code",
      "metadata": {
        "colab": {
          "base_uri": "https://localhost:8080/"
        },
        "id": "edhuBCs1gvBD",
        "outputId": "00d8801d-a385-4c00-e158-24f420e172e6"
      },
      "source": [
        "print('cv 정확도 : %.3f +/- %.3f' %(np.mean(lasso_scores), np.std(lasso_scores)))"
      ],
      "execution_count": null,
      "outputs": [
        {
          "output_type": "stream",
          "name": "stdout",
          "text": [
            "cv 정확도 : 0.327 +/- 0.025\n"
          ]
        }
      ]
    },
    {
      "cell_type": "markdown",
      "metadata": {
        "id": "6Lh5ZbrwMFh8"
      },
      "source": [
        "ElasticNoet(일레스틱 넷)"
      ]
    },
    {
      "cell_type": "code",
      "metadata": {
        "id": "PGXWDD2BQ4eq"
      },
      "source": [
        "from sklearn.linear_model import ElasticNet\n",
        "elanet = MultiOutputRegressor(ElasticNet(alpha = 1.0,\n",
        "                              l1_ratio = 0.4))\n",
        "\n",
        "elanet.fit(X_std, y_reg)\n",
        "y_elanet = elanet.predict(X_std)"
      ],
      "execution_count": null,
      "outputs": []
    },
    {
      "cell_type": "code",
      "metadata": {
        "colab": {
          "base_uri": "https://localhost:8080/"
        },
        "id": "HzTSzTH_VSTu",
        "outputId": "c6936a70-bacb-4200-d85e-32b969f5293c"
      },
      "source": [
        "## 평균 오차 제곱\n",
        "\n",
        "print('훈련 MSE : %.3f' %mean_squared_error(y_reg, y_elanet))\n",
        "print(\"\\n\")\n",
        "\n",
        "## 결정 계수\n",
        "\n",
        "print('훈련 R2 : %.3f' %r2_score(y_reg, y_elanet))"
      ],
      "execution_count": null,
      "outputs": [
        {
          "output_type": "stream",
          "name": "stdout",
          "text": [
            "훈련 MSE : 28.276\n",
            "\n",
            "\n",
            "훈련 R2 : 0.334\n"
          ]
        }
      ]
    },
    {
      "cell_type": "code",
      "metadata": {
        "id": "dEv94IeehFme"
      },
      "source": [
        "## pipeline\n",
        "\n",
        "pipe_elanet = make_pipeline(StandardScaler(),\n",
        "                             MultiOutputRegressor(ElasticNet(alpha = 1.0,\n",
        "                                                             l1_ratio = 0.4)))\n",
        "\n",
        "elanet_scores = cross_val_score(estimator = pipe_elanet,\n",
        "                         X = X_std,\n",
        "                         y = y_reg,\n",
        "                         cv = 10,\n",
        "                         n_jobs = -1,\n",
        "                         scoring = 'r2')"
      ],
      "execution_count": null,
      "outputs": []
    },
    {
      "cell_type": "code",
      "metadata": {
        "colab": {
          "base_uri": "https://localhost:8080/"
        },
        "id": "6Xz_fFNghFmn",
        "outputId": "30fb4ddf-2572-45c7-dc55-43b9efa11d27"
      },
      "source": [
        "print('cv 정확도 : %.3f +/- %.3f' %(np.mean(elanet_scores), np.std(elanet_scores)))"
      ],
      "execution_count": null,
      "outputs": [
        {
          "output_type": "stream",
          "name": "stdout",
          "text": [
            "cv 정확도 : 0.303 +/- 0.049\n"
          ]
        }
      ]
    },
    {
      "cell_type": "markdown",
      "metadata": {
        "id": "poAk3OyxhW38"
      },
      "source": [
        "##**모델 적용 - 비선형**\n",
        "* 결정 트리\n",
        "* 랜덤 포레스트\n",
        "* KNN"
      ]
    },
    {
      "cell_type": "markdown",
      "metadata": {
        "id": "05GJ6IGLL1jN"
      },
      "source": [
        "결정 트리"
      ]
    },
    {
      "cell_type": "code",
      "metadata": {
        "id": "04WaPifrQ4ZV"
      },
      "source": [
        "from sklearn.tree import DecisionTreeRegressor\n",
        "tree = MultiOutputRegressor(DecisionTreeRegressor(max_depth = 5))\n",
        "\n",
        "tree.fit(X_std, y_reg)\n",
        "y_tree = tree.predict(X_std)"
      ],
      "execution_count": null,
      "outputs": []
    },
    {
      "cell_type": "code",
      "metadata": {
        "colab": {
          "base_uri": "https://localhost:8080/"
        },
        "id": "p5p9PXGCQzzb",
        "outputId": "777f814f-e05f-490b-bb1b-018af282b825"
      },
      "source": [
        "## 평균 오차 제곱\n",
        "\n",
        "from sklearn.metrics import mean_squared_error\n",
        "print('훈련 MSE : %.3f' %mean_squared_error(y_reg, y_tree))\n",
        "print('\\n')\n",
        "\n",
        "## 결정 계수\n",
        "\n",
        "from sklearn.metrics import r2_score\n",
        "print('훈련 R2 : %.3f' %r2_score(y_reg, y_tree))"
      ],
      "execution_count": null,
      "outputs": [
        {
          "output_type": "stream",
          "name": "stdout",
          "text": [
            "훈련 MSE : 20.237\n",
            "\n",
            "\n",
            "훈련 R2 : 0.543\n"
          ]
        }
      ]
    },
    {
      "cell_type": "markdown",
      "metadata": {
        "id": "d50O7wqaHbQX"
      },
      "source": [
        "### Check-point : 07\n",
        "\n",
        "> 지금까지는 선형으로 예측하였고 다음으로는 비선형으로 예측을 해보았다.\n",
        "\n",
        " > 먼저 결정트리를 해보았디. max_depth = 5로 설정하고 정확도 지표로 R^2를 살펴보았을 때 \n",
        "결정트리로 예측하였을 시 약 54%의 설명력을 가지고 있다고 할 수 있다.\n",
        "\n",
        " > 설명력 차이는 선형회귀보다 역시 약 20%가 높게 나왔다. 이를 통해 해당 데이터가 선형보다는 비선형으로 좀 더 설명이 잘 되겠다고 판단하였다."
      ]
    },
    {
      "cell_type": "code",
      "metadata": {
        "id": "RknKDyf0lGUr"
      },
      "source": [
        "from sklearn.model_selection import GridSearchCV\n",
        "\n",
        "parameters = {\n",
        "    'max_depth': [1, 3, 5, 7, 9]\n",
        "}\n",
        "\n",
        "gs = MultiOutputRegressor(GridSearchCV(DecisionTreeRegressor(random_state = 1), \n",
        "                                        param_grid = parameters, \n",
        "                                        cv = 3))\n",
        "\n",
        "## pipeline\n",
        "\n",
        "tree_scores = cross_val_score(gs,\n",
        "                         X = X_std,\n",
        "                         y = y_reg,\n",
        "                         cv = 7)"
      ],
      "execution_count": null,
      "outputs": []
    },
    {
      "cell_type": "code",
      "metadata": {
        "colab": {
          "base_uri": "https://localhost:8080/"
        },
        "id": "BToZxaQ3lGUy",
        "outputId": "eb09ec99-2fde-42dd-cf7a-0357661e0b22"
      },
      "source": [
        "print('cv 정확도 : %.3f +/- %.3f' %(np.mean(tree_scores), np.std(tree_scores)))"
      ],
      "execution_count": null,
      "outputs": [
        {
          "output_type": "stream",
          "name": "stdout",
          "text": [
            "cv 정확도 : 0.266 +/- 0.083\n"
          ]
        }
      ]
    },
    {
      "cell_type": "code",
      "metadata": {
        "colab": {
          "base_uri": "https://localhost:8080/"
        },
        "id": "9gb8s17UP2A2",
        "outputId": "5772542e-c23a-4f9a-855c-16c320f2bf90"
      },
      "source": [
        "gs.fit(X_std, y_reg)\n",
        "tree_reg_pred = gs.predict(X_std)\n",
        "\n",
        "## 평균 오차 제곱\n",
        "\n",
        "from sklearn.metrics import mean_squared_error\n",
        "print('훈련 MSE : %.3f' %mean_squared_error(y_reg, tree_reg_pred))\n",
        "print('\\n')\n",
        "\n",
        "## 결정 계수\n",
        "\n",
        "from sklearn.metrics import r2_score\n",
        "print('훈련 R2 : %.3f' %r2_score(y_reg, tree_reg_pred))"
      ],
      "execution_count": null,
      "outputs": [
        {
          "output_type": "stream",
          "name": "stdout",
          "text": [
            "훈련 MSE : 26.101\n",
            "\n",
            "\n",
            "훈련 R2 : 0.354\n"
          ]
        }
      ]
    },
    {
      "cell_type": "markdown",
      "metadata": {
        "id": "VhPiuiLNMmWn"
      },
      "source": [
        "> 그리드 서치와 k-fold를 사용하여 중첩 교차검증을 함께 사용하면 머신 러닝 모델의 성능을 세부 튜닝하기에 좋다.\n",
        "\n",
        " > 먼저 바깥쪽 루프(최적의 매개변수로 훈련)는 cv = 7로 하였고, 안쪽 루프(매개변수 튜닝)는 cv = 5로 하였다.\n",
        "\n",
        " > cross_val_score는 기본 측정 지표가 분류일 때는 정확도 이다.\n",
        "\n",
        " > 하이퍼파라미터의 튜닝 후 모델의 중첩 교차 성능은 평균적으로 MMSE는 약 26%의 정확도가 나왔다.\n",
        "\n",
        " > 그리드 서치로 살펴본 r^2는 약 35%의 설명력을 가지고, 26의 MSE 값을 가졌다."
      ]
    },
    {
      "cell_type": "markdown",
      "metadata": {
        "id": "L_tf6jueL4oC"
      },
      "source": [
        "랜덤 포레스트"
      ]
    },
    {
      "cell_type": "code",
      "metadata": {
        "id": "b09hKmNWkb7R"
      },
      "source": [
        "from sklearn.ensemble import RandomForestRegressor\n",
        "\n",
        "forest = MultiOutputRegressor(RandomForestRegressor(n_estimators = 50,\n",
        "                               criterion = 'mse',\n",
        "                               max_depth = 8,\n",
        "                               random_state = 1,\n",
        "                               n_jobs = -1))\n",
        "\n",
        "forest.fit(X_std, y_reg)\n",
        "y_forest = forest.predict(X_std)"
      ],
      "execution_count": null,
      "outputs": []
    },
    {
      "cell_type": "code",
      "metadata": {
        "colab": {
          "base_uri": "https://localhost:8080/"
        },
        "id": "m8Yzg8nBRwZR",
        "outputId": "4b0e2faa-16cd-4894-9740-3f695540fe74"
      },
      "source": [
        "## 평균 오차 제곱\n",
        "\n",
        "from sklearn.metrics import mean_squared_error\n",
        "print('훈련 MSE : %.3f' %mean_squared_error(y_reg, y_forest))\n",
        "print('\\n')\n",
        "\n",
        "## 결정 계수\n",
        "\n",
        "from sklearn.metrics import r2_score\n",
        "print('훈련 R2 : %.3f' %r2_score(y_reg, y_forest))"
      ],
      "execution_count": null,
      "outputs": [
        {
          "output_type": "stream",
          "name": "stdout",
          "text": [
            "훈련 MSE : 9.727\n",
            "\n",
            "\n",
            "훈련 R2 : 0.775\n"
          ]
        }
      ]
    },
    {
      "cell_type": "markdown",
      "metadata": {
        "id": "1u2uECQHNdK2"
      },
      "source": [
        "> 랜덤 포레스트로 비선형 예측을 하였을 때 약 77%의 설명력를 가지고 있다고 나왔다.\n",
        "\n",
        " > 이전까지의 결과를 보아 본 수치가 과대적합되어 나왔을 것 같다는 판단을 하였다. 그래서 그리드 서치를 통해 max_depth를 튜닝해봐야겠다 판단하였다. "
      ]
    },
    {
      "cell_type": "code",
      "metadata": {
        "id": "-jXfetDpmJfN"
      },
      "source": [
        "from sklearn.model_selection import GridSearchCV\n",
        "\n",
        "parameters = {\n",
        "    'max_depth': [1, 3, 5, 7, 9]\n",
        "}\n",
        "gs_forest = MultiOutputRegressor(GridSearchCV(RandomForestRegressor(random_state = 1), \n",
        "                                      param_grid = parameters, \n",
        "                                      cv = 3))\n",
        "\n",
        "\n",
        "## pipeline\n",
        "\n",
        "forest_scores = cross_val_score(gs_forest,\n",
        "                         X = X_std,\n",
        "                         y = y_reg,\n",
        "                         cv = 7)"
      ],
      "execution_count": null,
      "outputs": []
    },
    {
      "cell_type": "code",
      "metadata": {
        "colab": {
          "base_uri": "https://localhost:8080/"
        },
        "id": "Qbkci_jXmJfW",
        "outputId": "7bf25591-1508-4500-b7b6-256b5695c804"
      },
      "source": [
        "print('cv 정확도 : %.3f +/- %.3f' %(np.mean(forest_scores), np.std(forest_scores)))"
      ],
      "execution_count": null,
      "outputs": [
        {
          "output_type": "stream",
          "name": "stdout",
          "text": [
            "cv 정확도 : 0.366 +/- 0.046\n"
          ]
        }
      ]
    },
    {
      "cell_type": "code",
      "metadata": {
        "colab": {
          "base_uri": "https://localhost:8080/"
        },
        "id": "gGI9-NbDkb5-",
        "outputId": "9a09d722-cbb6-4e69-a0a6-17f761429eb3"
      },
      "source": [
        "gs_forest.fit(X_std, y_reg)\n",
        "forest_reg_pred = gs_forest.predict(X_std)\n",
        "\n",
        "## 평균 오차 제곱\n",
        "\n",
        "from sklearn.metrics import mean_squared_error\n",
        "print('훈련 MSE : %.3f' %mean_squared_error(y_reg, forest_reg_pred))\n",
        "print('\\n')\n",
        "\n",
        "## 결정 계수\n",
        "\n",
        "from sklearn.metrics import r2_score\n",
        "print('훈련 R2 : %.3f' %r2_score(y_reg, forest_reg_pred))"
      ],
      "execution_count": null,
      "outputs": [
        {
          "output_type": "stream",
          "name": "stdout",
          "text": [
            "훈련 MSE : 8.630\n",
            "\n",
            "\n",
            "훈련 R2 : 0.711\n"
          ]
        }
      ]
    },
    {
      "cell_type": "markdown",
      "metadata": {
        "id": "8jhqBE9kTRpp"
      },
      "source": [
        "\n",
        "\n",
        "> 그리드 서치와 k-겹 교차 검증을 통해 중첩 교차 검증하였을 시 평균적으로 약 70%의 정확도를 가졌다.\n",
        "\n",
        "\n",
        " > 이 결과를 통해 처음 랜덤 포레스트를 돌린 결과값과 교차 검증을 하여 나온 결과값과의 차이가 10% 안으로, 모델링이 잘 되었다 판단하였다.\n"
      ]
    },
    {
      "cell_type": "markdown",
      "metadata": {
        "id": "E9e-lOzT4W54"
      },
      "source": [
        "knn"
      ]
    },
    {
      "cell_type": "code",
      "metadata": {
        "id": "E-pHDGmJ4cqT"
      },
      "source": [
        "from sklearn.multioutput import MultiOutputRegressor\n",
        "from sklearn.neighbors import KNeighborsRegressor\n",
        "\n",
        "knn_reg = MultiOutputRegressor(KNeighborsRegressor(n_neighbors = 10))\n",
        "\n",
        "\n",
        "knn_reg.fit(X_std, y_reg)\n",
        "y_knn_reg = knn_reg.predict(X_std)"
      ],
      "execution_count": null,
      "outputs": []
    },
    {
      "cell_type": "code",
      "metadata": {
        "colab": {
          "base_uri": "https://localhost:8080/"
        },
        "id": "wHTngkAg4cqh",
        "outputId": "a523ca58-6d10-43c9-8543-35dbb98f3874"
      },
      "source": [
        "## 평균 오차 제곱\n",
        "\n",
        "print('훈련 MSE : %.3f' %mean_squared_error(y_reg, y_knn_reg))\n",
        "print('\\n')\n",
        "\n",
        "## 결정 계수\n",
        "\n",
        "print('훈련 R2 : %.3f' %r2_score(y_reg, y_knn_reg))"
      ],
      "execution_count": null,
      "outputs": [
        {
          "output_type": "stream",
          "name": "stdout",
          "text": [
            "훈련 MSE : 25.935\n",
            "\n",
            "\n",
            "훈련 R2 : 0.415\n"
          ]
        }
      ]
    },
    {
      "cell_type": "markdown",
      "metadata": {
        "id": "PLumasNBXafv"
      },
      "source": [
        "> 마지막으로 KNN을 돌려보았을 때 이웃의 수를 10으로 두었을 때 평균적으로 약 41%의 정확도를 가지고 나왔다. 이때 KNN 측정 지표로는 유클리디안 거리가 사용되었습니다. "
      ]
    },
    {
      "cell_type": "code",
      "metadata": {
        "id": "qZFN6f265S2X"
      },
      "source": [
        "parameters = {\n",
        "    'n_neighbors': [1,3,5,7,9]\n",
        "}\n",
        "gs = MultiOutputRegressor(GridSearchCV(KNeighborsRegressor(), \n",
        "                           param_grid = parameters,\n",
        "                           cv = 3))\n",
        "\n",
        "\n",
        "## pipeline\n",
        "\n",
        "knn_scores = cross_val_score(gs,\n",
        "                         X = X_std,\n",
        "                         y = y_reg,\n",
        "                         cv = 5,\n",
        "                         n_jobs = -1)"
      ],
      "execution_count": null,
      "outputs": []
    },
    {
      "cell_type": "code",
      "metadata": {
        "colab": {
          "base_uri": "https://localhost:8080/"
        },
        "id": "U-s8EDWT5S2h",
        "outputId": "7f65a377-a47e-45f9-b89f-f646a6517127"
      },
      "source": [
        "print('cv 정확도 : %.3f +/- %.3f' %(np.mean(knn_scores), np.std(knn_scores)))"
      ],
      "execution_count": null,
      "outputs": [
        {
          "output_type": "stream",
          "name": "stdout",
          "text": [
            "cv 정확도 : 0.267 +/- 0.037\n"
          ]
        }
      ]
    },
    {
      "cell_type": "code",
      "metadata": {
        "colab": {
          "base_uri": "https://localhost:8080/"
        },
        "id": "ph2CuhDzkb3g",
        "outputId": "1d194d89-ff66-43a9-9af7-3e1a28d88d15"
      },
      "source": [
        "gs.fit(X_std, y_reg)\n",
        "knn_reg_pred = gs.predict(X_std)\n",
        "\n",
        "## 평균 오차 제곱\n",
        "\n",
        "print('훈련 MSE : %.3f' %mean_squared_error(y_reg, knn_reg_pred))\n",
        "print('\\n')\n",
        "\n",
        "## 결정 계수\n",
        "\n",
        "print('훈련 R2 : %.3f' %r2_score(y_reg, knn_reg_pred))"
      ],
      "execution_count": null,
      "outputs": [
        {
          "output_type": "stream",
          "name": "stdout",
          "text": [
            "훈련 MSE : 25.707\n",
            "\n",
            "\n",
            "훈련 R2 : 0.422\n"
          ]
        }
      ]
    },
    {
      "cell_type": "markdown",
      "metadata": {
        "id": "8vMrR0DTZGnQ"
      },
      "source": [
        "> knn을 적용하였을 때 평균적으로 약 26%의 정확도를 가지고 있다고 판단할 수 있습니다. \n",
        "\n",
        " > 하지만 parameters의 이웃의 수를 수정해보면서 계산한 결과, 그냥 이웃이 많으면 많을수록 좋다는 결과가 나와 이는 knn은 과대적합의 위험요인이 존재하고, 오히려 신빙성이 떨어진다는 판단을 하였다."
      ]
    },
    {
      "cell_type": "markdown",
      "metadata": {
        "id": "Us_xfYzhc91E"
      },
      "source": [
        "# Task 1 최종 결과\n",
        "> 회귀 : 랜덤 포레스트"
      ]
    },
    {
      "cell_type": "markdown",
      "metadata": {
        "id": "JsSzwilhdLt8"
      },
      "source": [
        "---\n",
        "# **Task 2**\n",
        "* Multi-output Classification (다중 출력 분류)\n",
        "\n",
        "---\n",
        "\n",
        "\n"
      ]
    },
    {
      "cell_type": "markdown",
      "metadata": {
        "id": "seFbvF9eS11w"
      },
      "source": [
        "##**class label**\n",
        "* 클래스의 분포 알아보기\n",
        "> 만약 분포의 수가 균등하지 않을 경우, 정확도를 사용하는 것보다 다른 지표를 활용하는 것이 낫다."
      ]
    },
    {
      "cell_type": "code",
      "metadata": {
        "colab": {
          "base_uri": "https://localhost:8080/",
          "height": 353
        },
        "id": "QSCm_3mPJdUO",
        "outputId": "4213a92b-77e5-412d-da22-d19836a456ad"
      },
      "source": [
        "# 클래스 분포 알아보기\n",
        "## 불균형한 클래스 일 경우 훈련하는 동안 학습 알고리즘 자체에 영향을 미치기 때문에 처리를 해줘야한다.\n",
        "## 정확도 대신 정밀고, 재현율, ROC 곡선을 사용. 혹은 SMOTE 사용.\n",
        "\n",
        "import seaborn as sns\n",
        "\n",
        "sns.countplot(y_cls['DXCHANGE'])\n",
        "\n",
        "## DXCHANGE: clinical label (1-CN, 2-MCI, 3-AD)"
      ],
      "execution_count": null,
      "outputs": [
        {
          "output_type": "stream",
          "name": "stderr",
          "text": [
            "/usr/local/lib/python3.7/dist-packages/seaborn/_decorators.py:43: FutureWarning: Pass the following variable as a keyword arg: x. From version 0.12, the only valid positional argument will be `data`, and passing other arguments without an explicit keyword will result in an error or misinterpretation.\n",
            "  FutureWarning\n"
          ]
        },
        {
          "output_type": "execute_result",
          "data": {
            "text/plain": [
              "<matplotlib.axes._subplots.AxesSubplot at 0x7fe22f001bd0>"
            ]
          },
          "metadata": {},
          "execution_count": 63
        },
        {
          "output_type": "display_data",
          "data": {
            "image/png": "[encoded data removed]",
            "text/plain": [
              "<Figure size 432x288 with 1 Axes>"
            ]
          },
          "metadata": {}
        }
      ]
    },
    {
      "cell_type": "code",
      "metadata": {
        "colab": {
          "base_uri": "https://localhost:8080/"
        },
        "id": "T0z_Q8TmCacM",
        "outputId": "ca07fadb-aa2f-4bd6-b07a-95c032a36713"
      },
      "source": [
        "# class label count\n",
        "\n",
        "y_cls['DXCHANGE'].value_counts()"
      ],
      "execution_count": null,
      "outputs": [
        {
          "output_type": "execute_result",
          "data": {
            "text/plain": [
              "2    557\n",
              "1    329\n",
              "3    198\n",
              "Name: DXCHANGE, dtype: int64"
            ]
          },
          "metadata": {},
          "execution_count": 64
        }
      ]
    },
    {
      "cell_type": "markdown",
      "metadata": {
        "id": "FrqviBFYrPvV"
      },
      "source": [
        "* Dummy value 생성\n",
        "  * One-Hot encoding"
      ]
    },
    {
      "cell_type": "code",
      "metadata": {
        "id": "sTlk-b2lrajM"
      },
      "source": [
        "y_dm = pd.get_dummies(y_cls['DXCHANGE'], drop_first = True)"
      ],
      "execution_count": null,
      "outputs": []
    },
    {
      "cell_type": "code",
      "metadata": {
        "colab": {
          "base_uri": "https://localhost:8080/",
          "height": 408
        },
        "id": "Be4Q7s0stXfF",
        "outputId": "dd943e82-8496-4b80-8c84-f06531875afa"
      },
      "source": [
        "y_dm"
      ],
      "execution_count": null,
      "outputs": [
        {
          "output_type": "execute_result",
          "data": {
            "text/html": [
              "<div>\n",
              "<style scoped>\n",
              "    .dataframe tbody tr th:only-of-type {\n",
              "        vertical-align: middle;\n",
              "    }\n",
              "\n",
              "    .dataframe tbody tr th {\n",
              "        vertical-align: top;\n",
              "    }\n",
              "\n",
              "    .dataframe thead th {\n",
              "        text-align: right;\n",
              "    }\n",
              "</style>\n",
              "<table border=\"1\" class=\"dataframe\">\n",
              "  <thead>\n",
              "    <tr style=\"text-align: right;\">\n",
              "      <th></th>\n",
              "      <th>2</th>\n",
              "      <th>3</th>\n",
              "    </tr>\n",
              "  </thead>\n",
              "  <tbody>\n",
              "    <tr>\n",
              "      <th>1088</th>\n",
              "      <td>1</td>\n",
              "      <td>0</td>\n",
              "    </tr>\n",
              "    <tr>\n",
              "      <th>921</th>\n",
              "      <td>1</td>\n",
              "      <td>0</td>\n",
              "    </tr>\n",
              "    <tr>\n",
              "      <th>1335</th>\n",
              "      <td>1</td>\n",
              "      <td>0</td>\n",
              "    </tr>\n",
              "    <tr>\n",
              "      <th>1130</th>\n",
              "      <td>1</td>\n",
              "      <td>0</td>\n",
              "    </tr>\n",
              "    <tr>\n",
              "      <th>652</th>\n",
              "      <td>1</td>\n",
              "      <td>0</td>\n",
              "    </tr>\n",
              "    <tr>\n",
              "      <th>...</th>\n",
              "      <td>...</td>\n",
              "      <td>...</td>\n",
              "    </tr>\n",
              "    <tr>\n",
              "      <th>763</th>\n",
              "      <td>1</td>\n",
              "      <td>0</td>\n",
              "    </tr>\n",
              "    <tr>\n",
              "      <th>835</th>\n",
              "      <td>1</td>\n",
              "      <td>0</td>\n",
              "    </tr>\n",
              "    <tr>\n",
              "      <th>1216</th>\n",
              "      <td>0</td>\n",
              "      <td>0</td>\n",
              "    </tr>\n",
              "    <tr>\n",
              "      <th>559</th>\n",
              "      <td>1</td>\n",
              "      <td>0</td>\n",
              "    </tr>\n",
              "    <tr>\n",
              "      <th>684</th>\n",
              "      <td>1</td>\n",
              "      <td>0</td>\n",
              "    </tr>\n",
              "  </tbody>\n",
              "</table>\n",
              "<p>1084 rows × 2 columns</p>\n",
              "</div>"
            ],
            "text/plain": [
              "      2  3\n",
              "1088  1  0\n",
              "921   1  0\n",
              "1335  1  0\n",
              "1130  1  0\n",
              "652   1  0\n",
              "...  .. ..\n",
              "763   1  0\n",
              "835   1  0\n",
              "1216  0  0\n",
              "559   1  0\n",
              "684   1  0\n",
              "\n",
              "[1084 rows x 2 columns]"
            ]
          },
          "metadata": {},
          "execution_count": 66
        }
      ]
    },
    {
      "cell_type": "markdown",
      "metadata": {
        "id": "Ml6puXABhryl"
      },
      "source": [
        "### Check-point : 08\n",
        "\n",
        "> 원본 데이터에서 클래스 레이블은 순서가 없는 label이지만 정수 [1,2,3]으로 표현되어 있기 때문에 컴퓨터 입장에서는 순서가 있는 레이블로 인식할 수 있다. \n",
        "\n",
        " > 그래서 더미변수를 추가하여 [0,1]만 가지고 있는 클래스 레이블로 수정하였다. --> 원/핫 인코딩"
      ]
    },
    {
      "cell_type": "markdown",
      "metadata": {
        "id": "5BU2sRMLS7aL"
      },
      "source": [
        "##**모델 적용**\n",
        "* 결정 트리\n",
        "* 랜덤 포레스트\n",
        "* knn"
      ]
    },
    {
      "cell_type": "markdown",
      "metadata": {
        "id": "sZEeIoLdp4Hr"
      },
      "source": [
        "*Decision Tree*"
      ]
    },
    {
      "cell_type": "code",
      "metadata": {
        "id": "OJwnsFNnXSbu"
      },
      "source": [
        "from sklearn.tree import DecisionTreeClassifier\n",
        "\n",
        "tree_cls = DecisionTreeClassifier(criterion = 'gini',\n",
        "                              max_depth = 7,\n",
        "                              random_state=0)\n",
        "tree_cls.fit(X_std, y_dm)\n",
        "y_tree_cls = tree_cls.predict(X_std)"
      ],
      "execution_count": null,
      "outputs": []
    },
    {
      "cell_type": "code",
      "metadata": {
        "colab": {
          "base_uri": "https://localhost:8080/"
        },
        "id": "rmkrz-ZbjhaT",
        "outputId": "b195f7c0-8410-4cd6-bc45-b2b14d123ef3"
      },
      "source": [
        "## 평균 오차 제곱\n",
        "\n",
        "print('훈련 MSE : %.3f' %mean_squared_error(y_dm, y_tree_cls))\n",
        "\n",
        "## 결정 계수\n",
        "print('훈련 R2 : %.3f' %r2_score(y_dm, y_tree_cls))"
      ],
      "execution_count": null,
      "outputs": [
        {
          "output_type": "stream",
          "name": "stdout",
          "text": [
            "훈련 MSE : 0.138\n",
            "훈련 R2 : 0.373\n"
          ]
        }
      ]
    },
    {
      "cell_type": "markdown",
      "metadata": {
        "id": "3rc7Fzy9lW-o"
      },
      "source": [
        "> 결정 트리로 분류를 하였을 때 MSE는 0.138, R^2는 0.373(약 37%의 설명력)이 나왔다. "
      ]
    },
    {
      "cell_type": "code",
      "metadata": {
        "id": "gbHQ1yjvRtuA"
      },
      "source": [
        "parameters = {\n",
        "    'max_depth': [1, 3, 5, 7, 9]\n",
        "}\n",
        "\n",
        "gs = GridSearchCV(DecisionTreeClassifier(random_state = 1), \n",
        "                  param_grid = parameters, \n",
        "                  cv = 3,\n",
        "                  return_train_score = True)\n",
        "\n",
        "\n",
        "tree_scores = cross_val_score(gs,\n",
        "                         X = X_std,\n",
        "                         y = y_dm,\n",
        "                         cv = 10,\n",
        "                         n_jobs = 1)"
      ],
      "execution_count": null,
      "outputs": []
    },
    {
      "cell_type": "code",
      "metadata": {
        "colab": {
          "base_uri": "https://localhost:8080/"
        },
        "id": "Luy3lV5Tjh_k",
        "outputId": "d03abe45-1b0c-4bd1-bb85-611352f9bcbf"
      },
      "source": [
        "print(\"CV tree 정확도 : %s\" %tree_scores)\n",
        "print(\"CV tree : %.3f +/- %.3f\" %(np.mean(tree_scores), np.std(tree_scores)))"
      ],
      "execution_count": null,
      "outputs": [
        {
          "output_type": "stream",
          "name": "stdout",
          "text": [
            "CV tree 정확도 : [0.51376147 0.42201835 0.42201835 0.50458716 0.55555556 0.53703704\n",
            " 0.50925926 0.50925926 0.44444444 0.49074074]\n",
            "CV tree : 0.491 +/- 0.044\n"
          ]
        }
      ]
    },
    {
      "cell_type": "code",
      "metadata": {
        "colab": {
          "base_uri": "https://localhost:8080/"
        },
        "id": "Km1U2TiBT-9a",
        "outputId": "dda41a5d-a35b-4147-f982-3d573abd7b3f"
      },
      "source": [
        "gs.fit(X_std, y_dm)\n",
        "print(gs.best_params_)\n",
        "print(gs.best_score_)"
      ],
      "execution_count": null,
      "outputs": [
        {
          "output_type": "stream",
          "name": "stdout",
          "text": [
            "{'max_depth': 7}\n",
            "0.5239665753508517\n"
          ]
        }
      ]
    },
    {
      "cell_type": "markdown",
      "metadata": {
        "id": "DFiFOuhPvmEj"
      },
      "source": [
        "> 결정트리를 그리드서치와 k-겹 교차 검증을 겹친 중첩 교차 검증을 하였을 때 max_depth가 7일 때 가장 좋은 성능이 나왔으며 각 k-fold 검증의 평균은 0.49이고 분산은 +/-0.044 이하였다."
      ]
    },
    {
      "cell_type": "markdown",
      "metadata": {
        "id": "9oy4-vFiqzfI"
      },
      "source": [
        "Random forest"
      ]
    },
    {
      "cell_type": "code",
      "metadata": {
        "id": "Nk65NaYUVQY5"
      },
      "source": [
        "from sklearn.ensemble import RandomForestClassifier\n",
        "\n",
        "forest_cls = RandomForestClassifier(criterion = 'gini',\n",
        "                                random_state = 1,\n",
        "                                max_depth = 7)\n",
        "\n",
        "forest_cls.fit(X = X_std, y = y_dm)\n",
        "y_forest_cls = forest_cls.predict(X_std)"
      ],
      "execution_count": null,
      "outputs": []
    },
    {
      "cell_type": "code",
      "metadata": {
        "colab": {
          "base_uri": "https://localhost:8080/"
        },
        "id": "BIuS-lg3VQV5",
        "outputId": "1fc18814-8052-488c-a34a-ad56f4f32a8b"
      },
      "source": [
        "## 평균 오차 제곱\n",
        "\n",
        "print('훈련 MSE : %.3f' %mean_squared_error(y_dm, y_forest_cls))\n",
        "\n",
        "## 결정 계수\n",
        "print('훈련 R2 : %.3f' %r2_score(y_dm, y_forest_cls))\n",
        "\n",
        "print(\"forest 정확도: {:.3f}\".format(forest_cls.score(X_std, y_dm)))"
      ],
      "execution_count": null,
      "outputs": [
        {
          "output_type": "stream",
          "name": "stdout",
          "text": [
            "훈련 MSE : 0.062\n",
            "훈련 R2 : 0.669\n",
            "forest 정확도: 0.881\n"
          ]
        }
      ]
    },
    {
      "cell_type": "code",
      "metadata": {
        "id": "0IkqMDosVQTJ"
      },
      "source": [
        "parameters = {\n",
        "    'max_depth': [1, 3, 5, 7, 9]\n",
        "}\n",
        "\n",
        "gs_forest_cls = GridSearchCV(RandomForestClassifier(random_state = 1), \n",
        "                  param_grid = parameters, \n",
        "                  cv = 3,\n",
        "                  return_train_score = True)\n",
        "\n",
        "forest_scores = cross_val_score(gs_forest_cls,\n",
        "                         X = X_std,\n",
        "                         y = y_dm,\n",
        "                         cv = 10,\n",
        "                         n_jobs = -1)"
      ],
      "execution_count": null,
      "outputs": []
    },
    {
      "cell_type": "code",
      "metadata": {
        "colab": {
          "base_uri": "https://localhost:8080/"
        },
        "id": "bZoMOoHGafHQ",
        "outputId": "45fadfb9-921e-4286-994c-f33c0037d036"
      },
      "source": [
        "print(\"CV forest 정확도 점수 : %s\" %forest_scores)\n",
        "print(\"CV forest : %.3f +/- %.3f\" %(np.mean(forest_scores), np.std(forest_scores)))"
      ],
      "execution_count": null,
      "outputs": [
        {
          "output_type": "stream",
          "name": "stdout",
          "text": [
            "CV forest 정확도 점수 : [0.52293578 0.50458716 0.46788991 0.4587156  0.4537037  0.5\n",
            " 0.44444444 0.44444444 0.5462963  0.46296296]\n",
            "CV forest : 0.481 +/- 0.034\n"
          ]
        }
      ]
    },
    {
      "cell_type": "code",
      "metadata": {
        "colab": {
          "base_uri": "https://localhost:8080/"
        },
        "id": "TrsIVYK0V0Eh",
        "outputId": "23d06733-e988-4f57-87b9-b20fcf212d98"
      },
      "source": [
        "gs_forest_cls.fit(X_std, y_dm)\n",
        "print(gs_forest_cls.best_params_)\n",
        "print(gs_forest_cls.best_score_)"
      ],
      "execution_count": null,
      "outputs": [
        {
          "output_type": "stream",
          "name": "stdout",
          "text": [
            "{'max_depth': 7}\n",
            "0.49720696040770723\n"
          ]
        }
      ]
    },
    {
      "cell_type": "markdown",
      "metadata": {
        "id": "3WcKZrlNyRrW"
      },
      "source": [
        "> 랜덤 포레스트를 중첩 교차 검증하였을 때 평균적으로 정확도가 0.481이 나왔다. \n",
        "\n",
        " > 그리드 서치로 구한 best_params은 max_depth = 7이고, best_score = 0.49가 나왔습니다.\n",
        "\n"
      ]
    },
    {
      "cell_type": "markdown",
      "metadata": {
        "id": "Jvh8mF6rsQS-"
      },
      "source": [
        "KNN"
      ]
    },
    {
      "cell_type": "code",
      "metadata": {
        "id": "ToV0ozEnsL8e"
      },
      "source": [
        "from sklearn.neighbors import KNeighborsClassifier\n",
        "\n",
        "knn_cls = KNeighborsClassifier(n_neighbors = 6, \n",
        "                           p = 2)\n",
        "\n",
        "knn_cls.fit(X_std, y_dm)\n",
        "\n",
        "y_knn_cls = knn_cls.predict(X_std)"
      ],
      "execution_count": null,
      "outputs": []
    },
    {
      "cell_type": "code",
      "metadata": {
        "colab": {
          "base_uri": "https://localhost:8080/"
        },
        "id": "-2rJ40O5sMCG",
        "outputId": "c2cc11b5-2942-47ee-df28-d0d432457163"
      },
      "source": [
        "## 평균 오차 제곱\n",
        "\n",
        "print('훈련 MSE : %.3f' %mean_squared_error(y_dm, y_knn_cls))\n",
        "\n",
        "## 결정 계수\n",
        "print('훈련 R2 : %.3f' %r2_score(y_dm, y_knn_cls))"
      ],
      "execution_count": null,
      "outputs": [
        {
          "output_type": "stream",
          "name": "stdout",
          "text": [
            "훈련 MSE : 0.254\n",
            "훈련 R2 : -0.229\n"
          ]
        }
      ]
    },
    {
      "cell_type": "code",
      "metadata": {
        "colab": {
          "base_uri": "https://localhost:8080/"
        },
        "id": "uzOJ4SKnsL31",
        "outputId": "45abb173-2161-4945-f1d9-a8d1569cfe6c"
      },
      "source": [
        "parameters = {\n",
        "    'n_neighbors': [1, 3, 5, 7, 9]\n",
        "}\n",
        "\n",
        "gs = GridSearchCV(KNeighborsClassifier(p=2), \n",
        "                  param_grid = parameters, \n",
        "                  cv = 3,\n",
        "                  return_train_score = True)\n",
        "\n",
        "knn_scores = cross_val_score(gs,\n",
        "                         X = X_std,\n",
        "                         y = y_dm,\n",
        "                         cv = 5,\n",
        "                         n_jobs = -1)\n",
        "\n",
        "print(\"CV knn 정확도 점수 : %s\" %knn_scores)\n",
        "print(\"CV knn : %.3f +/- %.3f\" %(np.mean(knn_scores), np.std(knn_scores)))"
      ],
      "execution_count": null,
      "outputs": [
        {
          "output_type": "stream",
          "name": "stdout",
          "text": [
            "CV knn 정확도 점수 : [0.43317972 0.48847926 0.46543779 0.42396313 0.4537037 ]\n",
            "CV knn : 0.453 +/- 0.023\n"
          ]
        }
      ]
    },
    {
      "cell_type": "code",
      "metadata": {
        "colab": {
          "base_uri": "https://localhost:8080/"
        },
        "id": "SBYIidh_ZmIn",
        "outputId": "963243ca-3dd9-4c7b-9f6b-5e87ed582224"
      },
      "source": [
        "gs.fit(X_std, y_dm)\n",
        "print(gs.best_params_)\n",
        "print(gs.best_score_)"
      ],
      "execution_count": null,
      "outputs": [
        {
          "output_type": "stream",
          "name": "stdout",
          "text": [
            "{'n_neighbors': 9}\n",
            "0.4640220790417451\n"
          ]
        }
      ]
    },
    {
      "cell_type": "markdown",
      "metadata": {
        "id": "gvV97FW4ZqiF"
      },
      "source": [
        "> KNN에 중첩 교차 검증을 한 결과를 봤을 때는 이웃의 수가 9일 때가 가장 좋은 성능을 나타낸다고 나왔다."
      ]
    },
    {
      "cell_type": "markdown",
      "metadata": {
        "id": "_lGikgnQs4AA"
      },
      "source": [
        "PCA\n"
      ]
    },
    {
      "cell_type": "code",
      "metadata": {
        "colab": {
          "base_uri": "https://localhost:8080/"
        },
        "id": "MHxQ1m14s32k",
        "outputId": "db141bb9-a151-44a6-a212-df452a991050"
      },
      "source": [
        "from sklearn.decomposition import PCA\n",
        "\n",
        "pca = PCA(n_components = None)\n",
        "X_train_pca = pca.fit_transform(X_std)\n",
        "pca.explained_variance_ratio_"
      ],
      "execution_count": null,
      "outputs": [
        {
          "output_type": "execute_result",
          "data": {
            "text/plain": [
              "array([0.47426221, 0.06953532, 0.04569624, 0.03238332, 0.02465599,\n",
              "       0.01961195, 0.01749004, 0.01622259, 0.01555707, 0.01290311,\n",
              "       0.01220013, 0.01148737, 0.0110054 , 0.01001431, 0.00970544,\n",
              "       0.00919276, 0.00898888, 0.00851445, 0.00834121, 0.00801155,\n",
              "       0.00748759, 0.00693108, 0.00687277, 0.00660932, 0.0064193 ,\n",
              "       0.00623351, 0.00599446, 0.00585101, 0.00547776, 0.0054041 ,\n",
              "       0.00524592, 0.00494372, 0.00488012, 0.00471285, 0.00461003,\n",
              "       0.0045282 , 0.00413385, 0.00402724, 0.00383546, 0.0038008 ,\n",
              "       0.00370947, 0.00366313, 0.00345978, 0.0033682 , 0.00324912,\n",
              "       0.00303201, 0.00301783, 0.00294265, 0.00279185, 0.00271652,\n",
              "       0.0026544 , 0.00259688, 0.00254083, 0.0024201 , 0.00237782,\n",
              "       0.00225621, 0.002049  , 0.00199034, 0.0019113 , 0.00177637,\n",
              "       0.00167284, 0.00163444, 0.0014839 , 0.00141416, 0.00127157,\n",
              "       0.00120364, 0.00112007, 0.00096138, 0.00093575])"
            ]
          },
          "metadata": {},
          "execution_count": 81
        }
      ]
    },
    {
      "cell_type": "markdown",
      "metadata": {
        "id": "EQiLMd_KKEa9"
      },
      "source": [
        "> 주성분 분석을 사용하여 클래스 별 분류를 유도하려고 하였지만 생각보다 더 분산이 나오지 않아 주성분 분석은 사용하지 않았다. "
      ]
    },
    {
      "cell_type": "markdown",
      "metadata": {
        "id": "TREQFn3pbkRn"
      },
      "source": [
        "# Task 2 최종 결과\n",
        "> DXCHANGE : 랜덤 포레스트(max_depth = 7)"
      ]
    },
    {
      "cell_type": "markdown",
      "metadata": {
        "id": "AmY-rQKQfGH-"
      },
      "source": [
        "# **Test dataset**"
      ]
    },
    {
      "cell_type": "code",
      "metadata": {
        "colab": {
          "base_uri": "https://localhost:8080/",
          "height": 428
        },
        "id": "MT8KgGRqyfjJ",
        "outputId": "47b46d02-ed68-4546-f26e-317594f5b7ee"
      },
      "source": [
        "# Load test dataset\n",
        "test_data"
      ],
      "execution_count": null,
      "outputs": [
        {
          "output_type": "execute_result",
          "data": {
            "text/html": [
              "<div>\n",
              "<style scoped>\n",
              "    .dataframe tbody tr th:only-of-type {\n",
              "        vertical-align: middle;\n",
              "    }\n",
              "\n",
              "    .dataframe tbody tr th {\n",
              "        vertical-align: top;\n",
              "    }\n",
              "\n",
              "    .dataframe thead th {\n",
              "        text-align: right;\n",
              "    }\n",
              "</style>\n",
              "<table border=\"1\" class=\"dataframe\">\n",
              "  <thead>\n",
              "    <tr style=\"text-align: right;\">\n",
              "      <th></th>\n",
              "      <th>RID</th>\n",
              "      <th>DXCHANGE</th>\n",
              "      <th>AGE</th>\n",
              "      <th>MMSE</th>\n",
              "      <th>ADAS13</th>\n",
              "      <th>ST102TA_UCSFFSX_11_02_15_UCSFFSX51_08_01_16</th>\n",
              "      <th>ST103TA_UCSFFSX_11_02_15_UCSFFSX51_08_01_16</th>\n",
              "      <th>ST104TA_UCSFFSX_11_02_15_UCSFFSX51_08_01_16</th>\n",
              "      <th>ST105TA_UCSFFSX_11_02_15_UCSFFSX51_08_01_16</th>\n",
              "      <th>ST106TA_UCSFFSX_11_02_15_UCSFFSX51_08_01_16</th>\n",
              "      <th>ST107TA_UCSFFSX_11_02_15_UCSFFSX51_08_01_16</th>\n",
              "      <th>ST108TA_UCSFFSX_11_02_15_UCSFFSX51_08_01_16</th>\n",
              "      <th>ST109TA_UCSFFSX_11_02_15_UCSFFSX51_08_01_16</th>\n",
              "      <th>ST110TA_UCSFFSX_11_02_15_UCSFFSX51_08_01_16</th>\n",
              "      <th>ST111TA_UCSFFSX_11_02_15_UCSFFSX51_08_01_16</th>\n",
              "      <th>ST113TA_UCSFFSX_11_02_15_UCSFFSX51_08_01_16</th>\n",
              "      <th>ST114TA_UCSFFSX_11_02_15_UCSFFSX51_08_01_16</th>\n",
              "      <th>ST115TA_UCSFFSX_11_02_15_UCSFFSX51_08_01_16</th>\n",
              "      <th>ST116TA_UCSFFSX_11_02_15_UCSFFSX51_08_01_16</th>\n",
              "      <th>ST117TA_UCSFFSX_11_02_15_UCSFFSX51_08_01_16</th>\n",
              "      <th>ST118TA_UCSFFSX_11_02_15_UCSFFSX51_08_01_16</th>\n",
              "      <th>ST119TA_UCSFFSX_11_02_15_UCSFFSX51_08_01_16</th>\n",
              "      <th>ST121TA_UCSFFSX_11_02_15_UCSFFSX51_08_01_16</th>\n",
              "      <th>ST123TA_UCSFFSX_11_02_15_UCSFFSX51_08_01_16</th>\n",
              "      <th>ST129TA_UCSFFSX_11_02_15_UCSFFSX51_08_01_16</th>\n",
              "      <th>ST130TA_UCSFFSX_11_02_15_UCSFFSX51_08_01_16</th>\n",
              "      <th>ST13TA_UCSFFSX_11_02_15_UCSFFSX51_08_01_16</th>\n",
              "      <th>ST14TA_UCSFFSX_11_02_15_UCSFFSX51_08_01_16</th>\n",
              "      <th>ST15TA_UCSFFSX_11_02_15_UCSFFSX51_08_01_16</th>\n",
              "      <th>ST23TA_UCSFFSX_11_02_15_UCSFFSX51_08_01_16</th>\n",
              "      <th>ST24TA_UCSFFSX_11_02_15_UCSFFSX51_08_01_16</th>\n",
              "      <th>ST25TA_UCSFFSX_11_02_15_UCSFFSX51_08_01_16</th>\n",
              "      <th>ST26TA_UCSFFSX_11_02_15_UCSFFSX51_08_01_16</th>\n",
              "      <th>ST31TA_UCSFFSX_11_02_15_UCSFFSX51_08_01_16</th>\n",
              "      <th>ST32TA_UCSFFSX_11_02_15_UCSFFSX51_08_01_16</th>\n",
              "      <th>ST34TA_UCSFFSX_11_02_15_UCSFFSX51_08_01_16</th>\n",
              "      <th>ST35TA_UCSFFSX_11_02_15_UCSFFSX51_08_01_16</th>\n",
              "      <th>ST36TA_UCSFFSX_11_02_15_UCSFFSX51_08_01_16</th>\n",
              "      <th>ST38TA_UCSFFSX_11_02_15_UCSFFSX51_08_01_16</th>\n",
              "      <th>ST39TA_UCSFFSX_11_02_15_UCSFFSX51_08_01_16</th>\n",
              "      <th>ST40TA_UCSFFSX_11_02_15_UCSFFSX51_08_01_16</th>\n",
              "      <th>ST43TA_UCSFFSX_11_02_15_UCSFFSX51_08_01_16</th>\n",
              "      <th>ST44TA_UCSFFSX_11_02_15_UCSFFSX51_08_01_16</th>\n",
              "      <th>ST45TA_UCSFFSX_11_02_15_UCSFFSX51_08_01_16</th>\n",
              "      <th>ST46TA_UCSFFSX_11_02_15_UCSFFSX51_08_01_16</th>\n",
              "      <th>ST47TA_UCSFFSX_11_02_15_UCSFFSX51_08_01_16</th>\n",
              "      <th>ST48TA_UCSFFSX_11_02_15_UCSFFSX51_08_01_16</th>\n",
              "      <th>ST49TA_UCSFFSX_11_02_15_UCSFFSX51_08_01_16</th>\n",
              "      <th>ST50TA_UCSFFSX_11_02_15_UCSFFSX51_08_01_16</th>\n",
              "      <th>ST51TA_UCSFFSX_11_02_15_UCSFFSX51_08_01_16</th>\n",
              "      <th>ST52TA_UCSFFSX_11_02_15_UCSFFSX51_08_01_16</th>\n",
              "      <th>ST54TA_UCSFFSX_11_02_15_UCSFFSX51_08_01_16</th>\n",
              "      <th>ST55TA_UCSFFSX_11_02_15_UCSFFSX51_08_01_16</th>\n",
              "      <th>ST56TA_UCSFFSX_11_02_15_UCSFFSX51_08_01_16</th>\n",
              "      <th>ST57TA_UCSFFSX_11_02_15_UCSFFSX51_08_01_16</th>\n",
              "      <th>ST58TA_UCSFFSX_11_02_15_UCSFFSX51_08_01_16</th>\n",
              "      <th>ST59TA_UCSFFSX_11_02_15_UCSFFSX51_08_01_16</th>\n",
              "      <th>ST60TA_UCSFFSX_11_02_15_UCSFFSX51_08_01_16</th>\n",
              "      <th>ST62TA_UCSFFSX_11_02_15_UCSFFSX51_08_01_16</th>\n",
              "      <th>ST64TA_UCSFFSX_11_02_15_UCSFFSX51_08_01_16</th>\n",
              "      <th>ST72TA_UCSFFSX_11_02_15_UCSFFSX51_08_01_16</th>\n",
              "      <th>ST73TA_UCSFFSX_11_02_15_UCSFFSX51_08_01_16</th>\n",
              "      <th>ST74TA_UCSFFSX_11_02_15_UCSFFSX51_08_01_16</th>\n",
              "      <th>ST82TA_UCSFFSX_11_02_15_UCSFFSX51_08_01_16</th>\n",
              "      <th>ST83TA_UCSFFSX_11_02_15_UCSFFSX51_08_01_16</th>\n",
              "      <th>ST84TA_UCSFFSX_11_02_15_UCSFFSX51_08_01_16</th>\n",
              "      <th>ST85TA_UCSFFSX_11_02_15_UCSFFSX51_08_01_16</th>\n",
              "      <th>ST90TA_UCSFFSX_11_02_15_UCSFFSX51_08_01_16</th>\n",
              "      <th>ST91TA_UCSFFSX_11_02_15_UCSFFSX51_08_01_16</th>\n",
              "      <th>ST93TA_UCSFFSX_11_02_15_UCSFFSX51_08_01_16</th>\n",
              "      <th>ST94TA_UCSFFSX_11_02_15_UCSFFSX51_08_01_16</th>\n",
              "      <th>ST95TA_UCSFFSX_11_02_15_UCSFFSX51_08_01_16</th>\n",
              "      <th>ST97TA_UCSFFSX_11_02_15_UCSFFSX51_08_01_16</th>\n",
              "      <th>ST98TA_UCSFFSX_11_02_15_UCSFFSX51_08_01_16</th>\n",
              "      <th>ST99TA_UCSFFSX_11_02_15_UCSFFSX51_08_01_16</th>\n",
              "    </tr>\n",
              "  </thead>\n",
              "  <tbody>\n",
              "    <tr>\n",
              "      <th>1169</th>\n",
              "      <td>4401</td>\n",
              "      <td>1</td>\n",
              "      <td>67.5</td>\n",
              "      <td>30</td>\n",
              "      <td>5.00</td>\n",
              "      <td>2.333</td>\n",
              "      <td>2.701</td>\n",
              "      <td>2.741</td>\n",
              "      <td>2.614</td>\n",
              "      <td>2.477</td>\n",
              "      <td>1.603</td>\n",
              "      <td>1.872</td>\n",
              "      <td>2.412</td>\n",
              "      <td>2.360</td>\n",
              "      <td>2.399</td>\n",
              "      <td>2.530</td>\n",
              "      <td>2.252</td>\n",
              "      <td>2.641</td>\n",
              "      <td>2.098</td>\n",
              "      <td>2.833</td>\n",
              "      <td>2.468</td>\n",
              "      <td>3.660</td>\n",
              "      <td>2.431</td>\n",
              "      <td></td>\n",
              "      <td>2.953</td>\n",
              "      <td>2.982</td>\n",
              "      <td>2.445</td>\n",
              "      <td>2.439</td>\n",
              "      <td>2.419</td>\n",
              "      <td>2.027</td>\n",
              "      <td>3.547</td>\n",
              "      <td>2.637</td>\n",
              "      <td>2.808</td>\n",
              "      <td>2.350</td>\n",
              "      <td>2.714</td>\n",
              "      <td>2.517</td>\n",
              "      <td>2.240</td>\n",
              "      <td>2.551</td>\n",
              "      <td>2.103</td>\n",
              "      <td>2.211</td>\n",
              "      <td>2.874</td>\n",
              "      <td>2.335</td>\n",
              "      <td>2.699</td>\n",
              "      <td>2.446</td>\n",
              "      <td>2.712</td>\n",
              "      <td>2.284</td>\n",
              "      <td>1.633</td>\n",
              "      <td>2.038</td>\n",
              "      <td>2.508</td>\n",
              "      <td>2.611</td>\n",
              "      <td>2.318</td>\n",
              "      <td>2.747</td>\n",
              "      <td>2.166</td>\n",
              "      <td>2.730</td>\n",
              "      <td>2.154</td>\n",
              "      <td>2.756</td>\n",
              "      <td>2.386</td>\n",
              "      <td>4.095</td>\n",
              "      <td>2.354</td>\n",
              "      <td></td>\n",
              "      <td>2.612</td>\n",
              "      <td>2.552</td>\n",
              "      <td>2.467</td>\n",
              "      <td>1.970</td>\n",
              "      <td>3.615</td>\n",
              "      <td>2.564</td>\n",
              "      <td>2.832</td>\n",
              "      <td>2.302</td>\n",
              "      <td>2.973</td>\n",
              "      <td>2.139</td>\n",
              "      <td>2.322</td>\n",
              "      <td>2.496</td>\n",
              "      <td>2.095</td>\n",
              "      <td>2.106</td>\n",
              "      <td>3.019</td>\n",
              "    </tr>\n",
              "    <tr>\n",
              "      <th>942</th>\n",
              "      <td>4216</td>\n",
              "      <td>2</td>\n",
              "      <td>56.4</td>\n",
              "      <td>29</td>\n",
              "      <td>18.00</td>\n",
              "      <td>2.345</td>\n",
              "      <td>3.024</td>\n",
              "      <td>2.372</td>\n",
              "      <td>2.672</td>\n",
              "      <td>2.386</td>\n",
              "      <td>1.627</td>\n",
              "      <td>1.893</td>\n",
              "      <td>2.643</td>\n",
              "      <td>2.298</td>\n",
              "      <td>2.479</td>\n",
              "      <td>2.843</td>\n",
              "      <td>2.220</td>\n",
              "      <td>2.445</td>\n",
              "      <td>2.113</td>\n",
              "      <td>2.797</td>\n",
              "      <td>2.486</td>\n",
              "      <td>3.565</td>\n",
              "      <td>2.488</td>\n",
              "      <td></td>\n",
              "      <td>3.026</td>\n",
              "      <td>3.195</td>\n",
              "      <td>2.614</td>\n",
              "      <td>2.791</td>\n",
              "      <td>2.447</td>\n",
              "      <td>1.911</td>\n",
              "      <td>3.519</td>\n",
              "      <td>2.750</td>\n",
              "      <td>2.875</td>\n",
              "      <td>2.446</td>\n",
              "      <td>2.914</td>\n",
              "      <td>2.891</td>\n",
              "      <td>2.181</td>\n",
              "      <td>2.561</td>\n",
              "      <td>2.129</td>\n",
              "      <td>2.265</td>\n",
              "      <td>2.890</td>\n",
              "      <td>2.290</td>\n",
              "      <td>3.066</td>\n",
              "      <td>2.574</td>\n",
              "      <td>2.581</td>\n",
              "      <td>2.528</td>\n",
              "      <td>1.529</td>\n",
              "      <td>1.859</td>\n",
              "      <td>2.754</td>\n",
              "      <td>2.471</td>\n",
              "      <td>2.476</td>\n",
              "      <td>2.910</td>\n",
              "      <td>2.347</td>\n",
              "      <td>2.570</td>\n",
              "      <td>2.162</td>\n",
              "      <td>2.818</td>\n",
              "      <td>2.373</td>\n",
              "      <td>3.642</td>\n",
              "      <td>2.463</td>\n",
              "      <td></td>\n",
              "      <td>2.658</td>\n",
              "      <td>2.263</td>\n",
              "      <td>2.473</td>\n",
              "      <td>2.046</td>\n",
              "      <td>3.328</td>\n",
              "      <td>2.690</td>\n",
              "      <td>2.769</td>\n",
              "      <td>2.462</td>\n",
              "      <td>3.025</td>\n",
              "      <td>2.765</td>\n",
              "      <td>2.332</td>\n",
              "      <td>2.511</td>\n",
              "      <td>2.198</td>\n",
              "      <td>2.324</td>\n",
              "      <td>3.014</td>\n",
              "    </tr>\n",
              "    <tr>\n",
              "      <th>1182</th>\n",
              "      <td>294</td>\n",
              "      <td>2</td>\n",
              "      <td>79.2</td>\n",
              "      <td>26</td>\n",
              "      <td>16.00</td>\n",
              "      <td>1.703</td>\n",
              "      <td>2.383</td>\n",
              "      <td>2.116</td>\n",
              "      <td>2.212</td>\n",
              "      <td>1.927</td>\n",
              "      <td>1.127</td>\n",
              "      <td>1.549</td>\n",
              "      <td>2.277</td>\n",
              "      <td>1.759</td>\n",
              "      <td>1.742</td>\n",
              "      <td>2.490</td>\n",
              "      <td>1.838</td>\n",
              "      <td>2.125</td>\n",
              "      <td>1.660</td>\n",
              "      <td>2.396</td>\n",
              "      <td>2.033</td>\n",
              "      <td>4.014</td>\n",
              "      <td>1.624</td>\n",
              "      <td>1.018</td>\n",
              "      <td>2.713</td>\n",
              "      <td>2.682</td>\n",
              "      <td>1.897</td>\n",
              "      <td>2.395</td>\n",
              "      <td>1.961</td>\n",
              "      <td>1.508</td>\n",
              "      <td>3.540</td>\n",
              "      <td>2.465</td>\n",
              "      <td>2.298</td>\n",
              "      <td>1.954</td>\n",
              "      <td>2.282</td>\n",
              "      <td>2.148</td>\n",
              "      <td>1.755</td>\n",
              "      <td>2.256</td>\n",
              "      <td>1.612</td>\n",
              "      <td>2.057</td>\n",
              "      <td>2.283</td>\n",
              "      <td>1.637</td>\n",
              "      <td>2.605</td>\n",
              "      <td>2.237</td>\n",
              "      <td>2.030</td>\n",
              "      <td>2.240</td>\n",
              "      <td>1.253</td>\n",
              "      <td>1.521</td>\n",
              "      <td>1.892</td>\n",
              "      <td>1.706</td>\n",
              "      <td>1.858</td>\n",
              "      <td>2.470</td>\n",
              "      <td>1.854</td>\n",
              "      <td>2.142</td>\n",
              "      <td>1.649</td>\n",
              "      <td>2.446</td>\n",
              "      <td>1.976</td>\n",
              "      <td>3.608</td>\n",
              "      <td>1.705</td>\n",
              "      <td>1.049</td>\n",
              "      <td>2.219</td>\n",
              "      <td>2.560</td>\n",
              "      <td>2.017</td>\n",
              "      <td>1.475</td>\n",
              "      <td>3.759</td>\n",
              "      <td>2.272</td>\n",
              "      <td>2.296</td>\n",
              "      <td>1.949</td>\n",
              "      <td>2.416</td>\n",
              "      <td>2.160</td>\n",
              "      <td>1.705</td>\n",
              "      <td>2.259</td>\n",
              "      <td>1.606</td>\n",
              "      <td>2.028</td>\n",
              "      <td>2.515</td>\n",
              "    </tr>\n",
              "    <tr>\n",
              "      <th>31</th>\n",
              "      <td>4444</td>\n",
              "      <td>2</td>\n",
              "      <td>77.5</td>\n",
              "      <td>29</td>\n",
              "      <td>11.00</td>\n",
              "      <td>2.133</td>\n",
              "      <td>2.747</td>\n",
              "      <td>2.574</td>\n",
              "      <td>2.661</td>\n",
              "      <td>2.450</td>\n",
              "      <td>1.433</td>\n",
              "      <td>1.964</td>\n",
              "      <td>2.811</td>\n",
              "      <td>2.367</td>\n",
              "      <td>2.298</td>\n",
              "      <td>2.710</td>\n",
              "      <td>2.225</td>\n",
              "      <td>2.645</td>\n",
              "      <td>2.088</td>\n",
              "      <td>2.533</td>\n",
              "      <td>2.371</td>\n",
              "      <td>3.827</td>\n",
              "      <td>2.220</td>\n",
              "      <td></td>\n",
              "      <td>3.145</td>\n",
              "      <td>3.240</td>\n",
              "      <td>2.367</td>\n",
              "      <td>2.726</td>\n",
              "      <td>2.401</td>\n",
              "      <td>1.917</td>\n",
              "      <td>3.474</td>\n",
              "      <td>2.600</td>\n",
              "      <td>2.791</td>\n",
              "      <td>2.466</td>\n",
              "      <td>2.922</td>\n",
              "      <td>2.565</td>\n",
              "      <td>2.080</td>\n",
              "      <td>2.492</td>\n",
              "      <td>1.950</td>\n",
              "      <td>2.317</td>\n",
              "      <td>2.898</td>\n",
              "      <td>2.172</td>\n",
              "      <td>2.643</td>\n",
              "      <td>2.328</td>\n",
              "      <td>2.645</td>\n",
              "      <td>2.162</td>\n",
              "      <td>1.560</td>\n",
              "      <td>1.970</td>\n",
              "      <td>2.756</td>\n",
              "      <td>2.235</td>\n",
              "      <td>2.269</td>\n",
              "      <td>3.171</td>\n",
              "      <td>2.208</td>\n",
              "      <td>2.744</td>\n",
              "      <td>2.088</td>\n",
              "      <td>2.503</td>\n",
              "      <td>2.387</td>\n",
              "      <td>3.254</td>\n",
              "      <td>2.128</td>\n",
              "      <td></td>\n",
              "      <td>2.638</td>\n",
              "      <td>2.539</td>\n",
              "      <td>2.426</td>\n",
              "      <td>1.794</td>\n",
              "      <td>4.250</td>\n",
              "      <td>2.315</td>\n",
              "      <td>2.827</td>\n",
              "      <td>2.536</td>\n",
              "      <td>3.026</td>\n",
              "      <td>2.859</td>\n",
              "      <td>2.299</td>\n",
              "      <td>2.632</td>\n",
              "      <td>2.084</td>\n",
              "      <td>2.232</td>\n",
              "      <td>3.192</td>\n",
              "    </tr>\n",
              "    <tr>\n",
              "      <th>142</th>\n",
              "      <td>4620</td>\n",
              "      <td>1</td>\n",
              "      <td>77.1</td>\n",
              "      <td>30</td>\n",
              "      <td>9.00</td>\n",
              "      <td>2.405</td>\n",
              "      <td>2.181</td>\n",
              "      <td>2.508</td>\n",
              "      <td>2.663</td>\n",
              "      <td>2.464</td>\n",
              "      <td>1.459</td>\n",
              "      <td>1.941</td>\n",
              "      <td>2.738</td>\n",
              "      <td>2.518</td>\n",
              "      <td>2.385</td>\n",
              "      <td>2.893</td>\n",
              "      <td>2.256</td>\n",
              "      <td>2.635</td>\n",
              "      <td>2.229</td>\n",
              "      <td>2.652</td>\n",
              "      <td>2.545</td>\n",
              "      <td>3.728</td>\n",
              "      <td>2.476</td>\n",
              "      <td></td>\n",
              "      <td>2.817</td>\n",
              "      <td>2.860</td>\n",
              "      <td>2.493</td>\n",
              "      <td>3.031</td>\n",
              "      <td>2.574</td>\n",
              "      <td>1.917</td>\n",
              "      <td>3.583</td>\n",
              "      <td>2.671</td>\n",
              "      <td>2.884</td>\n",
              "      <td>2.606</td>\n",
              "      <td>3.026</td>\n",
              "      <td>2.467</td>\n",
              "      <td>2.103</td>\n",
              "      <td>2.575</td>\n",
              "      <td>1.809</td>\n",
              "      <td>2.577</td>\n",
              "      <td>3.011</td>\n",
              "      <td>2.420</td>\n",
              "      <td>2.161</td>\n",
              "      <td>2.466</td>\n",
              "      <td>3.051</td>\n",
              "      <td>2.520</td>\n",
              "      <td>1.450</td>\n",
              "      <td>1.995</td>\n",
              "      <td>2.993</td>\n",
              "      <td>2.561</td>\n",
              "      <td>2.397</td>\n",
              "      <td>3.217</td>\n",
              "      <td>2.233</td>\n",
              "      <td>2.581</td>\n",
              "      <td>2.233</td>\n",
              "      <td>2.679</td>\n",
              "      <td>2.457</td>\n",
              "      <td>3.497</td>\n",
              "      <td>1.881</td>\n",
              "      <td></td>\n",
              "      <td>2.413</td>\n",
              "      <td>3.053</td>\n",
              "      <td>2.445</td>\n",
              "      <td>1.825</td>\n",
              "      <td>3.057</td>\n",
              "      <td>2.727</td>\n",
              "      <td>2.618</td>\n",
              "      <td>2.590</td>\n",
              "      <td>3.049</td>\n",
              "      <td>2.358</td>\n",
              "      <td>2.187</td>\n",
              "      <td>2.625</td>\n",
              "      <td>1.881</td>\n",
              "      <td>2.534</td>\n",
              "      <td>3.029</td>\n",
              "    </tr>\n",
              "    <tr>\n",
              "      <th>...</th>\n",
              "      <td>...</td>\n",
              "      <td>...</td>\n",
              "      <td>...</td>\n",
              "      <td>...</td>\n",
              "      <td>...</td>\n",
              "      <td>...</td>\n",
              "      <td>...</td>\n",
              "      <td>...</td>\n",
              "      <td>...</td>\n",
              "      <td>...</td>\n",
              "      <td>...</td>\n",
              "      <td>...</td>\n",
              "      <td>...</td>\n",
              "      <td>...</td>\n",
              "      <td>...</td>\n",
              "      <td>...</td>\n",
              "      <td>...</td>\n",
              "      <td>...</td>\n",
              "      <td>...</td>\n",
              "      <td>...</td>\n",
              "      <td>...</td>\n",
              "      <td>...</td>\n",
              "      <td>...</td>\n",
              "      <td>...</td>\n",
              "      <td>...</td>\n",
              "      <td>...</td>\n",
              "      <td>...</td>\n",
              "      <td>...</td>\n",
              "      <td>...</td>\n",
              "      <td>...</td>\n",
              "      <td>...</td>\n",
              "      <td>...</td>\n",
              "      <td>...</td>\n",
              "      <td>...</td>\n",
              "      <td>...</td>\n",
              "      <td>...</td>\n",
              "      <td>...</td>\n",
              "      <td>...</td>\n",
              "      <td>...</td>\n",
              "      <td>...</td>\n",
              "      <td>...</td>\n",
              "      <td>...</td>\n",
              "      <td>...</td>\n",
              "      <td>...</td>\n",
              "      <td>...</td>\n",
              "      <td>...</td>\n",
              "      <td>...</td>\n",
              "      <td>...</td>\n",
              "      <td>...</td>\n",
              "      <td>...</td>\n",
              "      <td>...</td>\n",
              "      <td>...</td>\n",
              "      <td>...</td>\n",
              "      <td>...</td>\n",
              "      <td>...</td>\n",
              "      <td>...</td>\n",
              "      <td>...</td>\n",
              "      <td>...</td>\n",
              "      <td>...</td>\n",
              "      <td>...</td>\n",
              "      <td>...</td>\n",
              "      <td>...</td>\n",
              "      <td>...</td>\n",
              "      <td>...</td>\n",
              "      <td>...</td>\n",
              "      <td>...</td>\n",
              "      <td>...</td>\n",
              "      <td>...</td>\n",
              "      <td>...</td>\n",
              "      <td>...</td>\n",
              "      <td>...</td>\n",
              "      <td>...</td>\n",
              "      <td>...</td>\n",
              "      <td>...</td>\n",
              "      <td>...</td>\n",
              "    </tr>\n",
              "    <tr>\n",
              "      <th>411</th>\n",
              "      <td>753</td>\n",
              "      <td>3</td>\n",
              "      <td>65.5</td>\n",
              "      <td>24</td>\n",
              "      <td>32.33</td>\n",
              "      <td>2.078</td>\n",
              "      <td>1.868</td>\n",
              "      <td>2.324</td>\n",
              "      <td>2.546</td>\n",
              "      <td>2.084</td>\n",
              "      <td>1.349</td>\n",
              "      <td>1.832</td>\n",
              "      <td>2.411</td>\n",
              "      <td>2.241</td>\n",
              "      <td>1.903</td>\n",
              "      <td>2.918</td>\n",
              "      <td>2.123</td>\n",
              "      <td>2.435</td>\n",
              "      <td>1.856</td>\n",
              "      <td>2.450</td>\n",
              "      <td>2.270</td>\n",
              "      <td>3.225</td>\n",
              "      <td>2.244</td>\n",
              "      <td>0.948</td>\n",
              "      <td>2.672</td>\n",
              "      <td>2.809</td>\n",
              "      <td>2.068</td>\n",
              "      <td>2.088</td>\n",
              "      <td>2.013</td>\n",
              "      <td>1.707</td>\n",
              "      <td>2.648</td>\n",
              "      <td>3.175</td>\n",
              "      <td>2.274</td>\n",
              "      <td>1.867</td>\n",
              "      <td>2.455</td>\n",
              "      <td>2.175</td>\n",
              "      <td>1.908</td>\n",
              "      <td>2.543</td>\n",
              "      <td>1.696</td>\n",
              "      <td>2.030</td>\n",
              "      <td>2.529</td>\n",
              "      <td>2.042</td>\n",
              "      <td>2.268</td>\n",
              "      <td>2.208</td>\n",
              "      <td>2.673</td>\n",
              "      <td>2.300</td>\n",
              "      <td>1.382</td>\n",
              "      <td>1.847</td>\n",
              "      <td>2.312</td>\n",
              "      <td>2.072</td>\n",
              "      <td>1.981</td>\n",
              "      <td>2.414</td>\n",
              "      <td>2.210</td>\n",
              "      <td>2.338</td>\n",
              "      <td>1.804</td>\n",
              "      <td>2.368</td>\n",
              "      <td>2.148</td>\n",
              "      <td>3.008</td>\n",
              "      <td>1.712</td>\n",
              "      <td>0.866</td>\n",
              "      <td>2.321</td>\n",
              "      <td>2.211</td>\n",
              "      <td>2.095</td>\n",
              "      <td>1.549</td>\n",
              "      <td>2.630</td>\n",
              "      <td>2.768</td>\n",
              "      <td>2.230</td>\n",
              "      <td>2.103</td>\n",
              "      <td>2.430</td>\n",
              "      <td>1.832</td>\n",
              "      <td>1.790</td>\n",
              "      <td>2.467</td>\n",
              "      <td>1.711</td>\n",
              "      <td>2.090</td>\n",
              "      <td>2.494</td>\n",
              "    </tr>\n",
              "    <tr>\n",
              "      <th>654</th>\n",
              "      <td>741</td>\n",
              "      <td>1</td>\n",
              "      <td>80.3</td>\n",
              "      <td>28</td>\n",
              "      <td>10.67</td>\n",
              "      <td>1.930</td>\n",
              "      <td>2.015</td>\n",
              "      <td>2.432</td>\n",
              "      <td>2.417</td>\n",
              "      <td>2.315</td>\n",
              "      <td>1.436</td>\n",
              "      <td>1.745</td>\n",
              "      <td>2.197</td>\n",
              "      <td>2.173</td>\n",
              "      <td>2.064</td>\n",
              "      <td>2.935</td>\n",
              "      <td>2.048</td>\n",
              "      <td>2.597</td>\n",
              "      <td>2.065</td>\n",
              "      <td>2.424</td>\n",
              "      <td>2.237</td>\n",
              "      <td>2.963</td>\n",
              "      <td>2.132</td>\n",
              "      <td>0.956</td>\n",
              "      <td>2.831</td>\n",
              "      <td>2.806</td>\n",
              "      <td>2.390</td>\n",
              "      <td>2.530</td>\n",
              "      <td>2.425</td>\n",
              "      <td>1.547</td>\n",
              "      <td>2.952</td>\n",
              "      <td>2.570</td>\n",
              "      <td>2.785</td>\n",
              "      <td>2.358</td>\n",
              "      <td>2.738</td>\n",
              "      <td>2.493</td>\n",
              "      <td>2.200</td>\n",
              "      <td>2.358</td>\n",
              "      <td>1.723</td>\n",
              "      <td>2.304</td>\n",
              "      <td>2.815</td>\n",
              "      <td>2.098</td>\n",
              "      <td>2.774</td>\n",
              "      <td>2.416</td>\n",
              "      <td>2.281</td>\n",
              "      <td>2.308</td>\n",
              "      <td>1.394</td>\n",
              "      <td>1.870</td>\n",
              "      <td>2.553</td>\n",
              "      <td>2.116</td>\n",
              "      <td>2.146</td>\n",
              "      <td>2.707</td>\n",
              "      <td>2.119</td>\n",
              "      <td>2.537</td>\n",
              "      <td>2.106</td>\n",
              "      <td>2.642</td>\n",
              "      <td>2.380</td>\n",
              "      <td>3.784</td>\n",
              "      <td>2.337</td>\n",
              "      <td>1.172</td>\n",
              "      <td>2.307</td>\n",
              "      <td>2.548</td>\n",
              "      <td>2.416</td>\n",
              "      <td>1.694</td>\n",
              "      <td>2.305</td>\n",
              "      <td>2.805</td>\n",
              "      <td>2.555</td>\n",
              "      <td>2.293</td>\n",
              "      <td>2.841</td>\n",
              "      <td>2.370</td>\n",
              "      <td>2.319</td>\n",
              "      <td>2.402</td>\n",
              "      <td>1.830</td>\n",
              "      <td>2.378</td>\n",
              "      <td>2.621</td>\n",
              "    </tr>\n",
              "    <tr>\n",
              "      <th>251</th>\n",
              "      <td>5248</td>\n",
              "      <td>1</td>\n",
              "      <td>74.3</td>\n",
              "      <td>30</td>\n",
              "      <td>7.00</td>\n",
              "      <td>2.388</td>\n",
              "      <td>2.472</td>\n",
              "      <td>2.499</td>\n",
              "      <td>2.822</td>\n",
              "      <td>2.303</td>\n",
              "      <td>1.494</td>\n",
              "      <td>1.867</td>\n",
              "      <td>2.382</td>\n",
              "      <td>2.292</td>\n",
              "      <td>2.352</td>\n",
              "      <td>3.074</td>\n",
              "      <td>2.272</td>\n",
              "      <td>2.611</td>\n",
              "      <td>2.024</td>\n",
              "      <td>2.770</td>\n",
              "      <td>2.562</td>\n",
              "      <td>3.683</td>\n",
              "      <td>2.248</td>\n",
              "      <td></td>\n",
              "      <td>3.089</td>\n",
              "      <td>3.071</td>\n",
              "      <td>2.520</td>\n",
              "      <td>2.822</td>\n",
              "      <td>2.458</td>\n",
              "      <td>1.799</td>\n",
              "      <td>4.158</td>\n",
              "      <td>3.357</td>\n",
              "      <td>2.764</td>\n",
              "      <td>2.303</td>\n",
              "      <td>3.110</td>\n",
              "      <td>2.694</td>\n",
              "      <td>2.181</td>\n",
              "      <td>2.627</td>\n",
              "      <td>1.943</td>\n",
              "      <td>2.482</td>\n",
              "      <td>2.745</td>\n",
              "      <td>2.150</td>\n",
              "      <td>2.210</td>\n",
              "      <td>2.497</td>\n",
              "      <td>2.676</td>\n",
              "      <td>2.539</td>\n",
              "      <td>1.487</td>\n",
              "      <td>1.839</td>\n",
              "      <td>2.773</td>\n",
              "      <td>2.222</td>\n",
              "      <td>2.220</td>\n",
              "      <td>2.828</td>\n",
              "      <td>2.255</td>\n",
              "      <td>2.648</td>\n",
              "      <td>1.979</td>\n",
              "      <td>2.756</td>\n",
              "      <td>2.423</td>\n",
              "      <td>3.536</td>\n",
              "      <td>2.425</td>\n",
              "      <td></td>\n",
              "      <td>2.281</td>\n",
              "      <td>2.560</td>\n",
              "      <td>2.406</td>\n",
              "      <td>1.925</td>\n",
              "      <td>4.055</td>\n",
              "      <td>3.109</td>\n",
              "      <td>2.836</td>\n",
              "      <td>2.447</td>\n",
              "      <td>2.884</td>\n",
              "      <td>2.451</td>\n",
              "      <td>2.234</td>\n",
              "      <td>2.596</td>\n",
              "      <td>2.013</td>\n",
              "      <td>2.561</td>\n",
              "      <td>2.944</td>\n",
              "    </tr>\n",
              "    <tr>\n",
              "      <th>446</th>\n",
              "      <td>2087</td>\n",
              "      <td>2</td>\n",
              "      <td>69.5</td>\n",
              "      <td>26</td>\n",
              "      <td>20.00</td>\n",
              "      <td>2.334</td>\n",
              "      <td>2.957</td>\n",
              "      <td>2.392</td>\n",
              "      <td>2.277</td>\n",
              "      <td>2.276</td>\n",
              "      <td>1.527</td>\n",
              "      <td>1.895</td>\n",
              "      <td>2.147</td>\n",
              "      <td>2.298</td>\n",
              "      <td>2.204</td>\n",
              "      <td>2.657</td>\n",
              "      <td>2.127</td>\n",
              "      <td>2.424</td>\n",
              "      <td>2.010</td>\n",
              "      <td>2.491</td>\n",
              "      <td>2.392</td>\n",
              "      <td>3.521</td>\n",
              "      <td>2.396</td>\n",
              "      <td></td>\n",
              "      <td>3.011</td>\n",
              "      <td>2.837</td>\n",
              "      <td>2.457</td>\n",
              "      <td>2.898</td>\n",
              "      <td>2.495</td>\n",
              "      <td>1.751</td>\n",
              "      <td>3.425</td>\n",
              "      <td>2.340</td>\n",
              "      <td>2.537</td>\n",
              "      <td>2.322</td>\n",
              "      <td>2.556</td>\n",
              "      <td>2.178</td>\n",
              "      <td>1.958</td>\n",
              "      <td>2.443</td>\n",
              "      <td>1.892</td>\n",
              "      <td>2.381</td>\n",
              "      <td>2.778</td>\n",
              "      <td>2.493</td>\n",
              "      <td>3.317</td>\n",
              "      <td>2.481</td>\n",
              "      <td>2.612</td>\n",
              "      <td>2.257</td>\n",
              "      <td>1.592</td>\n",
              "      <td>1.984</td>\n",
              "      <td>2.278</td>\n",
              "      <td>2.483</td>\n",
              "      <td>2.260</td>\n",
              "      <td>2.836</td>\n",
              "      <td>2.141</td>\n",
              "      <td>2.443</td>\n",
              "      <td>2.109</td>\n",
              "      <td>2.546</td>\n",
              "      <td>2.409</td>\n",
              "      <td>3.365</td>\n",
              "      <td>2.091</td>\n",
              "      <td></td>\n",
              "      <td>2.411</td>\n",
              "      <td>2.117</td>\n",
              "      <td>2.258</td>\n",
              "      <td>1.682</td>\n",
              "      <td>3.604</td>\n",
              "      <td>2.405</td>\n",
              "      <td>2.634</td>\n",
              "      <td>2.254</td>\n",
              "      <td>2.703</td>\n",
              "      <td>2.200</td>\n",
              "      <td>2.038</td>\n",
              "      <td>2.391</td>\n",
              "      <td>1.938</td>\n",
              "      <td>2.228</td>\n",
              "      <td>2.723</td>\n",
              "    </tr>\n",
              "    <tr>\n",
              "      <th>669</th>\n",
              "      <td>4985</td>\n",
              "      <td>2</td>\n",
              "      <td>78.7</td>\n",
              "      <td>26</td>\n",
              "      <td>19.00</td>\n",
              "      <td>2.062</td>\n",
              "      <td>2.252</td>\n",
              "      <td>2.361</td>\n",
              "      <td>2.299</td>\n",
              "      <td>2.032</td>\n",
              "      <td>1.492</td>\n",
              "      <td>1.789</td>\n",
              "      <td>1.997</td>\n",
              "      <td>2.178</td>\n",
              "      <td>1.966</td>\n",
              "      <td>3.040</td>\n",
              "      <td>2.137</td>\n",
              "      <td>2.440</td>\n",
              "      <td>2.164</td>\n",
              "      <td>2.329</td>\n",
              "      <td>1.933</td>\n",
              "      <td>3.507</td>\n",
              "      <td>1.986</td>\n",
              "      <td></td>\n",
              "      <td>2.779</td>\n",
              "      <td>2.541</td>\n",
              "      <td>1.863</td>\n",
              "      <td>3.103</td>\n",
              "      <td>2.384</td>\n",
              "      <td>1.953</td>\n",
              "      <td>3.560</td>\n",
              "      <td>2.304</td>\n",
              "      <td>2.418</td>\n",
              "      <td>1.975</td>\n",
              "      <td>2.408</td>\n",
              "      <td>2.014</td>\n",
              "      <td>1.926</td>\n",
              "      <td>2.797</td>\n",
              "      <td>1.910</td>\n",
              "      <td>2.147</td>\n",
              "      <td>2.177</td>\n",
              "      <td>2.007</td>\n",
              "      <td>1.952</td>\n",
              "      <td>2.240</td>\n",
              "      <td>2.378</td>\n",
              "      <td>2.302</td>\n",
              "      <td>1.500</td>\n",
              "      <td>1.797</td>\n",
              "      <td>2.558</td>\n",
              "      <td>2.278</td>\n",
              "      <td>2.075</td>\n",
              "      <td>2.373</td>\n",
              "      <td>2.030</td>\n",
              "      <td>2.565</td>\n",
              "      <td>2.147</td>\n",
              "      <td>2.196</td>\n",
              "      <td>1.900</td>\n",
              "      <td>3.344</td>\n",
              "      <td>1.849</td>\n",
              "      <td></td>\n",
              "      <td>2.117</td>\n",
              "      <td>1.952</td>\n",
              "      <td>2.407</td>\n",
              "      <td>1.867</td>\n",
              "      <td>3.322</td>\n",
              "      <td>2.440</td>\n",
              "      <td>2.458</td>\n",
              "      <td>2.106</td>\n",
              "      <td>2.572</td>\n",
              "      <td>1.844</td>\n",
              "      <td>2.135</td>\n",
              "      <td>2.600</td>\n",
              "      <td>1.804</td>\n",
              "      <td>2.789</td>\n",
              "      <td>2.434</td>\n",
              "    </tr>\n",
              "  </tbody>\n",
              "</table>\n",
              "<p>273 rows × 75 columns</p>\n",
              "</div>"
            ],
            "text/plain": [
              "       RID  ...  ST99TA_UCSFFSX_11_02_15_UCSFFSX51_08_01_16\n",
              "1169  4401  ...                                       3.019\n",
              "942   4216  ...                                       3.014\n",
              "1182   294  ...                                       2.515\n",
              "31    4444  ...                                       3.192\n",
              "142   4620  ...                                       3.029\n",
              "...    ...  ...                                         ...\n",
              "411    753  ...                                       2.494\n",
              "654    741  ...                                       2.621\n",
              "251   5248  ...                                       2.944\n",
              "446   2087  ...                                       2.723\n",
              "669   4985  ...                                       2.434\n",
              "\n",
              "[273 rows x 75 columns]"
            ]
          },
          "metadata": {},
          "execution_count": 82
        }
      ]
    },
    {
      "cell_type": "markdown",
      "metadata": {
        "id": "IevlYhxDtJtA"
      },
      "source": [
        "## **Test data : Refine**"
      ]
    },
    {
      "cell_type": "code",
      "metadata": {
        "id": "jdb3gRNVoezL"
      },
      "source": [
        "test = test_data.copy()"
      ],
      "execution_count": null,
      "outputs": []
    },
    {
      "cell_type": "code",
      "metadata": {
        "id": "pJdnntr_oyoz"
      },
      "source": [
        "# 01. 변수 제거 : RID \n",
        "test.drop(\"RID\", axis = 1, inplace = True)"
      ],
      "execution_count": null,
      "outputs": []
    },
    {
      "cell_type": "code",
      "metadata": {
        "id": "BChbgNMKu0bF"
      },
      "source": [
        "# 02. 결측치 처리 : 행/열 제거\n",
        "test.replace(' ', np.nan, inplace = True)\n",
        "test['ST123TA_UCSFFSX_11_02_15_UCSFFSX51_08_01_16'] = test['ST123TA_UCSFFSX_11_02_15_UCSFFSX51_08_01_16'].astype('float')\n",
        "test['ST64TA_UCSFFSX_11_02_15_UCSFFSX51_08_01_16'] = test['ST64TA_UCSFFSX_11_02_15_UCSFFSX51_08_01_16'].astype('float')"
      ],
      "execution_count": null,
      "outputs": []
    },
    {
      "cell_type": "code",
      "metadata": {
        "id": "tBO7UfkdF0NP"
      },
      "source": [
        "test.dropna(axis = 0, inplace = True, subset = ['ST24TA_UCSFFSX_11_02_15_UCSFFSX51_08_01_16', \n",
        "                                                 'ST44TA_UCSFFSX_11_02_15_UCSFFSX51_08_01_16', \n",
        "                                                 'ADAS13'])"
      ],
      "execution_count": null,
      "outputs": []
    },
    {
      "cell_type": "code",
      "metadata": {
        "id": "xkqLzGs16GM7"
      },
      "source": [
        "test = test.drop(['ST123TA_UCSFFSX_11_02_15_UCSFFSX51_08_01_16',\n",
        "                    'ST64TA_UCSFFSX_11_02_15_UCSFFSX51_08_01_16'], axis = 1)"
      ],
      "execution_count": null,
      "outputs": []
    },
    {
      "cell_type": "code",
      "metadata": {
        "id": "a5-PXBtp3CKW"
      },
      "source": [
        "# test.info()"
      ],
      "execution_count": null,
      "outputs": []
    },
    {
      "cell_type": "code",
      "metadata": {
        "id": "L0o44IL1AB_c"
      },
      "source": [
        "# 03. 레이블 분리\n",
        "y_test_reg = test[[\"MMSE\", \"ADAS13\"]].copy()\n",
        "y_test_cls = test[[\"DXCHANGE\"]].copy()\n",
        "X_test = test.drop(['MMSE', \"ADAS13\", \"DXCHANGE\"], axis = 1, inplace = False)"
      ],
      "execution_count": null,
      "outputs": []
    },
    {
      "cell_type": "code",
      "metadata": {
        "id": "vY5q27BjY7Oa"
      },
      "source": [
        "y_test_dm = pd.get_dummies(y_test_cls['DXCHANGE'], drop_first = True)"
      ],
      "execution_count": null,
      "outputs": []
    },
    {
      "cell_type": "code",
      "metadata": {
        "id": "kC25uCoQt1ms"
      },
      "source": [
        "# 04. 정규화 : StandardScaler\n",
        "\n",
        "# std_test = StandardScaler()\n",
        "stdsc = StandardScaler()\n",
        "test_std = stdsc.fit_transform(X_test)"
      ],
      "execution_count": null,
      "outputs": []
    },
    {
      "cell_type": "markdown",
      "metadata": {
        "id": "ie8E8J-2chQx"
      },
      "source": [
        "## 모델 적용"
      ]
    },
    {
      "cell_type": "code",
      "metadata": {
        "id": "U4tMZeG9vwgT"
      },
      "source": [
        "## 회귀 모델 : RandomForest\n",
        "\n",
        "test_reg = gs_forest.predict(test_std)"
      ],
      "execution_count": null,
      "outputs": []
    },
    {
      "cell_type": "code",
      "metadata": {
        "id": "B3Ut1u0D4BSy"
      },
      "source": [
        "## 분류 모델 :  RandomForest\n",
        "\n",
        "test_cls = gs_forest_cls.predict(test_std)"
      ],
      "execution_count": null,
      "outputs": []
    },
    {
      "cell_type": "markdown",
      "metadata": {
        "id": "dOw-UZYAIavv"
      },
      "source": [
        "### 회귀 모델 : 성능 평가\n",
        "* 평균 오차 제곱(MSE)\n",
        "* 결정 계수(R-squared)"
      ]
    },
    {
      "cell_type": "code",
      "metadata": {
        "colab": {
          "base_uri": "https://localhost:8080/"
        },
        "id": "94rsUf4ACX5W",
        "outputId": "22ef75af-59f9-4bc0-8b99-73d45a5e653a"
      },
      "source": [
        "## 평균 오차 제곱\n",
        "\n",
        "print('훈련 MSE : %.3f' %mean_squared_error(y_test_reg, test_reg))\n",
        "print(\"\\n\")\n",
        "\n",
        "## 결정 계수\n",
        "\n",
        "print('훈련 R2 : %.3f' %r2_score(y_test_reg, test_reg))"
      ],
      "execution_count": null,
      "outputs": [
        {
          "output_type": "stream",
          "name": "stdout",
          "text": [
            "훈련 MSE : 29.072\n",
            "\n",
            "\n",
            "훈련 R2 : 0.443\n"
          ]
        }
      ]
    },
    {
      "cell_type": "markdown",
      "metadata": {
        "id": "AV2MQk8jIfEx"
      },
      "source": [
        "### 분류 모델 : 성능 평가\n",
        "* 평균 오차 제곱(MSE)\n",
        "* 결정 계수(R-squared)\n",
        "\n"
      ]
    },
    {
      "cell_type": "code",
      "metadata": {
        "colab": {
          "base_uri": "https://localhost:8080/"
        },
        "id": "U1a5EiOBIekw",
        "outputId": "4efcea60-7709-4ca4-fc33-7887f45c7356"
      },
      "source": [
        "print('훈련 MSE : %.3f' %mean_squared_error(y_test_dm, test_cls))\n",
        "print(\"\\n\")\n",
        "\n",
        "## 결정 계수\n",
        "\n",
        "print('훈련 R2 : %.3f' %r2_score(y_test_dm, test_cls))"
      ],
      "execution_count": null,
      "outputs": [
        {
          "output_type": "stream",
          "name": "stdout",
          "text": [
            "훈련 MSE : 0.285\n",
            "\n",
            "\n",
            "훈련 R2 : -0.328\n"
          ]
        }
      ]
    },
    {
      "cell_type": "code",
      "metadata": {
        "id": "-Z4w7N5LgF9r"
      },
      "source": [
        ""
      ],
      "execution_count": null,
      "outputs": []
    }
  ]
}